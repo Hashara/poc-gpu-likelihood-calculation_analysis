{
 "cells": [
  {
   "cell_type": "code",
   "outputs": [],
   "source": [
    "import os\n",
    "import re\n",
    "import csv\n",
    "import numpy as np\n"
   ],
   "metadata": {
    "collapsed": false,
    "ExecuteTime": {
     "end_time": "2025-10-09T02:48:59.804429Z",
     "start_time": "2025-10-09T02:48:59.140947Z"
    }
   },
   "id": "79517fe647b4eabc",
   "execution_count": 1
  },
  {
   "cell_type": "code",
   "outputs": [],
   "source": [
    "cwd = os.getcwd()"
   ],
   "metadata": {
    "collapsed": false,
    "ExecuteTime": {
     "end_time": "2025-10-09T02:48:59.810291Z",
     "start_time": "2025-10-09T02:48:59.807347Z"
    }
   },
   "id": "4888681e2f33553e",
   "execution_count": 2
  },
  {
   "cell_type": "markdown",
   "source": [],
   "metadata": {
    "collapsed": false
   },
   "id": "a7c6d7f5e1dc79ec"
  },
  {
   "cell_type": "markdown",
   "source": [
    "# preapre CSV"
   ],
   "metadata": {
    "collapsed": false
   },
   "id": "43a97ce4ed941acb"
  },
  {
   "cell_type": "code",
   "outputs": [],
   "source": [],
   "metadata": {
    "collapsed": false,
    "ExecuteTime": {
     "end_time": "2025-10-08T04:59:13.427294Z",
     "start_time": "2025-10-08T04:59:13.425659Z"
    }
   },
   "id": "f26d57b5c68e8a70",
   "execution_count": 21
  },
  {
   "cell_type": "code",
   "outputs": [],
   "source": [
    "results_path = \"/Users/u7826985/Projects/Nvidia/results/3M_seq_length/100taxa_diff_trees_3M_sites\"\n",
    "output_csv = f\"{results_path}/results.csv\""
   ],
   "metadata": {
    "collapsed": false,
    "ExecuteTime": {
     "end_time": "2025-10-08T04:59:13.436535Z",
     "start_time": "2025-10-08T04:59:13.433618Z"
    }
   },
   "id": "c8ab120169e7a438",
   "execution_count": 22
  },
  {
   "cell_type": "code",
   "outputs": [],
   "source": [
    "# Regex to capture the RESULT line\n",
    "pattern = re.compile(\n",
    "    r\"\\[RESULT\\]\\s*backend=(\\w+)\\s+taxa=(\\d+)\\s+sites=(\\d+)\\s+patterns=(\\d+)\\s+time=([\\d\\.e\\+\\-]+)s\\s+likelihood=([\\-.\\deE]+)\"\n",
    ")\n"
   ],
   "metadata": {
    "collapsed": false,
    "ExecuteTime": {
     "end_time": "2025-10-08T04:59:13.440821Z",
     "start_time": "2025-10-08T04:59:13.438299Z"
    }
   },
   "id": "1f142dcf860868a5",
   "execution_count": 23
  },
  {
   "cell_type": "code",
   "outputs": [],
   "source": [
    "data = []"
   ],
   "metadata": {
    "collapsed": false,
    "ExecuteTime": {
     "end_time": "2025-10-08T04:59:13.443862Z",
     "start_time": "2025-10-08T04:59:13.441967Z"
    }
   },
   "id": "71e17de7c778da98",
   "execution_count": 24
  },
  {
   "cell_type": "code",
   "outputs": [],
   "source": [
    "#read files in results_path\n",
    "\n",
    "def read_files_in_directory(directory):\n",
    "    for i in range(1, 11):\n",
    "        tree_folder = f\"{directory}/tree_{i}\"\n",
    "        files = os.listdir(tree_folder)\n",
    "        for file in files:\n",
    "            if file.endswith('.txt'):\n",
    "                print(f\"Reading file: {file}\")\n",
    "                with open(f'{tree_folder}/{file}', 'r') as f:\n",
    "                    #get treefile name from the txt file name\n",
    "                    tree_file_name = file.split(\"_\")[3] + \"_\" + file.split(\"_\")[4]\n",
    "                    # detect file name contains \"a100\"\n",
    "                    a100 = False\n",
    "                    transposed = False\n",
    "                    if \"a100\" in file:\n",
    "                        a100 = True\n",
    "    \n",
    "                \n",
    "                    if \"transpose\" in file:\n",
    "                        transposed = True\n",
    "                        \n",
    "                        \n",
    "                    for line in f:\n",
    "                        match = pattern.search(line)\n",
    "                        if match:\n",
    "                            backend, taxa, sites, patterns, time, likelihood = match.groups()\n",
    "                            if a100:\n",
    "                                backend += \"_A100\"\n",
    "                            else:\n",
    "                                backend += \"_V100\"\n",
    "                            if transposed:\n",
    "                                continue\n",
    "                                # backend += \"_transposed\"\n",
    "                                \n",
    "                            if taxa != \"100\":\n",
    "                                continue\n",
    "                            data.append([backend, taxa, sites, patterns, likelihood, time, tree_file_name])\n",
    "    \n",
    "                            # Write to CSV\n",
    "                            # with open(output_csv, 'w', newline='') as csvfile:\n",
    "                            #     writer = csv.writer(csvfile)\n",
    "                            #     writer.writerow([\"backend\", \"taxa\", \"sites\", \"patterns\", \"likelihood\", \"time\"])\n",
    "                            #     writer.writerows(data)\n",
    "\n",
    "    print(f\"Extracted {len(data)} results to {output_csv}\")\n",
    "\n"
   ],
   "metadata": {
    "collapsed": false,
    "ExecuteTime": {
     "end_time": "2025-10-08T04:59:13.450096Z",
     "start_time": "2025-10-08T04:59:13.445302Z"
    }
   },
   "id": "724695c99da28d7",
   "execution_count": 25
  },
  {
   "cell_type": "code",
   "outputs": [
    {
     "name": "stdout",
     "output_type": "stream",
     "text": [
      "Reading file: output_run_ci_tree_1_3000000_dna_openacc_transpose_a100.txt\n",
      "Reading file: output_run_ci_tree_1_3000000_dna_openacc_a100.txt\n",
      "Reading file: output_run_ci_tree_1_3000000_dna_openacc_transpose_v100.txt\n",
      "Reading file: output_run_ci_tree_1_3000000_dna_openacc_v100.txt\n",
      "Reading file: output_run_ci_tree_2_3000000_dna_openacc_transpose_a100.txt\n",
      "Reading file: output_run_ci_tree_2_3000000_dna_openacc_a100.txt\n",
      "Reading file: output_run_ci_tree_2_3000000_dna_openacc_transpose_v100.txt\n",
      "Reading file: output_run_ci_tree_2_3000000_dna_openacc_v100.txt\n",
      "Reading file: output_run_ci_tree_3_3000000_dna_openacc_v100.txt\n",
      "Reading file: output_run_ci_tree_3_3000000_dna_openacc_transpose_v100.txt\n",
      "Reading file: output_run_ci_tree_3_3000000_dna_openacc_a100.txt\n",
      "Reading file: output_run_ci_tree_3_3000000_dna_openacc_transpose_a100.txt\n",
      "Reading file: output_run_ci_tree_4_3000000_dna_openacc_a100.txt\n",
      "Reading file: output_run_ci_tree_4_3000000_dna_openacc_transpose_a100.txt\n",
      "Reading file: output_run_ci_tree_4_3000000_dna_openacc_transpose_v100.txt\n",
      "Reading file: output_run_ci_tree_4_3000000_dna_openacc_v100.txt\n",
      "Reading file: output_run_ci_tree_5_3000000_dna_openacc_transpose_v100.txt\n",
      "Reading file: output_run_ci_tree_5_3000000_dna_openacc_v100.txt\n",
      "Reading file: output_run_ci_tree_5_3000000_dna_openacc_transpose_a100.txt\n",
      "Reading file: output_run_ci_tree_5_3000000_dna_openacc_a100.txt\n",
      "Reading file: output_run_ci_tree_6_3000000_dna_openacc_transpose_v100.txt\n",
      "Reading file: output_run_ci_tree_6_3000000_dna_openacc_v100.txt\n",
      "Reading file: output_run_ci_tree_6_3000000_dna_openacc_a100.txt\n",
      "Reading file: output_run_ci_tree_6_3000000_dna_openacc_transpose_a100.txt\n",
      "Reading file: output_run_ci_tree_7_3000000_dna_openacc_transpose_a100.txt\n",
      "Reading file: output_run_ci_tree_7_3000000_dna_openacc_a100.txt\n",
      "Reading file: output_run_ci_tree_7_3000000_dna_openacc_v100.txt\n",
      "Reading file: output_run_ci_tree_7_3000000_dna_openacc_transpose_v100.txt\n",
      "Reading file: output_run_ci_tree_8_3000000_dna_openacc_v100.txt\n",
      "Reading file: output_run_ci_tree_8_3000000_dna_openacc_transpose_a100.txt\n",
      "Reading file: output_run_ci_tree_8_3000000_dna_openacc_a100.txt\n",
      "Reading file: output_run_ci_tree_8_3000000_dna_openacc_transpose_v100.txt\n",
      "Reading file: output_run_ci_tree_9_3000000_dna_openacc_a100.txt\n",
      "Reading file: output_run_ci_tree_9_3000000_dna_openacc_transpose_v100.txt\n",
      "Reading file: output_run_ci_tree_9_3000000_dna_openacc_v100.txt\n",
      "Reading file: output_run_ci_tree_9_3000000_dna_openacc_transpose_a100.txt\n",
      "Reading file: output_run_ci_tree_10_3000000_dna_openacc_transpose_v100.txt\n",
      "Reading file: output_run_ci_tree_10_3000000_dna_openacc_a100.txt\n",
      "Reading file: output_run_ci_tree_10_3000000_dna_openacc_v100.txt\n",
      "Reading file: output_run_ci_tree_10_3000000_dna_openacc_transpose_a100.txt\n",
      "Extracted 20 results to /Users/u7826985/Projects/Nvidia/results/3M_seq_length/100taxa_diff_trees_3M_sites/results.csv\n"
     ]
    }
   ],
   "source": [
    "read_files_in_directory(results_path)"
   ],
   "metadata": {
    "collapsed": false,
    "ExecuteTime": {
     "end_time": "2025-10-08T04:59:13.594715Z",
     "start_time": "2025-10-08T04:59:13.450928Z"
    }
   },
   "id": "db15b671bb21e899",
   "execution_count": 26
  },
  {
   "cell_type": "code",
   "outputs": [
    {
     "name": "stdout",
     "output_type": "stream",
     "text": [
      "[['OPENACC_A100', '100', '3000000', '3000000', '-186195203.188865959644318', '3.265000369000000', 'tree_1'], ['OPENACC_V100', '100', '3000000', '3000000', '-186195203.188865959644318', '3.336540229000000', 'tree_1'], ['OPENACC_A100', '100', '3000000', '3000000', '-213798205.847251594066620', '2.984099896000000', 'tree_2'], ['OPENACC_V100', '100', '3000000', '3000000', '-213798205.847251594066620', '3.307569128000000', 'tree_2'], ['OPENACC_V100', '100', '3000000', '3000000', '-195480802.348782300949097', '3.314464737000000', 'tree_3'], ['OPENACC_A100', '100', '3000000', '3000000', '-195480802.348782300949097', '3.239957591000000', 'tree_3'], ['OPENACC_A100', '100', '3000000', '3000000', '-207426065.766767919063568', '2.961678744000000', 'tree_4'], ['OPENACC_V100', '100', '3000000', '3000000', '-207426065.766767919063568', '3.335727198000000', 'tree_4'], ['OPENACC_V100', '100', '3000000', '3000000', '-206191901.630343914031982', '3.294299065000000', 'tree_5'], ['OPENACC_A100', '100', '3000000', '3000000', '-206191901.630343914031982', '2.954057388000000', 'tree_5'], ['OPENACC_V100', '100', '3000000', '3000000', '-214099245.838805079460144', '3.373535911000000', 'tree_6'], ['OPENACC_A100', '100', '3000000', '3000000', '-214099245.838805079460144', '3.378360860000000', 'tree_6'], ['OPENACC_A100', '100', '3000000', '3000000', '-192290603.657381832599640', '3.242647232000000', 'tree_7'], ['OPENACC_V100', '100', '3000000', '3000000', '-192290603.657381832599640', '3.346786906000000', 'tree_7'], ['OPENACC_V100', '100', '3000000', '3000000', '-211790476.107305467128754', '3.314773855000000', 'tree_8'], ['OPENACC_A100', '100', '3000000', '3000000', '-211790476.107305467128754', '2.953115605000000', 'tree_8'], ['OPENACC_A100', '100', '3000000', '3000000', '-208024421.505742520093918', '2.966342373000000', 'tree_9'], ['OPENACC_V100', '100', '3000000', '3000000', '-208024421.505742520093918', '3.319939694000000', 'tree_9'], ['OPENACC_A100', '100', '3000000', '3000000', '-207614984.883198022842407', '3.702467435000000', 'tree_10'], ['OPENACC_V100', '100', '3000000', '3000000', '-207614984.883198022842407', '3.398941733000000', 'tree_10']]\n"
     ]
    }
   ],
   "source": [
    "print(data)"
   ],
   "metadata": {
    "collapsed": false,
    "ExecuteTime": {
     "end_time": "2025-10-08T04:59:13.597545Z",
     "start_time": "2025-10-08T04:59:13.595776Z"
    }
   },
   "id": "498c834b16e9669d",
   "execution_count": 27
  },
  {
   "cell_type": "code",
   "outputs": [],
   "source": [
    "alignment_pattern = re.compile(r\"Alignment has (\\d+) sequences with (\\d+) columns, (\\d+) distinct patterns\")\n",
    "likelihood_pattern = re.compile(r\"Initial log-likelihood:\\s+([-0-9.]+).*?took ([0-9.]+) wall-clock sec\")\n",
    "\n",
    "# Data list\n",
    "# data = []\n"
   ],
   "metadata": {
    "collapsed": false,
    "ExecuteTime": {
     "end_time": "2025-10-08T04:59:13.599793Z",
     "start_time": "2025-10-08T04:59:13.598126Z"
    }
   },
   "id": "55d38ba2aedf4ac9",
   "execution_count": 28
  },
  {
   "cell_type": "code",
   "outputs": [],
   "source": [
    "# add iqtree results\n",
    "iqtree_results_path = results_path\n",
    "\n",
    "def read_iqtree_results(directory):\n",
    "    for i in range(1, 11):\n",
    "        tree_folder = f\"{directory}/tree_{i}\"\n",
    "        files = os.listdir(tree_folder)\n",
    "        for file in files:\n",
    "            if file.endswith('iqtree.log'):\n",
    "                print(f\"Reading IQ-TREE file: {file}\")\n",
    "                with open(f'{tree_folder}/{file}', 'r') as f:\n",
    "                    tree_file_name = file.split(\"_\")[3] + \"_\" + file.split(\"_\")[4]\n",
    "                    content = f.read()\n",
    "            \n",
    "                    # Extract alignment info\n",
    "                    aln_match = alignment_pattern.search(content)\n",
    "                    ll_match = likelihood_pattern.search(content)\n",
    "                    \n",
    "                    if aln_match and ll_match:\n",
    "                        taxa = int(aln_match.group(1))\n",
    "                        sites = int(aln_match.group(2))\n",
    "                        patterns = int(aln_match.group(3))\n",
    "                        likelihood = float(ll_match.group(1))\n",
    "                        time = float(ll_match.group(2))\n",
    "                        \n",
    "                        data.append([\"IQ-TREE_SIMD\", taxa, sites, patterns, likelihood, time, tree_file_name])\n",
    "\n",
    "\n",
    "\n",
    "    print(f\"Extracted {len(data)} IQ-TREE results to {output_csv}\")"
   ],
   "metadata": {
    "collapsed": false,
    "ExecuteTime": {
     "end_time": "2025-10-08T04:59:13.604505Z",
     "start_time": "2025-10-08T04:59:13.601515Z"
    }
   },
   "id": "d50828e8bf1138ac",
   "execution_count": 29
  },
  {
   "cell_type": "code",
   "outputs": [
    {
     "name": "stdout",
     "output_type": "stream",
     "text": [
      "Reading IQ-TREE file: output_run_ci_tree_1_3000000_iqtree.log\n",
      "Reading IQ-TREE file: output_run_ci_tree_2_3000000_iqtree.log\n",
      "Reading IQ-TREE file: output_run_ci_tree_3_3000000_iqtree.log\n",
      "Reading IQ-TREE file: output_run_ci_tree_4_3000000_iqtree.log\n",
      "Reading IQ-TREE file: output_run_ci_tree_5_3000000_iqtree.log\n",
      "Reading IQ-TREE file: output_run_ci_tree_6_3000000_iqtree.log\n",
      "Reading IQ-TREE file: output_run_ci_tree_7_3000000_iqtree.log\n",
      "Reading IQ-TREE file: output_run_ci_tree_8_3000000_iqtree.log\n",
      "Reading IQ-TREE file: output_run_ci_tree_9_3000000_iqtree.log\n",
      "Reading IQ-TREE file: output_run_ci_tree_10_3000000_iqtree.log\n",
      "Extracted 30 IQ-TREE results to /Users/u7826985/Projects/Nvidia/results/3M_seq_length/100taxa_diff_trees_3M_sites/results.csv\n"
     ]
    }
   ],
   "source": [
    "read_iqtree_results(iqtree_results_path)"
   ],
   "metadata": {
    "collapsed": false,
    "ExecuteTime": {
     "end_time": "2025-10-08T04:59:13.630646Z",
     "start_time": "2025-10-08T04:59:13.605185Z"
    }
   },
   "id": "7c7d82559575ebbb",
   "execution_count": 30
  },
  {
   "cell_type": "code",
   "outputs": [
    {
     "name": "stdout",
     "output_type": "stream",
     "text": [
      "[['OPENACC_A100', '100', '3000000', '3000000', '-186195203.188865959644318', '3.265000369000000', 'tree_1'], ['OPENACC_V100', '100', '3000000', '3000000', '-186195203.188865959644318', '3.336540229000000', 'tree_1'], ['OPENACC_A100', '100', '3000000', '3000000', '-213798205.847251594066620', '2.984099896000000', 'tree_2'], ['OPENACC_V100', '100', '3000000', '3000000', '-213798205.847251594066620', '3.307569128000000', 'tree_2'], ['OPENACC_V100', '100', '3000000', '3000000', '-195480802.348782300949097', '3.314464737000000', 'tree_3'], ['OPENACC_A100', '100', '3000000', '3000000', '-195480802.348782300949097', '3.239957591000000', 'tree_3'], ['OPENACC_A100', '100', '3000000', '3000000', '-207426065.766767919063568', '2.961678744000000', 'tree_4'], ['OPENACC_V100', '100', '3000000', '3000000', '-207426065.766767919063568', '3.335727198000000', 'tree_4'], ['OPENACC_V100', '100', '3000000', '3000000', '-206191901.630343914031982', '3.294299065000000', 'tree_5'], ['OPENACC_A100', '100', '3000000', '3000000', '-206191901.630343914031982', '2.954057388000000', 'tree_5'], ['OPENACC_V100', '100', '3000000', '3000000', '-214099245.838805079460144', '3.373535911000000', 'tree_6'], ['OPENACC_A100', '100', '3000000', '3000000', '-214099245.838805079460144', '3.378360860000000', 'tree_6'], ['OPENACC_A100', '100', '3000000', '3000000', '-192290603.657381832599640', '3.242647232000000', 'tree_7'], ['OPENACC_V100', '100', '3000000', '3000000', '-192290603.657381832599640', '3.346786906000000', 'tree_7'], ['OPENACC_V100', '100', '3000000', '3000000', '-211790476.107305467128754', '3.314773855000000', 'tree_8'], ['OPENACC_A100', '100', '3000000', '3000000', '-211790476.107305467128754', '2.953115605000000', 'tree_8'], ['OPENACC_A100', '100', '3000000', '3000000', '-208024421.505742520093918', '2.966342373000000', 'tree_9'], ['OPENACC_V100', '100', '3000000', '3000000', '-208024421.505742520093918', '3.319939694000000', 'tree_9'], ['OPENACC_A100', '100', '3000000', '3000000', '-207614984.883198022842407', '3.702467435000000', 'tree_10'], ['OPENACC_V100', '100', '3000000', '3000000', '-207614984.883198022842407', '3.398941733000000', 'tree_10'], ['IQ-TREE_SIMD', 100, 3000000, 3000000, -186195203.189, 5.596, 'tree_1'], ['IQ-TREE_SIMD', 100, 3000000, 3000000, -213798205.847, 5.963, 'tree_2'], ['IQ-TREE_SIMD', 100, 3000000, 3000000, -195480802.349, 5.943, 'tree_3'], ['IQ-TREE_SIMD', 100, 3000000, 3000000, -207426065.767, 5.848, 'tree_4'], ['IQ-TREE_SIMD', 100, 3000000, 3000000, -206191901.63, 5.652, 'tree_5'], ['IQ-TREE_SIMD', 100, 3000000, 3000000, -214099245.839, 5.659, 'tree_6'], ['IQ-TREE_SIMD', 100, 3000000, 3000000, -192290603.657, 5.619, 'tree_7'], ['IQ-TREE_SIMD', 100, 3000000, 3000000, -211790476.107, 5.592, 'tree_8'], ['IQ-TREE_SIMD', 100, 3000000, 3000000, -208024421.506, 5.629, 'tree_9'], ['IQ-TREE_SIMD', 100, 3000000, 3000000, -207614984.883, 5.572, 'tree_10']]\n"
     ]
    }
   ],
   "source": [
    "print(data)"
   ],
   "metadata": {
    "collapsed": false,
    "ExecuteTime": {
     "end_time": "2025-10-08T04:59:13.633165Z",
     "start_time": "2025-10-08T04:59:13.631383Z"
    }
   },
   "id": "e5fad9e3ad2d1cc0",
   "execution_count": 31
  },
  {
   "cell_type": "code",
   "outputs": [],
   "source": [
    "# Write to CSV\n",
    "with open(output_csv, 'w', newline='') as csvfile:\n",
    "    writer = csv.writer(csvfile)\n",
    "    writer.writerow([\"backend\", \"taxa\", \"sites\", \"patterns\", \"likelihood\", \"time\",\"treefile\"])\n",
    "    writer.writerows(data)"
   ],
   "metadata": {
    "collapsed": false,
    "ExecuteTime": {
     "end_time": "2025-10-08T04:59:13.640947Z",
     "start_time": "2025-10-08T04:59:13.633857Z"
    }
   },
   "id": "ba9439bf6c805ffc",
   "execution_count": 32
  },
  {
   "cell_type": "markdown",
   "source": [
    "# Analysis of Results"
   ],
   "metadata": {
    "collapsed": false
   },
   "id": "5d212e0e49be55f"
  },
  {
   "cell_type": "code",
   "outputs": [],
   "source": [
    "import pandas as pd\n",
    "import matplotlib.pyplot as plt\n"
   ],
   "metadata": {
    "collapsed": false,
    "ExecuteTime": {
     "end_time": "2025-10-08T04:59:13.643073Z",
     "start_time": "2025-10-08T04:59:13.641577Z"
    }
   },
   "id": "6a961dfb130793a",
   "execution_count": 33
  },
  {
   "cell_type": "code",
   "outputs": [
    {
     "data": {
      "text/plain": "        backend  taxa    sites  patterns    likelihood      time treefile\n0  OPENACC_A100   100  3000000   3000000 -1.861952e+08  3.265000   tree_1\n1  OPENACC_V100   100  3000000   3000000 -1.861952e+08  3.336540   tree_1\n2  OPENACC_A100   100  3000000   3000000 -2.137982e+08  2.984100   tree_2\n3  OPENACC_V100   100  3000000   3000000 -2.137982e+08  3.307569   tree_2\n4  OPENACC_V100   100  3000000   3000000 -1.954808e+08  3.314465   tree_3",
      "text/html": "<div>\n<style scoped>\n    .dataframe tbody tr th:only-of-type {\n        vertical-align: middle;\n    }\n\n    .dataframe tbody tr th {\n        vertical-align: top;\n    }\n\n    .dataframe thead th {\n        text-align: right;\n    }\n</style>\n<table border=\"1\" class=\"dataframe\">\n  <thead>\n    <tr style=\"text-align: right;\">\n      <th></th>\n      <th>backend</th>\n      <th>taxa</th>\n      <th>sites</th>\n      <th>patterns</th>\n      <th>likelihood</th>\n      <th>time</th>\n      <th>treefile</th>\n    </tr>\n  </thead>\n  <tbody>\n    <tr>\n      <th>0</th>\n      <td>OPENACC_A100</td>\n      <td>100</td>\n      <td>3000000</td>\n      <td>3000000</td>\n      <td>-1.861952e+08</td>\n      <td>3.265000</td>\n      <td>tree_1</td>\n    </tr>\n    <tr>\n      <th>1</th>\n      <td>OPENACC_V100</td>\n      <td>100</td>\n      <td>3000000</td>\n      <td>3000000</td>\n      <td>-1.861952e+08</td>\n      <td>3.336540</td>\n      <td>tree_1</td>\n    </tr>\n    <tr>\n      <th>2</th>\n      <td>OPENACC_A100</td>\n      <td>100</td>\n      <td>3000000</td>\n      <td>3000000</td>\n      <td>-2.137982e+08</td>\n      <td>2.984100</td>\n      <td>tree_2</td>\n    </tr>\n    <tr>\n      <th>3</th>\n      <td>OPENACC_V100</td>\n      <td>100</td>\n      <td>3000000</td>\n      <td>3000000</td>\n      <td>-2.137982e+08</td>\n      <td>3.307569</td>\n      <td>tree_2</td>\n    </tr>\n    <tr>\n      <th>4</th>\n      <td>OPENACC_V100</td>\n      <td>100</td>\n      <td>3000000</td>\n      <td>3000000</td>\n      <td>-1.954808e+08</td>\n      <td>3.314465</td>\n      <td>tree_3</td>\n    </tr>\n  </tbody>\n</table>\n</div>"
     },
     "execution_count": 34,
     "metadata": {},
     "output_type": "execute_result"
    }
   ],
   "source": [
    "# Read the CSV file into a DataFrame\n",
    "df = pd.read_csv(output_csv)\n",
    "# Display the first few rows of the DataFrame\n",
    "df.head()"
   ],
   "metadata": {
    "collapsed": false,
    "ExecuteTime": {
     "end_time": "2025-10-08T04:59:13.653973Z",
     "start_time": "2025-10-08T04:59:13.643628Z"
    }
   },
   "id": "fed832d4002e35d4",
   "execution_count": 34
  },
  {
   "cell_type": "code",
   "outputs": [
    {
     "data": {
      "text/plain": "         backend  taxa    sites  patterns    likelihood      time treefile\n0   OPENACC_A100   100  3000000   3000000 -1.861952e+08  3.265000   tree_1\n1   OPENACC_V100   100  3000000   3000000 -1.861952e+08  3.336540   tree_1\n2   OPENACC_A100   100  3000000   3000000 -2.137982e+08  2.984100   tree_2\n3   OPENACC_V100   100  3000000   3000000 -2.137982e+08  3.307569   tree_2\n4   OPENACC_V100   100  3000000   3000000 -1.954808e+08  3.314465   tree_3\n5   OPENACC_A100   100  3000000   3000000 -1.954808e+08  3.239958   tree_3\n6   OPENACC_A100   100  3000000   3000000 -2.074261e+08  2.961679   tree_4\n7   OPENACC_V100   100  3000000   3000000 -2.074261e+08  3.335727   tree_4\n8   OPENACC_V100   100  3000000   3000000 -2.061919e+08  3.294299   tree_5\n9   OPENACC_A100   100  3000000   3000000 -2.061919e+08  2.954057   tree_5\n10  OPENACC_V100   100  3000000   3000000 -2.140992e+08  3.373536   tree_6\n11  OPENACC_A100   100  3000000   3000000 -2.140992e+08  3.378361   tree_6\n12  OPENACC_A100   100  3000000   3000000 -1.922906e+08  3.242647   tree_7\n13  OPENACC_V100   100  3000000   3000000 -1.922906e+08  3.346787   tree_7\n14  OPENACC_V100   100  3000000   3000000 -2.117905e+08  3.314774   tree_8\n15  OPENACC_A100   100  3000000   3000000 -2.117905e+08  2.953116   tree_8\n16  OPENACC_A100   100  3000000   3000000 -2.080244e+08  2.966342   tree_9\n17  OPENACC_V100   100  3000000   3000000 -2.080244e+08  3.319940   tree_9\n18  OPENACC_A100   100  3000000   3000000 -2.076150e+08  3.702467  tree_10\n19  OPENACC_V100   100  3000000   3000000 -2.076150e+08  3.398942  tree_10\n20  IQ-TREE_SIMD   100  3000000   3000000 -1.861952e+08  5.596000   tree_1\n21  IQ-TREE_SIMD   100  3000000   3000000 -2.137982e+08  5.963000   tree_2\n22  IQ-TREE_SIMD   100  3000000   3000000 -1.954808e+08  5.943000   tree_3\n23  IQ-TREE_SIMD   100  3000000   3000000 -2.074261e+08  5.848000   tree_4\n24  IQ-TREE_SIMD   100  3000000   3000000 -2.061919e+08  5.652000   tree_5\n25  IQ-TREE_SIMD   100  3000000   3000000 -2.140992e+08  5.659000   tree_6\n26  IQ-TREE_SIMD   100  3000000   3000000 -1.922906e+08  5.619000   tree_7\n27  IQ-TREE_SIMD   100  3000000   3000000 -2.117905e+08  5.592000   tree_8\n28  IQ-TREE_SIMD   100  3000000   3000000 -2.080244e+08  5.629000   tree_9\n29  IQ-TREE_SIMD   100  3000000   3000000 -2.076150e+08  5.572000  tree_10",
      "text/html": "<div>\n<style scoped>\n    .dataframe tbody tr th:only-of-type {\n        vertical-align: middle;\n    }\n\n    .dataframe tbody tr th {\n        vertical-align: top;\n    }\n\n    .dataframe thead th {\n        text-align: right;\n    }\n</style>\n<table border=\"1\" class=\"dataframe\">\n  <thead>\n    <tr style=\"text-align: right;\">\n      <th></th>\n      <th>backend</th>\n      <th>taxa</th>\n      <th>sites</th>\n      <th>patterns</th>\n      <th>likelihood</th>\n      <th>time</th>\n      <th>treefile</th>\n    </tr>\n  </thead>\n  <tbody>\n    <tr>\n      <th>0</th>\n      <td>OPENACC_A100</td>\n      <td>100</td>\n      <td>3000000</td>\n      <td>3000000</td>\n      <td>-1.861952e+08</td>\n      <td>3.265000</td>\n      <td>tree_1</td>\n    </tr>\n    <tr>\n      <th>1</th>\n      <td>OPENACC_V100</td>\n      <td>100</td>\n      <td>3000000</td>\n      <td>3000000</td>\n      <td>-1.861952e+08</td>\n      <td>3.336540</td>\n      <td>tree_1</td>\n    </tr>\n    <tr>\n      <th>2</th>\n      <td>OPENACC_A100</td>\n      <td>100</td>\n      <td>3000000</td>\n      <td>3000000</td>\n      <td>-2.137982e+08</td>\n      <td>2.984100</td>\n      <td>tree_2</td>\n    </tr>\n    <tr>\n      <th>3</th>\n      <td>OPENACC_V100</td>\n      <td>100</td>\n      <td>3000000</td>\n      <td>3000000</td>\n      <td>-2.137982e+08</td>\n      <td>3.307569</td>\n      <td>tree_2</td>\n    </tr>\n    <tr>\n      <th>4</th>\n      <td>OPENACC_V100</td>\n      <td>100</td>\n      <td>3000000</td>\n      <td>3000000</td>\n      <td>-1.954808e+08</td>\n      <td>3.314465</td>\n      <td>tree_3</td>\n    </tr>\n    <tr>\n      <th>5</th>\n      <td>OPENACC_A100</td>\n      <td>100</td>\n      <td>3000000</td>\n      <td>3000000</td>\n      <td>-1.954808e+08</td>\n      <td>3.239958</td>\n      <td>tree_3</td>\n    </tr>\n    <tr>\n      <th>6</th>\n      <td>OPENACC_A100</td>\n      <td>100</td>\n      <td>3000000</td>\n      <td>3000000</td>\n      <td>-2.074261e+08</td>\n      <td>2.961679</td>\n      <td>tree_4</td>\n    </tr>\n    <tr>\n      <th>7</th>\n      <td>OPENACC_V100</td>\n      <td>100</td>\n      <td>3000000</td>\n      <td>3000000</td>\n      <td>-2.074261e+08</td>\n      <td>3.335727</td>\n      <td>tree_4</td>\n    </tr>\n    <tr>\n      <th>8</th>\n      <td>OPENACC_V100</td>\n      <td>100</td>\n      <td>3000000</td>\n      <td>3000000</td>\n      <td>-2.061919e+08</td>\n      <td>3.294299</td>\n      <td>tree_5</td>\n    </tr>\n    <tr>\n      <th>9</th>\n      <td>OPENACC_A100</td>\n      <td>100</td>\n      <td>3000000</td>\n      <td>3000000</td>\n      <td>-2.061919e+08</td>\n      <td>2.954057</td>\n      <td>tree_5</td>\n    </tr>\n    <tr>\n      <th>10</th>\n      <td>OPENACC_V100</td>\n      <td>100</td>\n      <td>3000000</td>\n      <td>3000000</td>\n      <td>-2.140992e+08</td>\n      <td>3.373536</td>\n      <td>tree_6</td>\n    </tr>\n    <tr>\n      <th>11</th>\n      <td>OPENACC_A100</td>\n      <td>100</td>\n      <td>3000000</td>\n      <td>3000000</td>\n      <td>-2.140992e+08</td>\n      <td>3.378361</td>\n      <td>tree_6</td>\n    </tr>\n    <tr>\n      <th>12</th>\n      <td>OPENACC_A100</td>\n      <td>100</td>\n      <td>3000000</td>\n      <td>3000000</td>\n      <td>-1.922906e+08</td>\n      <td>3.242647</td>\n      <td>tree_7</td>\n    </tr>\n    <tr>\n      <th>13</th>\n      <td>OPENACC_V100</td>\n      <td>100</td>\n      <td>3000000</td>\n      <td>3000000</td>\n      <td>-1.922906e+08</td>\n      <td>3.346787</td>\n      <td>tree_7</td>\n    </tr>\n    <tr>\n      <th>14</th>\n      <td>OPENACC_V100</td>\n      <td>100</td>\n      <td>3000000</td>\n      <td>3000000</td>\n      <td>-2.117905e+08</td>\n      <td>3.314774</td>\n      <td>tree_8</td>\n    </tr>\n    <tr>\n      <th>15</th>\n      <td>OPENACC_A100</td>\n      <td>100</td>\n      <td>3000000</td>\n      <td>3000000</td>\n      <td>-2.117905e+08</td>\n      <td>2.953116</td>\n      <td>tree_8</td>\n    </tr>\n    <tr>\n      <th>16</th>\n      <td>OPENACC_A100</td>\n      <td>100</td>\n      <td>3000000</td>\n      <td>3000000</td>\n      <td>-2.080244e+08</td>\n      <td>2.966342</td>\n      <td>tree_9</td>\n    </tr>\n    <tr>\n      <th>17</th>\n      <td>OPENACC_V100</td>\n      <td>100</td>\n      <td>3000000</td>\n      <td>3000000</td>\n      <td>-2.080244e+08</td>\n      <td>3.319940</td>\n      <td>tree_9</td>\n    </tr>\n    <tr>\n      <th>18</th>\n      <td>OPENACC_A100</td>\n      <td>100</td>\n      <td>3000000</td>\n      <td>3000000</td>\n      <td>-2.076150e+08</td>\n      <td>3.702467</td>\n      <td>tree_10</td>\n    </tr>\n    <tr>\n      <th>19</th>\n      <td>OPENACC_V100</td>\n      <td>100</td>\n      <td>3000000</td>\n      <td>3000000</td>\n      <td>-2.076150e+08</td>\n      <td>3.398942</td>\n      <td>tree_10</td>\n    </tr>\n    <tr>\n      <th>20</th>\n      <td>IQ-TREE_SIMD</td>\n      <td>100</td>\n      <td>3000000</td>\n      <td>3000000</td>\n      <td>-1.861952e+08</td>\n      <td>5.596000</td>\n      <td>tree_1</td>\n    </tr>\n    <tr>\n      <th>21</th>\n      <td>IQ-TREE_SIMD</td>\n      <td>100</td>\n      <td>3000000</td>\n      <td>3000000</td>\n      <td>-2.137982e+08</td>\n      <td>5.963000</td>\n      <td>tree_2</td>\n    </tr>\n    <tr>\n      <th>22</th>\n      <td>IQ-TREE_SIMD</td>\n      <td>100</td>\n      <td>3000000</td>\n      <td>3000000</td>\n      <td>-1.954808e+08</td>\n      <td>5.943000</td>\n      <td>tree_3</td>\n    </tr>\n    <tr>\n      <th>23</th>\n      <td>IQ-TREE_SIMD</td>\n      <td>100</td>\n      <td>3000000</td>\n      <td>3000000</td>\n      <td>-2.074261e+08</td>\n      <td>5.848000</td>\n      <td>tree_4</td>\n    </tr>\n    <tr>\n      <th>24</th>\n      <td>IQ-TREE_SIMD</td>\n      <td>100</td>\n      <td>3000000</td>\n      <td>3000000</td>\n      <td>-2.061919e+08</td>\n      <td>5.652000</td>\n      <td>tree_5</td>\n    </tr>\n    <tr>\n      <th>25</th>\n      <td>IQ-TREE_SIMD</td>\n      <td>100</td>\n      <td>3000000</td>\n      <td>3000000</td>\n      <td>-2.140992e+08</td>\n      <td>5.659000</td>\n      <td>tree_6</td>\n    </tr>\n    <tr>\n      <th>26</th>\n      <td>IQ-TREE_SIMD</td>\n      <td>100</td>\n      <td>3000000</td>\n      <td>3000000</td>\n      <td>-1.922906e+08</td>\n      <td>5.619000</td>\n      <td>tree_7</td>\n    </tr>\n    <tr>\n      <th>27</th>\n      <td>IQ-TREE_SIMD</td>\n      <td>100</td>\n      <td>3000000</td>\n      <td>3000000</td>\n      <td>-2.117905e+08</td>\n      <td>5.592000</td>\n      <td>tree_8</td>\n    </tr>\n    <tr>\n      <th>28</th>\n      <td>IQ-TREE_SIMD</td>\n      <td>100</td>\n      <td>3000000</td>\n      <td>3000000</td>\n      <td>-2.080244e+08</td>\n      <td>5.629000</td>\n      <td>tree_9</td>\n    </tr>\n    <tr>\n      <th>29</th>\n      <td>IQ-TREE_SIMD</td>\n      <td>100</td>\n      <td>3000000</td>\n      <td>3000000</td>\n      <td>-2.076150e+08</td>\n      <td>5.572000</td>\n      <td>tree_10</td>\n    </tr>\n  </tbody>\n</table>\n</div>"
     },
     "execution_count": 35,
     "metadata": {},
     "output_type": "execute_result"
    }
   ],
   "source": [
    "df"
   ],
   "metadata": {
    "collapsed": false,
    "ExecuteTime": {
     "end_time": "2025-10-08T04:59:13.661035Z",
     "start_time": "2025-10-08T04:59:13.654720Z"
    }
   },
   "id": "1474229816d8301c",
   "execution_count": 35
  },
  {
   "cell_type": "code",
   "outputs": [],
   "source": [
    "groups = df.groupby('treefile')"
   ],
   "metadata": {
    "collapsed": false,
    "ExecuteTime": {
     "end_time": "2025-10-08T04:59:13.664121Z",
     "start_time": "2025-10-08T04:59:13.662013Z"
    }
   },
   "id": "9514c7b6a806791d",
   "execution_count": 36
  },
  {
   "cell_type": "code",
   "outputs": [],
   "source": [
    "def _basename(s):\n",
    "    return os.path.basename(str(s))\n",
    "\n",
    "def prepare(df):\n",
    "    out = df.copy()\n",
    "    # standardize column names if needed\n",
    "    cols = {c.lower(): c for c in df.columns}\n",
    "    # Expect columns named like 'tree_file', 'backend', 'time'\n",
    "    # If user had different casing, map it:\n",
    "    def find(colname):\n",
    "        return next((c for c in df.columns if c.lower() == colname), colname)\n",
    "    tree_col = find('treefile')\n",
    "    backend_col = find('backend')\n",
    "    time_col = find('time')\n",
    "\n",
    "    out['treefile'] = out[tree_col].astype(str)\n",
    "    out['backend']   = out[backend_col].astype(str)\n",
    "    out['time']      = pd.to_numeric(out[time_col], errors='coerce')\n",
    "\n",
    "    out['tree_key']  = out['treefile']\n",
    "    # Order tree keys by natural sort on any numbers inside (helps readability)\n",
    "    def _nat_key(s):\n",
    "        return [int(t) if t.isdigit() else t for t in re.split(r'(\\d+)', s)]\n",
    "    tree_order = sorted(out['tree_key'].unique(), key=_nat_key)\n",
    "    out['tree_key'] = pd.Categorical(out['tree_key'], categories=tree_order, ordered=True)\n",
    "\n",
    "    # Optional: order backends (put CPU first, then GPU variants)\n",
    "    backend_order = sorted(out['backend'].unique(), key=lambda b: (('cpu' not in b.lower()), b.lower()))\n",
    "    out['backend'] = pd.Categorical(out['backend'], categories=backend_order, ordered=True)\n",
    "    return out\n",
    "\n",
    "dfp = prepare(df)\n",
    "\n",
    "# --- 1) Grouped bars: mean time per backend for each tree ---------------------\n",
    "def plot_grouped_bars(dfp, logy=True, savepath=None):\n",
    "    pivot = dfp.pivot_table(index='tree_key', columns='backend', values='time', aggfunc='mean')\n",
    "    ax = pivot.plot(kind='bar', figsize=(10, 5))\n",
    "    ax.set_xlabel(\"Tree file\")\n",
    "    ax.set_ylabel(\"Runtime (s)\")\n",
    "    ax.set_title(\"runtime per tree\")\n",
    "    if logy:\n",
    "        ax.set_yscale('log')\n",
    "    ax.legend(title=\"Backend\")\n",
    "    plt.tight_layout()\n",
    "    if savepath:\n",
    "        plt.savefig(savepath, dpi=300, bbox_inches='tight')\n",
    "    plt.show()\n",
    "\n",
    "# --- 2) Dot plot: each run as a point (great with log scale) ------------------\n",
    "def plot_dot(dfp, logy=True, savepath=None):\n",
    "    fig, ax = plt.subplots(figsize=(10, 5))\n",
    "    backends = list(dfp['backend'].cat.categories) if hasattr(dfp['backend'], 'cat') else sorted(dfp['backend'].unique())\n",
    "    x_pos = np.arange(len(backends))\n",
    "\n",
    "    jitter = 0.15\n",
    "    for i, b in enumerate(backends):\n",
    "        y = dfp.loc[dfp['backend'] == b, 'time'].values\n",
    "        x = np.random.uniform(i - jitter, i + jitter, size=len(y))\n",
    "        ax.scatter(x, y, s=18, alpha=0.8)  # no explicit colors\n",
    "    ax.set_xticks(x_pos)\n",
    "    ax.set_xticklabels(backends, rotation=0)\n",
    "    ax.set_xlabel(\"Backend\")\n",
    "    ax.set_ylabel(\"Runtime (s)\")\n",
    "    ax.set_title(\"Per-run runtimes by backend\")\n",
    "    if logy:\n",
    "        ax.set_yscale('log')\n",
    "    ax.grid(True, which='both', axis='y', linestyle='--', alpha=0.4)\n",
    "    plt.tight_layout()\n",
    "    if savepath:\n",
    "        plt.savefig(savepath, dpi=300, bbox_inches='tight')\n",
    "    plt.show()\n",
    "\n",
    "# --- 3) Distribution view: boxplot by backend ---------------------------------\n",
    "def plot_box(dfp, logy=True, savepath=None):\n",
    "    fig, ax = plt.subplots(figsize=(10, 5))\n",
    "    dfp.boxplot(column='time', by='backend', ax=ax)  # default style, no colors set\n",
    "    ax.set_title(\"Runtime distribution by backend\")\n",
    "    ax.set_ylabel(\"Runtime (s)\")\n",
    "    if logy:\n",
    "        ax.set_yscale('log')\n",
    "    plt.suptitle(\"\")  # remove automatic super-title\n",
    "    plt.tight_layout()\n",
    "    if savepath:\n",
    "        plt.savefig(savepath, dpi=300, bbox_inches='tight')\n",
    "    plt.show()\n",
    "\n",
    "# --- 4) Compact heatmap: trees x backends (mean time) -------------------------\n",
    "def plot_heatmap(dfp, log=True, savepath=None):\n",
    "    mat = dfp.pivot_table(index='tree_key', columns='backend', values='time', aggfunc='mean')\n",
    "    data = np.log10(mat.values) if log else mat.values\n",
    "\n",
    "    fig, ax = plt.subplots(figsize=(10, max(4, 0.4*len(mat))))\n",
    "    im = ax.imshow(data, aspect='auto')  # default colormap, no color specified\n",
    "\n",
    "    # ticks / labels\n",
    "    ax.set_yticks(np.arange(mat.shape[0]))\n",
    "    ax.set_yticklabels(mat.index.astype(str))\n",
    "    ax.set_xticks(np.arange(mat.shape[1]))\n",
    "    ax.set_xticklabels(mat.columns.astype(str), rotation=45, ha='right')\n",
    "    ax.set_xlabel('Backend')\n",
    "    ax.set_ylabel('Tree file')\n",
    "    ax.set_title('Mean runtime heatmap (log10 seconds)' if log else 'Mean runtime heatmap (seconds)')\n",
    "    fig.colorbar(im, ax=ax, label=('log10(s)' if log else 's'))\n",
    "    plt.tight_layout()\n",
    "    if savepath:\n",
    "        plt.savefig(savepath, dpi=300, bbox_inches='tight')\n",
    "    plt.show()"
   ],
   "metadata": {
    "collapsed": false,
    "ExecuteTime": {
     "end_time": "2025-10-08T04:59:13.678359Z",
     "start_time": "2025-10-08T04:59:13.664798Z"
    }
   },
   "id": "52a40749a2b44bd5",
   "execution_count": 37
  },
  {
   "cell_type": "code",
   "outputs": [
    {
     "data": {
      "text/plain": "<Figure size 1000x500 with 1 Axes>",
      "image/png": "[encoded data removed]"
     },
     "metadata": {},
     "output_type": "display_data"
    }
   ],
   "source": [
    "plot_grouped_bars(dfp, logy=True, savepath=f\"{cwd}/DNA_100taxa_diff_trees_3M_sites_grouped_bars_logy.png\")"
   ],
   "metadata": {
    "collapsed": false,
    "ExecuteTime": {
     "end_time": "2025-10-08T04:59:14.184105Z",
     "start_time": "2025-10-08T04:59:13.679279Z"
    }
   },
   "id": "ba038d00ab5c528b",
   "execution_count": 38
  },
  {
   "cell_type": "code",
   "outputs": [
    {
     "data": {
      "text/plain": "<Figure size 1000x500 with 1 Axes>",
      "image/png": "[encoded data removed]"
     },
     "metadata": {},
     "output_type": "display_data"
    }
   ],
   "source": [
    "plot_grouped_bars(dfp, logy=False, savepath=f\"{cwd}/DNA_100taxa_diff_trees_3M_sites_grouped_bars.png\")\n"
   ],
   "metadata": {
    "collapsed": false,
    "ExecuteTime": {
     "end_time": "2025-10-08T04:59:14.628547Z",
     "start_time": "2025-10-08T04:59:14.188078Z"
    }
   },
   "id": "68251e99ff36e09c",
   "execution_count": 39
  },
  {
   "cell_type": "code",
   "outputs": [],
   "source": [],
   "metadata": {
    "collapsed": false,
    "ExecuteTime": {
     "end_time": "2025-10-08T04:59:14.631890Z",
     "start_time": "2025-10-08T04:59:14.629654Z"
    }
   },
   "id": "60d5e132d900c6b5",
   "execution_count": 39
  }
 ],
 "metadata": {
  "kernelspec": {
   "display_name": "Python 3",
   "language": "python",
   "name": "python3"
  },
  "language_info": {
   "codemirror_mode": {
    "name": "ipython",
    "version": 2
   },
   "file_extension": ".py",
   "mimetype": "text/x-python",
   "name": "python",
   "nbconvert_exporter": "python",
   "pygments_lexer": "ipython2",
   "version": "2.7.6"
  }
 },
 "nbformat": 4,
 "nbformat_minor": 5
}
