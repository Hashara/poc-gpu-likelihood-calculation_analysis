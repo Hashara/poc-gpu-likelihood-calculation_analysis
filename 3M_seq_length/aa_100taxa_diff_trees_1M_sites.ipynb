{
 "cells": [
  {
   "cell_type": "code",
   "outputs": [],
   "source": [
    "import os\n",
    "import re\n",
    "import csv\n",
    "import numpy as np\n"
   ],
   "metadata": {
    "collapsed": false,
    "ExecuteTime": {
     "end_time": "2025-10-08T04:30:22.100269Z",
     "start_time": "2025-10-08T04:30:22.097856Z"
    }
   },
   "id": "79517fe647b4eabc",
   "execution_count": 19
  },
  {
   "cell_type": "code",
   "outputs": [],
   "source": [
    "cwd = os.getcwd()"
   ],
   "metadata": {
    "collapsed": false
   },
   "id": "d729f8e266ed2ef5"
  },
  {
   "cell_type": "markdown",
   "source": [],
   "metadata": {
    "collapsed": false
   },
   "id": "a7c6d7f5e1dc79ec"
  },
  {
   "cell_type": "markdown",
   "source": [
    "# preapre CSV"
   ],
   "metadata": {
    "collapsed": false
   },
   "id": "43a97ce4ed941acb"
  },
  {
   "cell_type": "code",
   "outputs": [],
   "source": [
    "results_path = \"/Users/u7826985/Projects/Nvidia/results/3M_seq_length/100taxa_diff_trees_3M_sites_AA\"\n",
    "output_csv = f\"{results_path}/results.csv\""
   ],
   "metadata": {
    "collapsed": false,
    "ExecuteTime": {
     "end_time": "2025-10-08T04:30:23.448182Z",
     "start_time": "2025-10-08T04:30:23.446582Z"
    }
   },
   "id": "c8ab120169e7a438",
   "execution_count": 20
  },
  {
   "cell_type": "code",
   "outputs": [],
   "source": [
    "# Regex to capture the RESULT line\n",
    "pattern = re.compile(\n",
    "    r\"\\[RESULT\\]\\s*backend=(\\w+)\\s+taxa=(\\d+)\\s+sites=(\\d+)\\s+patterns=(\\d+)\\s+time=([\\d\\.e\\+\\-]+)s\\s+likelihood=([\\-.\\deE]+)\"\n",
    ")\n"
   ],
   "metadata": {
    "collapsed": false,
    "ExecuteTime": {
     "end_time": "2025-10-08T04:30:24.309058Z",
     "start_time": "2025-10-08T04:30:24.306705Z"
    }
   },
   "id": "1f142dcf860868a5",
   "execution_count": 21
  },
  {
   "cell_type": "code",
   "outputs": [],
   "source": [
    "data = []"
   ],
   "metadata": {
    "collapsed": false,
    "ExecuteTime": {
     "end_time": "2025-10-08T04:30:25.191508Z",
     "start_time": "2025-10-08T04:30:25.189595Z"
    }
   },
   "id": "71e17de7c778da98",
   "execution_count": 22
  },
  {
   "cell_type": "code",
   "outputs": [],
   "source": [
    "#read files in results_path\n",
    "\n",
    "def read_files_in_directory(directory):\n",
    "    for i in range(1, 11):\n",
    "        tree_folder = f\"{directory}/tree_{i}\"\n",
    "        files = os.listdir(tree_folder)\n",
    "        for file in files:\n",
    "            if file.endswith('.txt'):\n",
    "                print(f\"Reading file: {file}\")\n",
    "                with open(f'{tree_folder}/{file}', 'r') as f:\n",
    "                    #get treefile name from the txt file name\n",
    "                    tree_file_name = file.split(\"_\")[3] + \"_\" + file.split(\"_\")[4]\n",
    "                    # detect file name contains \"a100\"\n",
    "                    a100 = False\n",
    "                    transposed = False\n",
    "                    if \"a100\" in file:\n",
    "                        a100 = True\n",
    "                    if \"transpose\" in file:\n",
    "                        transposed = True\n",
    "                        \n",
    "                        \n",
    "                    for line in f:\n",
    "                        match = pattern.search(line)\n",
    "                        if match:\n",
    "                            backend, taxa, sites, patterns, time, likelihood = match.groups()\n",
    "                            if a100:\n",
    "                                backend += \"_A100\"\n",
    "                            else:\n",
    "                                backend += \"_V100\"\n",
    "                            if transposed:\n",
    "                                continue\n",
    "                                backend += \"_transposed\"\n",
    "                                \n",
    "                            if taxa != \"100\":\n",
    "                                continue\n",
    "                            data.append([backend, taxa, sites, patterns, likelihood, time, tree_file_name])\n",
    "    \n",
    "                            # Write to CSV\n",
    "                            # with open(output_csv, 'w', newline='') as csvfile:\n",
    "                            #     writer = csv.writer(csvfile)\n",
    "                            #     writer.writerow([\"backend\", \"taxa\", \"sites\", \"patterns\", \"likelihood\", \"time\"])\n",
    "                            #     writer.writerows(data)\n",
    "\n",
    "    print(f\"Extracted {len(data)} results to {output_csv}\")\n",
    "\n"
   ],
   "metadata": {
    "collapsed": false,
    "ExecuteTime": {
     "end_time": "2025-10-08T04:30:25.828704Z",
     "start_time": "2025-10-08T04:30:25.824876Z"
    }
   },
   "id": "724695c99da28d7",
   "execution_count": 23
  },
  {
   "cell_type": "code",
   "outputs": [
    {
     "name": "stdout",
     "output_type": "stream",
     "text": [
      "Reading file: output_run_ci_tree_1_3000000_aa_openacc_a100.txt\n",
      "Extracted 0 results to /Users/u7826985/Projects/Nvidia/results/3M_seq_length/100taxa_diff_trees_3M_sites_AA/results.csv\n"
     ]
    }
   ],
   "source": [
    "read_files_in_directory(results_path)"
   ],
   "metadata": {
    "collapsed": false,
    "ExecuteTime": {
     "end_time": "2025-10-08T04:30:29.685085Z",
     "start_time": "2025-10-08T04:30:29.680350Z"
    }
   },
   "id": "db15b671bb21e899",
   "execution_count": 24
  },
  {
   "cell_type": "code",
   "outputs": [
    {
     "name": "stdout",
     "output_type": "stream",
     "text": [
      "[]\n"
     ]
    }
   ],
   "source": [
    "print(data)"
   ],
   "metadata": {
    "collapsed": false,
    "ExecuteTime": {
     "end_time": "2025-10-08T04:30:30.765145Z",
     "start_time": "2025-10-08T04:30:30.763390Z"
    }
   },
   "id": "498c834b16e9669d",
   "execution_count": 25
  },
  {
   "cell_type": "code",
   "outputs": [],
   "source": [
    "alignment_pattern = re.compile(r\"Alignment has (\\d+) sequences with (\\d+) columns, (\\d+) distinct patterns\")\n",
    "likelihood_pattern = re.compile(r\"Initial log-likelihood:\\s+([-0-9.]+).*?took ([0-9.]+) wall-clock sec\")\n",
    "\n",
    "# Data list\n",
    "# data = []\n"
   ],
   "metadata": {
    "collapsed": false,
    "ExecuteTime": {
     "end_time": "2025-10-08T04:30:33.274547Z",
     "start_time": "2025-10-08T04:30:33.272777Z"
    }
   },
   "id": "55d38ba2aedf4ac9",
   "execution_count": 26
  },
  {
   "cell_type": "code",
   "outputs": [],
   "source": [
    "# add iqtree results\n",
    "iqtree_results_path = results_path\n",
    "\n",
    "def read_iqtree_results(directory):\n",
    "    for i in range(1, 11):\n",
    "        tree_folder = f\"{directory}/tree_{i}\"\n",
    "        files = os.listdir(tree_folder)\n",
    "        for file in files:\n",
    "            if file.endswith('iqtree.log'):\n",
    "                print(f\"Reading IQ-TREE file: {file}\")\n",
    "                with open(f'{tree_folder}/{file}', 'r') as f:\n",
    "                    tree_file_name = file.split(\"_\")[3] + \"_\" + file.split(\"_\")[4]\n",
    "                    content = f.read()\n",
    "            \n",
    "                    # Extract alignment info\n",
    "                    aln_match = alignment_pattern.search(content)\n",
    "                    ll_match = likelihood_pattern.search(content)\n",
    "                    \n",
    "                    if aln_match and ll_match:\n",
    "                        taxa = int(aln_match.group(1))\n",
    "                        sites = int(aln_match.group(2))\n",
    "                        patterns = int(aln_match.group(3))\n",
    "                        likelihood = float(ll_match.group(1))\n",
    "                        time = float(ll_match.group(2))\n",
    "                        \n",
    "                        data.append([\"IQ-TREE_SIMD\", taxa, sites, patterns, likelihood, time, tree_file_name])\n",
    "\n",
    "\n",
    "\n",
    "    print(f\"Extracted {len(data)} IQ-TREE results to {output_csv}\")"
   ],
   "metadata": {
    "collapsed": false,
    "ExecuteTime": {
     "end_time": "2025-10-08T04:30:34.218762Z",
     "start_time": "2025-10-08T04:30:34.215646Z"
    }
   },
   "id": "d50828e8bf1138ac",
   "execution_count": 27
  },
  {
   "cell_type": "code",
   "outputs": [
    {
     "name": "stdout",
     "output_type": "stream",
     "text": [
      "Reading IQ-TREE file: output_run_ci_tree_1_3000000_aa_iqtree.log\n",
      "Extracted 0 IQ-TREE results to /Users/u7826985/Projects/Nvidia/results/3M_seq_length/100taxa_diff_trees_3M_sites_AA/results.csv\n"
     ]
    }
   ],
   "source": [
    "read_iqtree_results(iqtree_results_path)"
   ],
   "metadata": {
    "collapsed": false,
    "ExecuteTime": {
     "end_time": "2025-10-08T04:30:35.039852Z",
     "start_time": "2025-10-08T04:30:35.036634Z"
    }
   },
   "id": "7c7d82559575ebbb",
   "execution_count": 28
  },
  {
   "cell_type": "code",
   "outputs": [
    {
     "name": "stdout",
     "output_type": "stream",
     "text": [
      "[]\n"
     ]
    }
   ],
   "source": [
    "print(data)"
   ],
   "metadata": {
    "collapsed": false,
    "ExecuteTime": {
     "end_time": "2025-10-08T04:30:02.976216Z",
     "start_time": "2025-10-08T04:30:02.974338Z"
    }
   },
   "id": "e5fad9e3ad2d1cc0",
   "execution_count": 11
  },
  {
   "cell_type": "code",
   "outputs": [],
   "source": [
    "# Write to CSV\n",
    "with open(output_csv, 'w', newline='') as csvfile:\n",
    "    writer = csv.writer(csvfile)\n",
    "    writer.writerow([\"backend\", \"taxa\", \"sites\", \"patterns\", \"likelihood\", \"time\",\"treefile\"])\n",
    "    writer.writerows(data)"
   ],
   "metadata": {
    "collapsed": false,
    "ExecuteTime": {
     "end_time": "2025-10-08T04:30:02.979966Z",
     "start_time": "2025-10-08T04:30:02.977487Z"
    }
   },
   "id": "ba9439bf6c805ffc",
   "execution_count": 12
  },
  {
   "cell_type": "markdown",
   "source": [
    "# Analysis of Results"
   ],
   "metadata": {
    "collapsed": false
   },
   "id": "5d212e0e49be55f"
  },
  {
   "cell_type": "code",
   "outputs": [],
   "source": [
    "import pandas as pd\n",
    "import matplotlib.pyplot as plt\n"
   ],
   "metadata": {
    "collapsed": false,
    "ExecuteTime": {
     "end_time": "2025-10-08T04:30:03.535284Z",
     "start_time": "2025-10-08T04:30:02.980717Z"
    }
   },
   "id": "6a961dfb130793a",
   "execution_count": 13
  },
  {
   "cell_type": "code",
   "outputs": [
    {
     "data": {
      "text/plain": "Empty DataFrame\nColumns: [backend, taxa, sites, patterns, likelihood, time, treefile]\nIndex: []",
      "text/html": "<div>\n<style scoped>\n    .dataframe tbody tr th:only-of-type {\n        vertical-align: middle;\n    }\n\n    .dataframe tbody tr th {\n        vertical-align: top;\n    }\n\n    .dataframe thead th {\n        text-align: right;\n    }\n</style>\n<table border=\"1\" class=\"dataframe\">\n  <thead>\n    <tr style=\"text-align: right;\">\n      <th></th>\n      <th>backend</th>\n      <th>taxa</th>\n      <th>sites</th>\n      <th>patterns</th>\n      <th>likelihood</th>\n      <th>time</th>\n      <th>treefile</th>\n    </tr>\n  </thead>\n  <tbody>\n  </tbody>\n</table>\n</div>"
     },
     "execution_count": 14,
     "metadata": {},
     "output_type": "execute_result"
    }
   ],
   "source": [
    "# Read the CSV file into a DataFrame\n",
    "df = pd.read_csv(output_csv)\n",
    "# Display the first few rows of the DataFrame\n",
    "df.head()"
   ],
   "metadata": {
    "collapsed": false,
    "ExecuteTime": {
     "end_time": "2025-10-08T04:30:03.550299Z",
     "start_time": "2025-10-08T04:30:03.537352Z"
    }
   },
   "id": "fed832d4002e35d4",
   "execution_count": 14
  },
  {
   "cell_type": "code",
   "outputs": [
    {
     "data": {
      "text/plain": "Empty DataFrame\nColumns: [backend, taxa, sites, patterns, likelihood, time, treefile]\nIndex: []",
      "text/html": "<div>\n<style scoped>\n    .dataframe tbody tr th:only-of-type {\n        vertical-align: middle;\n    }\n\n    .dataframe tbody tr th {\n        vertical-align: top;\n    }\n\n    .dataframe thead th {\n        text-align: right;\n    }\n</style>\n<table border=\"1\" class=\"dataframe\">\n  <thead>\n    <tr style=\"text-align: right;\">\n      <th></th>\n      <th>backend</th>\n      <th>taxa</th>\n      <th>sites</th>\n      <th>patterns</th>\n      <th>likelihood</th>\n      <th>time</th>\n      <th>treefile</th>\n    </tr>\n  </thead>\n  <tbody>\n  </tbody>\n</table>\n</div>"
     },
     "execution_count": 15,
     "metadata": {},
     "output_type": "execute_result"
    }
   ],
   "source": [
    "df"
   ],
   "metadata": {
    "collapsed": false,
    "ExecuteTime": {
     "end_time": "2025-10-08T04:30:03.553393Z",
     "start_time": "2025-10-08T04:30:03.550878Z"
    }
   },
   "id": "1474229816d8301c",
   "execution_count": 15
  },
  {
   "cell_type": "code",
   "outputs": [],
   "source": [
    "groups = df.groupby('treefile')"
   ],
   "metadata": {
    "collapsed": false,
    "ExecuteTime": {
     "end_time": "2025-10-08T04:30:03.555576Z",
     "start_time": "2025-10-08T04:30:03.553979Z"
    }
   },
   "id": "9514c7b6a806791d",
   "execution_count": 16
  },
  {
   "cell_type": "code",
   "outputs": [],
   "source": [
    "def _basename(s):\n",
    "    return os.path.basename(str(s))\n",
    "\n",
    "def prepare(df):\n",
    "    out = df.copy()\n",
    "    # standardize column names if needed\n",
    "    cols = {c.lower(): c for c in df.columns}\n",
    "    # Expect columns named like 'tree_file', 'backend', 'time'\n",
    "    # If user had different casing, map it:\n",
    "    def find(colname):\n",
    "        return next((c for c in df.columns if c.lower() == colname), colname)\n",
    "    tree_col = find('treefile')\n",
    "    backend_col = find('backend')\n",
    "    time_col = find('time')\n",
    "\n",
    "    out['treefile'] = out[tree_col].astype(str)\n",
    "    out['backend']   = out[backend_col].astype(str)\n",
    "    out['time']      = pd.to_numeric(out[time_col], errors='coerce')\n",
    "\n",
    "    out['tree_key']  = out['treefile']\n",
    "    # Order tree keys by natural sort on any numbers inside (helps readability)\n",
    "    def _nat_key(s):\n",
    "        return [int(t) if t.isdigit() else t for t in re.split(r'(\\d+)', s)]\n",
    "    tree_order = sorted(out['tree_key'].unique(), key=_nat_key)\n",
    "    out['tree_key'] = pd.Categorical(out['tree_key'], categories=tree_order, ordered=True)\n",
    "\n",
    "    # Optional: order backends (put CPU first, then GPU variants)\n",
    "    backend_order = sorted(out['backend'].unique(), key=lambda b: (('cpu' not in b.lower()), b.lower()))\n",
    "    out['backend'] = pd.Categorical(out['backend'], categories=backend_order, ordered=True)\n",
    "    return out\n",
    "\n",
    "dfp = prepare(df)\n",
    "\n",
    "# --- 1) Grouped bars: mean time per backend for each tree ---------------------\n",
    "def plot_grouped_bars(dfp, logy=True, savepath=None):\n",
    "    pivot = dfp.pivot_table(index='tree_key', columns='backend', values='time', aggfunc='mean')\n",
    "    ax = pivot.plot(kind='bar', figsize=(10, 5))\n",
    "    ax.set_xlabel(\"Tree file\")\n",
    "    ax.set_ylabel(\"Runtime (s)\")\n",
    "    ax.set_title(\"runtime per tree\")\n",
    "    if logy:\n",
    "        ax.set_yscale('log')\n",
    "    ax.legend(title=\"Backend\")\n",
    "    plt.tight_layout()\n",
    "    if savepath:\n",
    "        plt.savefig(savepath, dpi=300, bbox_inches='tight')\n",
    "    plt.show()\n",
    "\n",
    "# --- 2) Dot plot: each run as a point (great with log scale) ------------------\n",
    "def plot_dot(dfp, logy=True, savepath=None):\n",
    "    fig, ax = plt.subplots(figsize=(10, 5))\n",
    "    backends = list(dfp['backend'].cat.categories) if hasattr(dfp['backend'], 'cat') else sorted(dfp['backend'].unique())\n",
    "    x_pos = np.arange(len(backends))\n",
    "\n",
    "    jitter = 0.15\n",
    "    for i, b in enumerate(backends):\n",
    "        y = dfp.loc[dfp['backend'] == b, 'time'].values\n",
    "        x = np.random.uniform(i - jitter, i + jitter, size=len(y))\n",
    "        ax.scatter(x, y, s=18, alpha=0.8)  # no explicit colors\n",
    "    ax.set_xticks(x_pos)\n",
    "    ax.set_xticklabels(backends, rotation=0)\n",
    "    ax.set_xlabel(\"Backend\")\n",
    "    ax.set_ylabel(\"Runtime (s)\")\n",
    "    ax.set_title(\"Per-run runtimes by backend\")\n",
    "    if logy:\n",
    "        ax.set_yscale('log')\n",
    "    ax.grid(True, which='both', axis='y', linestyle='--', alpha=0.4)\n",
    "    plt.tight_layout()\n",
    "    if savepath:\n",
    "        plt.savefig(savepath, dpi=300, bbox_inches='tight')\n",
    "    plt.show()\n",
    "\n",
    "# --- 3) Distribution view: boxplot by backend ---------------------------------\n",
    "def plot_box(dfp, logy=True, savepath=None):\n",
    "    fig, ax = plt.subplots(figsize=(10, 5))\n",
    "    dfp.boxplot(column='time', by='backend', ax=ax)  # default style, no colors set\n",
    "    ax.set_title(\"Runtime distribution by backend\")\n",
    "    ax.set_ylabel(\"Runtime (s)\")\n",
    "    if logy:\n",
    "        ax.set_yscale('log')\n",
    "    plt.suptitle(\"\")  # remove automatic super-title\n",
    "    plt.tight_layout()\n",
    "    if savepath:\n",
    "        plt.savefig(savepath, dpi=300, bbox_inches='tight')\n",
    "    plt.show()\n",
    "\n",
    "# --- 4) Compact heatmap: trees x backends (mean time) -------------------------\n",
    "def plot_heatmap(dfp, log=True, savepath=None):\n",
    "    mat = dfp.pivot_table(index='tree_key', columns='backend', values='time', aggfunc='mean')\n",
    "    data = np.log10(mat.values) if log else mat.values\n",
    "\n",
    "    fig, ax = plt.subplots(figsize=(10, max(4, 0.4*len(mat))))\n",
    "    im = ax.imshow(data, aspect='auto')  # default colormap, no color specified\n",
    "\n",
    "    # ticks / labels\n",
    "    ax.set_yticks(np.arange(mat.shape[0]))\n",
    "    ax.set_yticklabels(mat.index.astype(str))\n",
    "    ax.set_xticks(np.arange(mat.shape[1]))\n",
    "    ax.set_xticklabels(mat.columns.astype(str), rotation=45, ha='right')\n",
    "    ax.set_xlabel('Backend')\n",
    "    ax.set_ylabel('Tree file')\n",
    "    ax.set_title('Mean runtime heatmap (log10 seconds)' if log else 'Mean runtime heatmap (seconds)')\n",
    "    fig.colorbar(im, ax=ax, label=('log10(s)' if log else 's'))\n",
    "    plt.tight_layout()\n",
    "    if savepath:\n",
    "        plt.savefig(savepath, dpi=300, bbox_inches='tight')\n",
    "    plt.show()"
   ],
   "metadata": {
    "collapsed": false,
    "ExecuteTime": {
     "end_time": "2025-10-08T04:30:03.564446Z",
     "start_time": "2025-10-08T04:30:03.556207Z"
    }
   },
   "id": "52a40749a2b44bd5",
   "execution_count": 17
  },
  {
   "cell_type": "code",
   "outputs": [
    {
     "ename": "TypeError",
     "evalue": "no numeric data to plot",
     "output_type": "error",
     "traceback": [
      "\u001B[0;31m---------------------------------------------------------------------------\u001B[0m",
      "\u001B[0;31mTypeError\u001B[0m                                 Traceback (most recent call last)",
      "Cell \u001B[0;32mIn[18], line 1\u001B[0m\n\u001B[0;32m----> 1\u001B[0m \u001B[43mplot_grouped_bars\u001B[49m\u001B[43m(\u001B[49m\u001B[43mdfp\u001B[49m\u001B[43m,\u001B[49m\u001B[43m \u001B[49m\u001B[43mlogy\u001B[49m\u001B[38;5;241;43m=\u001B[39;49m\u001B[38;5;28;43;01mTrue\u001B[39;49;00m\u001B[43m)\u001B[49m\n",
      "Cell \u001B[0;32mIn[17], line 37\u001B[0m, in \u001B[0;36mplot_grouped_bars\u001B[0;34m(dfp, logy)\u001B[0m\n\u001B[1;32m     35\u001B[0m \u001B[38;5;28;01mdef\u001B[39;00m \u001B[38;5;21mplot_grouped_bars\u001B[39m(dfp, logy\u001B[38;5;241m=\u001B[39m\u001B[38;5;28;01mTrue\u001B[39;00m):\n\u001B[1;32m     36\u001B[0m     pivot \u001B[38;5;241m=\u001B[39m dfp\u001B[38;5;241m.\u001B[39mpivot_table(index\u001B[38;5;241m=\u001B[39m\u001B[38;5;124m'\u001B[39m\u001B[38;5;124mtree_key\u001B[39m\u001B[38;5;124m'\u001B[39m, columns\u001B[38;5;241m=\u001B[39m\u001B[38;5;124m'\u001B[39m\u001B[38;5;124mbackend\u001B[39m\u001B[38;5;124m'\u001B[39m, values\u001B[38;5;241m=\u001B[39m\u001B[38;5;124m'\u001B[39m\u001B[38;5;124mtime\u001B[39m\u001B[38;5;124m'\u001B[39m, aggfunc\u001B[38;5;241m=\u001B[39m\u001B[38;5;124m'\u001B[39m\u001B[38;5;124mmean\u001B[39m\u001B[38;5;124m'\u001B[39m)\n\u001B[0;32m---> 37\u001B[0m     ax \u001B[38;5;241m=\u001B[39m \u001B[43mpivot\u001B[49m\u001B[38;5;241;43m.\u001B[39;49m\u001B[43mplot\u001B[49m\u001B[43m(\u001B[49m\u001B[43mkind\u001B[49m\u001B[38;5;241;43m=\u001B[39;49m\u001B[38;5;124;43m'\u001B[39;49m\u001B[38;5;124;43mbar\u001B[39;49m\u001B[38;5;124;43m'\u001B[39;49m\u001B[43m,\u001B[49m\u001B[43m \u001B[49m\u001B[43mfigsize\u001B[49m\u001B[38;5;241;43m=\u001B[39;49m\u001B[43m(\u001B[49m\u001B[38;5;241;43m10\u001B[39;49m\u001B[43m,\u001B[49m\u001B[43m \u001B[49m\u001B[38;5;241;43m5\u001B[39;49m\u001B[43m)\u001B[49m\u001B[43m)\u001B[49m\n\u001B[1;32m     38\u001B[0m     ax\u001B[38;5;241m.\u001B[39mset_xlabel(\u001B[38;5;124m\"\u001B[39m\u001B[38;5;124mTree file\u001B[39m\u001B[38;5;124m\"\u001B[39m)\n\u001B[1;32m     39\u001B[0m     ax\u001B[38;5;241m.\u001B[39mset_ylabel(\u001B[38;5;124m\"\u001B[39m\u001B[38;5;124mRuntime (s)\u001B[39m\u001B[38;5;124m\"\u001B[39m)\n",
      "File \u001B[0;32m/opt/anaconda3/envs/EvoNAPS/lib/python3.8/site-packages/pandas/plotting/_core.py:975\u001B[0m, in \u001B[0;36mPlotAccessor.__call__\u001B[0;34m(self, *args, **kwargs)\u001B[0m\n\u001B[1;32m    972\u001B[0m             label_name \u001B[38;5;241m=\u001B[39m label_kw \u001B[38;5;129;01mor\u001B[39;00m data\u001B[38;5;241m.\u001B[39mcolumns\n\u001B[1;32m    973\u001B[0m             data\u001B[38;5;241m.\u001B[39mcolumns \u001B[38;5;241m=\u001B[39m label_name\n\u001B[0;32m--> 975\u001B[0m \u001B[38;5;28;01mreturn\u001B[39;00m \u001B[43mplot_backend\u001B[49m\u001B[38;5;241;43m.\u001B[39;49m\u001B[43mplot\u001B[49m\u001B[43m(\u001B[49m\u001B[43mdata\u001B[49m\u001B[43m,\u001B[49m\u001B[43m \u001B[49m\u001B[43mkind\u001B[49m\u001B[38;5;241;43m=\u001B[39;49m\u001B[43mkind\u001B[49m\u001B[43m,\u001B[49m\u001B[43m \u001B[49m\u001B[38;5;241;43m*\u001B[39;49m\u001B[38;5;241;43m*\u001B[39;49m\u001B[43mkwargs\u001B[49m\u001B[43m)\u001B[49m\n",
      "File \u001B[0;32m/opt/anaconda3/envs/EvoNAPS/lib/python3.8/site-packages/pandas/plotting/_matplotlib/__init__.py:71\u001B[0m, in \u001B[0;36mplot\u001B[0;34m(data, kind, **kwargs)\u001B[0m\n\u001B[1;32m     69\u001B[0m         kwargs[\u001B[38;5;124m\"\u001B[39m\u001B[38;5;124max\u001B[39m\u001B[38;5;124m\"\u001B[39m] \u001B[38;5;241m=\u001B[39m \u001B[38;5;28mgetattr\u001B[39m(ax, \u001B[38;5;124m\"\u001B[39m\u001B[38;5;124mleft_ax\u001B[39m\u001B[38;5;124m\"\u001B[39m, ax)\n\u001B[1;32m     70\u001B[0m plot_obj \u001B[38;5;241m=\u001B[39m PLOT_CLASSES[kind](data, \u001B[38;5;241m*\u001B[39m\u001B[38;5;241m*\u001B[39mkwargs)\n\u001B[0;32m---> 71\u001B[0m \u001B[43mplot_obj\u001B[49m\u001B[38;5;241;43m.\u001B[39;49m\u001B[43mgenerate\u001B[49m\u001B[43m(\u001B[49m\u001B[43m)\u001B[49m\n\u001B[1;32m     72\u001B[0m plot_obj\u001B[38;5;241m.\u001B[39mdraw()\n\u001B[1;32m     73\u001B[0m \u001B[38;5;28;01mreturn\u001B[39;00m plot_obj\u001B[38;5;241m.\u001B[39mresult\n",
      "File \u001B[0;32m/opt/anaconda3/envs/EvoNAPS/lib/python3.8/site-packages/pandas/plotting/_matplotlib/core.py:446\u001B[0m, in \u001B[0;36mMPLPlot.generate\u001B[0;34m(self)\u001B[0m\n\u001B[1;32m    444\u001B[0m \u001B[38;5;28;01mdef\u001B[39;00m \u001B[38;5;21mgenerate\u001B[39m(\u001B[38;5;28mself\u001B[39m) \u001B[38;5;241m-\u001B[39m\u001B[38;5;241m>\u001B[39m \u001B[38;5;28;01mNone\u001B[39;00m:\n\u001B[1;32m    445\u001B[0m     \u001B[38;5;28mself\u001B[39m\u001B[38;5;241m.\u001B[39m_args_adjust()\n\u001B[0;32m--> 446\u001B[0m     \u001B[38;5;28;43mself\u001B[39;49m\u001B[38;5;241;43m.\u001B[39;49m\u001B[43m_compute_plot_data\u001B[49m\u001B[43m(\u001B[49m\u001B[43m)\u001B[49m\n\u001B[1;32m    447\u001B[0m     \u001B[38;5;28mself\u001B[39m\u001B[38;5;241m.\u001B[39m_setup_subplots()\n\u001B[1;32m    448\u001B[0m     \u001B[38;5;28mself\u001B[39m\u001B[38;5;241m.\u001B[39m_make_plot()\n",
      "File \u001B[0;32m/opt/anaconda3/envs/EvoNAPS/lib/python3.8/site-packages/pandas/plotting/_matplotlib/core.py:632\u001B[0m, in \u001B[0;36mMPLPlot._compute_plot_data\u001B[0;34m(self)\u001B[0m\n\u001B[1;32m    630\u001B[0m \u001B[38;5;66;03m# no non-numeric frames or series allowed\u001B[39;00m\n\u001B[1;32m    631\u001B[0m \u001B[38;5;28;01mif\u001B[39;00m is_empty:\n\u001B[0;32m--> 632\u001B[0m     \u001B[38;5;28;01mraise\u001B[39;00m \u001B[38;5;167;01mTypeError\u001B[39;00m(\u001B[38;5;124m\"\u001B[39m\u001B[38;5;124mno numeric data to plot\u001B[39m\u001B[38;5;124m\"\u001B[39m)\n\u001B[1;32m    634\u001B[0m \u001B[38;5;28mself\u001B[39m\u001B[38;5;241m.\u001B[39mdata \u001B[38;5;241m=\u001B[39m numeric_data\u001B[38;5;241m.\u001B[39mapply(\u001B[38;5;28mself\u001B[39m\u001B[38;5;241m.\u001B[39m_convert_to_ndarray)\n",
      "\u001B[0;31mTypeError\u001B[0m: no numeric data to plot"
     ]
    }
   ],
   "source": [
    "plot_grouped_bars(dfp, logy=True)"
   ],
   "metadata": {
    "collapsed": false,
    "ExecuteTime": {
     "end_time": "2025-10-08T04:30:04.117801Z",
     "start_time": "2025-10-08T04:30:03.565201Z"
    }
   },
   "id": "ba038d00ab5c528b",
   "execution_count": 18
  },
  {
   "cell_type": "code",
   "outputs": [],
   "source": [
    "plot_grouped_bars(dfp, logy=False)\n"
   ],
   "metadata": {
    "collapsed": false,
    "ExecuteTime": {
     "end_time": "2025-10-08T04:30:04.118773Z",
     "start_time": "2025-10-08T04:30:04.118707Z"
    }
   },
   "id": "68251e99ff36e09c",
   "execution_count": null
  },
  {
   "cell_type": "code",
   "outputs": [],
   "source": [],
   "metadata": {
    "collapsed": false
   },
   "id": "60d5e132d900c6b5",
   "execution_count": null
  }
 ],
 "metadata": {
  "kernelspec": {
   "display_name": "Python 3",
   "language": "python",
   "name": "python3"
  },
  "language_info": {
   "codemirror_mode": {
    "name": "ipython",
    "version": 2
   },
   "file_extension": ".py",
   "mimetype": "text/x-python",
   "name": "python",
   "nbconvert_exporter": "python",
   "pygments_lexer": "ipython2",
   "version": "2.7.6"
  }
 },
 "nbformat": 4,
 "nbformat_minor": 5
}
