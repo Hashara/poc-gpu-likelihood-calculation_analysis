{
 "cells": [
  {
   "cell_type": "code",
   "outputs": [],
   "source": [
    "import os\n",
    "import re\n",
    "import csv\n",
    "import numpy as np\n"
   ],
   "metadata": {
    "collapsed": false,
    "ExecuteTime": {
     "end_time": "2025-10-06T11:45:04.085512Z",
     "start_time": "2025-10-06T11:45:03.955531Z"
    }
   },
   "id": "79517fe647b4eabc",
   "execution_count": 1
  },
  {
   "cell_type": "markdown",
   "source": [
    "# preapre CSV"
   ],
   "metadata": {
    "collapsed": false
   },
   "id": "43a97ce4ed941acb"
  },
  {
   "cell_type": "code",
   "outputs": [],
   "source": [
    "results_path = \"/Users/u7826985/Projects/Nvidia/results/a100_target/100taxa_diff_trees_1M_sites_AA\"\n",
    "output_csv = \"/Users/u7826985/Projects/Nvidia/results/a100_target/100taxa_diff_trees_1M_sites_AA/results.csv\"\n",
    "compare_path= \"/Users/u7826985/Projects/Nvidia/results/composite_hadamard_optimization/100taxa_diff_trees_1M_sites_AA\""
   ],
   "metadata": {
    "collapsed": false,
    "ExecuteTime": {
     "end_time": "2025-10-06T11:45:05.250797Z",
     "start_time": "2025-10-06T11:45:05.249045Z"
    }
   },
   "id": "c8ab120169e7a438",
   "execution_count": 2
  },
  {
   "cell_type": "code",
   "outputs": [],
   "source": [
    "# Regex to capture the RESULT line\n",
    "pattern = re.compile(\n",
    "    r\"\\[RESULT\\]\\s*backend=(\\w+)\\s+taxa=(\\d+)\\s+sites=(\\d+)\\s+patterns=(\\d+)\\s+time=([\\d\\.e\\+\\-]+)s\\s+likelihood=([\\-.\\deE]+)\"\n",
    ")\n"
   ],
   "metadata": {
    "collapsed": false,
    "ExecuteTime": {
     "end_time": "2025-10-06T11:45:06.241155Z",
     "start_time": "2025-10-06T11:45:06.238015Z"
    }
   },
   "id": "1f142dcf860868a5",
   "execution_count": 3
  },
  {
   "cell_type": "code",
   "outputs": [],
   "source": [
    "data = []"
   ],
   "metadata": {
    "collapsed": false,
    "ExecuteTime": {
     "end_time": "2025-10-06T11:45:06.938647Z",
     "start_time": "2025-10-06T11:45:06.936093Z"
    }
   },
   "id": "71e17de7c778da98",
   "execution_count": 4
  },
  {
   "cell_type": "code",
   "outputs": [],
   "source": [
    "#read files in results_path\n",
    "\n",
    "def read_files_in_directory(directory, unique_name=\"\"):\n",
    "    for i in range(1, 11):\n",
    "        tree_folder = f\"{directory}/tree_{i}\"\n",
    "        files = os.listdir(tree_folder)\n",
    "        for file in files:\n",
    "            if file.endswith('.txt'):\n",
    "                print(f\"Reading file: {file}\")\n",
    "                with open(f'{tree_folder}/{file}', 'r') as f:\n",
    "                    #get treefile name from the txt file name\n",
    "                    tree_file_name = file.split(\"_\")[3] + \"_\" + file.split(\"_\")[4]\n",
    "                    # detect file name contains \"a100\"\n",
    "                    a100 = False\n",
    "                    transposed = False\n",
    "                    if \"a100\" in file:\n",
    "                        a100 = True\n",
    "                    if \"transpose\" in file:\n",
    "                        transposed = True\n",
    "                        \n",
    "                        \n",
    "                    for line in f:\n",
    "                        match = pattern.search(line)\n",
    "                        if match:\n",
    "                            backend, taxa, sites, patterns, time, likelihood = match.groups()\n",
    "                            if a100:\n",
    "                                backend += \"_A100\"\n",
    "                            else:\n",
    "                                backend += \"_V100\"\n",
    "                                \n",
    "                            if transposed:\n",
    "                                backend += \"_transposed\"\n",
    "                                continue\n",
    "                                \n",
    "                            if taxa != \"100\":\n",
    "                                continue\n",
    "                            backend += unique_name\n",
    "                            data.append([backend, taxa, sites, patterns, likelihood, time, tree_file_name])\n",
    "    \n",
    "                            # Write to CSV\n",
    "                            # with open(output_csv, 'w', newline='') as csvfile:\n",
    "                            #     writer = csv.writer(csvfile)\n",
    "                            #     writer.writerow([\"backend\", \"taxa\", \"sites\", \"patterns\", \"likelihood\", \"time\"])\n",
    "                            #     writer.writerows(data)\n",
    "\n",
    "    print(f\"Extracted {len(data)} results to {output_csv}\")\n",
    "\n"
   ],
   "metadata": {
    "collapsed": false,
    "ExecuteTime": {
     "end_time": "2025-10-06T11:45:07.419005Z",
     "start_time": "2025-10-06T11:45:07.415325Z"
    }
   },
   "id": "724695c99da28d7",
   "execution_count": 5
  },
  {
   "cell_type": "code",
   "outputs": [
    {
     "name": "stdout",
     "output_type": "stream",
     "text": [
      "Reading file: output_run_ci_tree_1_1000000_aa_openacc_transpose_a100.txt\n",
      "Reading file: output_run_ci_tree_1_1000000_aa_openacc_a100.txt\n",
      "Reading file: output_run_ci_tree_2_1000000_aa_openacc_a100.txt\n",
      "Reading file: output_run_ci_tree_2_1000000_aa_openacc_transpose_a100.txt\n",
      "Reading file: output_run_ci_tree_3_1000000_aa_openacc_a100.txt\n",
      "Reading file: output_run_ci_tree_3_1000000_aa_openacc_transpose_a100.txt\n",
      "Reading file: output_run_ci_tree_4_1000000_aa_openacc_transpose_a100.txt\n",
      "Reading file: output_run_ci_tree_4_1000000_aa_openacc_a100.txt\n",
      "Reading file: output_run_ci_tree_5_1000000_aa_openacc_a100.txt\n",
      "Reading file: output_run_ci_tree_5_1000000_aa_openacc_transpose_a100.txt\n",
      "Reading file: output_run_ci_tree_6_1000000_aa_openacc_a100.txt\n",
      "Reading file: output_run_ci_tree_6_1000000_aa_openacc_transpose_a100.txt\n",
      "Reading file: output_run_ci_tree_7_1000000_aa_openacc_a100.txt\n",
      "Reading file: output_run_ci_tree_7_1000000_aa_openacc_transpose_a100.txt\n",
      "Reading file: output_run_ci_tree_8_1000000_aa_openacc_a100.txt\n",
      "Reading file: output_run_ci_tree_8_1000000_aa_openacc_transpose_a100.txt\n",
      "Reading file: output_run_ci_tree_9_1000000_aa_openacc_transpose_a100.txt\n",
      "Reading file: output_run_ci_tree_9_1000000_aa_openacc_a100.txt\n",
      "Reading file: output_run_ci_tree_10_1000000_aa_openacc_a100.txt\n",
      "Reading file: output_run_ci_tree_10_1000000_aa_openacc_transpose_a100.txt\n",
      "Extracted 10 results to /Users/u7826985/Projects/Nvidia/results/a100_target/100taxa_diff_trees_1M_sites_AA/results.csv\n"
     ]
    }
   ],
   "source": [
    "read_files_in_directory(results_path, unique_name=\"_set_a100_target\")"
   ],
   "metadata": {
    "collapsed": false,
    "ExecuteTime": {
     "end_time": "2025-10-06T11:45:08.448129Z",
     "start_time": "2025-10-06T11:45:08.436215Z"
    }
   },
   "id": "db15b671bb21e899",
   "execution_count": 6
  },
  {
   "cell_type": "code",
   "outputs": [
    {
     "name": "stdout",
     "output_type": "stream",
     "text": [
      "Reading file: output_run_ci_tree_1_1000000_aa_openacc_transpose_v100.txt\n",
      "Reading file: output_run_ci_tree_1_1000000_aa_openacc_v100.txt\n",
      "Reading file: output_run_ci_tree_1_1000000_aa_openacc_transpose_a100.txt\n",
      "Reading file: output_run_ci_tree_1_1000000_aa_openacc_a100.txt\n",
      "Reading file: output_run_ci_tree_2_1000000_aa_openacc_transpose_v100.txt\n",
      "Reading file: output_run_ci_tree_2_1000000_aa_openacc_a100.txt\n",
      "Reading file: output_run_ci_tree_2_1000000_aa_openacc_v100.txt\n",
      "Reading file: output_run_ci_tree_2_1000000_aa_openacc_transpose_a100.txt\n",
      "Reading file: output_run_ci_tree_3_1000000_aa_openacc_transpose_v100.txt\n",
      "Reading file: output_run_ci_tree_3_1000000_aa_openacc_a100.txt\n",
      "Reading file: output_run_ci_tree_3_1000000_aa_openacc_transpose_a100.txt\n",
      "Reading file: output_run_ci_tree_3_1000000_aa_openacc_v100.txt\n",
      "Reading file: output_run_ci_tree_4_1000000_aa_openacc_transpose_v100.txt\n",
      "Reading file: output_run_ci_tree_4_1000000_aa_openacc_v100.txt\n",
      "Reading file: output_run_ci_tree_4_1000000_aa_openacc_transpose_a100.txt\n",
      "Reading file: output_run_ci_tree_4_1000000_aa_openacc_a100.txt\n",
      "Reading file: output_run_ci_tree_5_1000000_aa_openacc_transpose_v100.txt\n",
      "Reading file: output_run_ci_tree_5_1000000_aa_openacc_v100.txt\n",
      "Reading file: output_run_ci_tree_5_1000000_aa_openacc_a100.txt\n",
      "Reading file: output_run_ci_tree_5_1000000_aa_openacc_transpose_a100.txt\n",
      "Reading file: output_run_ci_tree_6_1000000_aa_openacc_transpose_v100.txt\n",
      "Reading file: output_run_ci_tree_6_1000000_aa_openacc_a100.txt\n",
      "Reading file: output_run_ci_tree_6_1000000_aa_openacc_transpose_a100.txt\n",
      "Reading file: output_run_ci_tree_6_1000000_aa_openacc_v100.txt\n",
      "Reading file: output_run_ci_tree_7_1000000_aa_openacc_transpose_v100.txt\n",
      "Reading file: output_run_ci_tree_7_1000000_aa_openacc_a100.txt\n",
      "Reading file: output_run_ci_tree_7_1000000_aa_openacc_v100.txt\n",
      "Reading file: output_run_ci_tree_7_1000000_aa_openacc_transpose_a100.txt\n",
      "Reading file: output_run_ci_tree_8_1000000_aa_openacc_a100.txt\n",
      "Reading file: output_run_ci_tree_8_1000000_aa_openacc_transpose_a100.txt\n",
      "Reading file: output_run_ci_tree_8_1000000_aa_openacc_transpose_v100.txt\n",
      "Reading file: output_run_ci_tree_8_1000000_aa_openacc_v100.txt\n",
      "Reading file: output_run_ci_tree_9_1000000_aa_openacc_transpose_a100.txt\n",
      "Reading file: output_run_ci_tree_9_1000000_aa_openacc_a100.txt\n",
      "Reading file: output_run_ci_tree_9_1000000_aa_openacc_transpose_v100.txt\n",
      "Reading file: output_run_ci_tree_9_1000000_aa_openacc_v100.txt\n",
      "Reading file: output_run_ci_tree_10_1000000_aa_openacc_transpose_v100.txt\n",
      "Reading file: output_run_ci_tree_10_1000000_aa_openacc_a100.txt\n",
      "Reading file: output_run_ci_tree_10_1000000_aa_openacc_v100.txt\n",
      "Reading file: output_run_ci_tree_10_1000000_aa_openacc_transpose_a100.txt\n",
      "Extracted 30 results to /Users/u7826985/Projects/Nvidia/results/a100_target/100taxa_diff_trees_1M_sites_AA/results.csv\n"
     ]
    }
   ],
   "source": [
    "read_files_in_directory(compare_path)"
   ],
   "metadata": {
    "collapsed": false,
    "ExecuteTime": {
     "end_time": "2025-10-06T11:45:08.969128Z",
     "start_time": "2025-10-06T11:45:08.944255Z"
    }
   },
   "id": "48ecb166a0d1b377",
   "execution_count": 7
  },
  {
   "cell_type": "code",
   "outputs": [
    {
     "name": "stdout",
     "output_type": "stream",
     "text": [
      "[['OPENACC_A100_set_a100_target', '100', '1000000', '1000000', '-110413195.778517276048660', '1.905702621000000', 'tree_1'], ['OPENACC_A100_set_a100_target', '100', '1000000', '1000000', '-99186349.700422137975693', '1.848398400000000', 'tree_2'], ['OPENACC_A100_set_a100_target', '100', '1000000', '1000000', '-112041381.325586110353470', '1.733933523000000', 'tree_3'], ['OPENACC_A100_set_a100_target', '100', '1000000', '1000000', '-97277284.227406084537506', '1.865540039000000', 'tree_4'], ['OPENACC_A100_set_a100_target', '100', '1000000', '1000000', '-109757143.329428479075432', '1.823591423000000', 'tree_5'], ['OPENACC_A100_set_a100_target', '100', '1000000', '1000000', '-102915332.041291594505310', '1.785260882000000', 'tree_6'], ['OPENACC_A100_set_a100_target', '100', '1000000', '1000000', '-104636698.409147098660469', '1.738040823000000', 'tree_7'], ['OPENACC_A100_set_a100_target', '100', '1000000', '1000000', '-106825444.951877146959305', '1.760990711000000', 'tree_8'], ['OPENACC_A100_set_a100_target', '100', '1000000', '1000000', '-95332589.209261104464531', '1.733455136000000', 'tree_9'], ['OPENACC_A100_set_a100_target', '100', '1000000', '1000000', '-106559017.964738756418228', '2.189734951000000', 'tree_10'], ['OPENACC_V100', '100', '1000000', '1000000', '-110413195.778517276048660', '1.742196749000000', 'tree_1'], ['OPENACC_A100', '100', '1000000', '1000000', '-110413195.778517276048660', '2.176273396000000', 'tree_1'], ['OPENACC_A100', '100', '1000000', '1000000', '-99186349.700422137975693', '1.697769392000000', 'tree_2'], ['OPENACC_V100', '100', '1000000', '1000000', '-99186349.700422137975693', '1.728839479000000', 'tree_2'], ['OPENACC_A100', '100', '1000000', '1000000', '-112041381.325586110353470', '1.670411364000000', 'tree_3'], ['OPENACC_V100', '100', '1000000', '1000000', '-112041381.325586110353470', '1.751877993000000', 'tree_3'], ['OPENACC_V100', '100', '1000000', '1000000', '-97277284.227406084537506', '1.719114080000000', 'tree_4'], ['OPENACC_A100', '100', '1000000', '1000000', '-97277284.227406084537506', '1.923490310000000', 'tree_4'], ['OPENACC_V100', '100', '1000000', '1000000', '-109757143.329428479075432', '1.700153785000000', 'tree_5'], ['OPENACC_A100', '100', '1000000', '1000000', '-109757143.329428479075432', '2.191260151000000', 'tree_5'], ['OPENACC_A100', '100', '1000000', '1000000', '-102915332.041291594505310', '1.709792324000000', 'tree_6'], ['OPENACC_V100', '100', '1000000', '1000000', '-102915332.041291594505310', '1.730002893000000', 'tree_6'], ['OPENACC_A100', '100', '1000000', '1000000', '-104636698.409147098660469', '1.800129828000000', 'tree_7'], ['OPENACC_V100', '100', '1000000', '1000000', '-104636698.409147098660469', '1.708086351000000', 'tree_7'], ['OPENACC_A100', '100', '1000000', '1000000', '-106825444.951877146959305', '1.670841257000000', 'tree_8'], ['OPENACC_V100', '100', '1000000', '1000000', '-106825444.951877146959305', '1.773672333000000', 'tree_8'], ['OPENACC_A100', '100', '1000000', '1000000', '-95332589.209261104464531', '1.749170032000000', 'tree_9'], ['OPENACC_V100', '100', '1000000', '1000000', '-95332589.209261104464531', '1.724014474000000', 'tree_9'], ['OPENACC_A100', '100', '1000000', '1000000', '-106559017.964738756418228', '2.294670176000000', 'tree_10'], ['OPENACC_V100', '100', '1000000', '1000000', '-106559017.964738756418228', '1.710858568000000', 'tree_10']]\n"
     ]
    }
   ],
   "source": [
    "print(data)"
   ],
   "metadata": {
    "collapsed": false,
    "ExecuteTime": {
     "end_time": "2025-10-06T11:45:09.520954Z",
     "start_time": "2025-10-06T11:45:09.519196Z"
    }
   },
   "id": "498c834b16e9669d",
   "execution_count": 8
  },
  {
   "cell_type": "code",
   "outputs": [],
   "source": [
    "alignment_pattern = re.compile(r\"Alignment has (\\d+) sequences with (\\d+) columns, (\\d+) distinct patterns\")\n",
    "likelihood_pattern = re.compile(r\"Initial log-likelihood:\\s+([-0-9.]+).*?took ([0-9.]+) wall-clock sec\")\n",
    "\n",
    "# Data list\n",
    "# data = []\n"
   ],
   "metadata": {
    "collapsed": false,
    "ExecuteTime": {
     "end_time": "2025-10-06T11:45:10.396066Z",
     "start_time": "2025-10-06T11:45:10.393153Z"
    }
   },
   "id": "55d38ba2aedf4ac9",
   "execution_count": 9
  },
  {
   "cell_type": "code",
   "outputs": [],
   "source": [
    "# add iqtree results\n",
    "iqtree_results_path = results_path\n",
    "\n",
    "def read_iqtree_results(directory):\n",
    "    for i in range(1, 11):\n",
    "        tree_folder = f\"{directory}/tree_{i}\"\n",
    "        files = os.listdir(tree_folder)\n",
    "        for file in files:\n",
    "            if file.endswith('iqtree.log'):\n",
    "                print(f\"Reading IQ-TREE file: {file}\")\n",
    "                with open(f'{tree_folder}/{file}', 'r') as f:\n",
    "                    tree_file_name = file.split(\"_\")[3] + \"_\" + file.split(\"_\")[4]\n",
    "                    content = f.read()\n",
    "            \n",
    "                    # Extract alignment info\n",
    "                    aln_match = alignment_pattern.search(content)\n",
    "                    ll_match = likelihood_pattern.search(content)\n",
    "                    \n",
    "                    if aln_match and ll_match:\n",
    "                        taxa = int(aln_match.group(1))\n",
    "                        sites = int(aln_match.group(2))\n",
    "                        patterns = int(aln_match.group(3))\n",
    "                        likelihood = float(ll_match.group(1))\n",
    "                        time = float(ll_match.group(2))\n",
    "                        \n",
    "                        data.append([\"IQ-TREE_SIMD\", taxa, sites, patterns, likelihood, time, tree_file_name])\n",
    "\n",
    "\n",
    "\n",
    "    print(f\"Extracted {len(data)} IQ-TREE results to {output_csv}\")"
   ],
   "metadata": {
    "collapsed": false,
    "ExecuteTime": {
     "end_time": "2025-10-06T11:45:10.940073Z",
     "start_time": "2025-10-06T11:45:10.937006Z"
    }
   },
   "id": "d50828e8bf1138ac",
   "execution_count": 10
  },
  {
   "cell_type": "code",
   "outputs": [
    {
     "name": "stdout",
     "output_type": "stream",
     "text": [
      "Extracted 30 IQ-TREE results to /Users/u7826985/Projects/Nvidia/results/a100_target/100taxa_diff_trees_1M_sites_AA/results.csv\n"
     ]
    }
   ],
   "source": [
    "read_iqtree_results(iqtree_results_path)"
   ],
   "metadata": {
    "collapsed": false,
    "ExecuteTime": {
     "end_time": "2025-10-06T11:45:11.511914Z",
     "start_time": "2025-10-06T11:45:11.509219Z"
    }
   },
   "id": "7c7d82559575ebbb",
   "execution_count": 11
  },
  {
   "cell_type": "code",
   "outputs": [
    {
     "name": "stdout",
     "output_type": "stream",
     "text": [
      "[['OPENACC_A100_set_a100_target', '100', '1000000', '1000000', '-110413195.778517276048660', '1.905702621000000', 'tree_1'], ['OPENACC_A100_set_a100_target', '100', '1000000', '1000000', '-99186349.700422137975693', '1.848398400000000', 'tree_2'], ['OPENACC_A100_set_a100_target', '100', '1000000', '1000000', '-112041381.325586110353470', '1.733933523000000', 'tree_3'], ['OPENACC_A100_set_a100_target', '100', '1000000', '1000000', '-97277284.227406084537506', '1.865540039000000', 'tree_4'], ['OPENACC_A100_set_a100_target', '100', '1000000', '1000000', '-109757143.329428479075432', '1.823591423000000', 'tree_5'], ['OPENACC_A100_set_a100_target', '100', '1000000', '1000000', '-102915332.041291594505310', '1.785260882000000', 'tree_6'], ['OPENACC_A100_set_a100_target', '100', '1000000', '1000000', '-104636698.409147098660469', '1.738040823000000', 'tree_7'], ['OPENACC_A100_set_a100_target', '100', '1000000', '1000000', '-106825444.951877146959305', '1.760990711000000', 'tree_8'], ['OPENACC_A100_set_a100_target', '100', '1000000', '1000000', '-95332589.209261104464531', '1.733455136000000', 'tree_9'], ['OPENACC_A100_set_a100_target', '100', '1000000', '1000000', '-106559017.964738756418228', '2.189734951000000', 'tree_10'], ['OPENACC_V100', '100', '1000000', '1000000', '-110413195.778517276048660', '1.742196749000000', 'tree_1'], ['OPENACC_A100', '100', '1000000', '1000000', '-110413195.778517276048660', '2.176273396000000', 'tree_1'], ['OPENACC_A100', '100', '1000000', '1000000', '-99186349.700422137975693', '1.697769392000000', 'tree_2'], ['OPENACC_V100', '100', '1000000', '1000000', '-99186349.700422137975693', '1.728839479000000', 'tree_2'], ['OPENACC_A100', '100', '1000000', '1000000', '-112041381.325586110353470', '1.670411364000000', 'tree_3'], ['OPENACC_V100', '100', '1000000', '1000000', '-112041381.325586110353470', '1.751877993000000', 'tree_3'], ['OPENACC_V100', '100', '1000000', '1000000', '-97277284.227406084537506', '1.719114080000000', 'tree_4'], ['OPENACC_A100', '100', '1000000', '1000000', '-97277284.227406084537506', '1.923490310000000', 'tree_4'], ['OPENACC_V100', '100', '1000000', '1000000', '-109757143.329428479075432', '1.700153785000000', 'tree_5'], ['OPENACC_A100', '100', '1000000', '1000000', '-109757143.329428479075432', '2.191260151000000', 'tree_5'], ['OPENACC_A100', '100', '1000000', '1000000', '-102915332.041291594505310', '1.709792324000000', 'tree_6'], ['OPENACC_V100', '100', '1000000', '1000000', '-102915332.041291594505310', '1.730002893000000', 'tree_6'], ['OPENACC_A100', '100', '1000000', '1000000', '-104636698.409147098660469', '1.800129828000000', 'tree_7'], ['OPENACC_V100', '100', '1000000', '1000000', '-104636698.409147098660469', '1.708086351000000', 'tree_7'], ['OPENACC_A100', '100', '1000000', '1000000', '-106825444.951877146959305', '1.670841257000000', 'tree_8'], ['OPENACC_V100', '100', '1000000', '1000000', '-106825444.951877146959305', '1.773672333000000', 'tree_8'], ['OPENACC_A100', '100', '1000000', '1000000', '-95332589.209261104464531', '1.749170032000000', 'tree_9'], ['OPENACC_V100', '100', '1000000', '1000000', '-95332589.209261104464531', '1.724014474000000', 'tree_9'], ['OPENACC_A100', '100', '1000000', '1000000', '-106559017.964738756418228', '2.294670176000000', 'tree_10'], ['OPENACC_V100', '100', '1000000', '1000000', '-106559017.964738756418228', '1.710858568000000', 'tree_10']]\n"
     ]
    }
   ],
   "source": [
    "print(data)"
   ],
   "metadata": {
    "collapsed": false,
    "ExecuteTime": {
     "end_time": "2025-10-06T11:45:12.062354Z",
     "start_time": "2025-10-06T11:45:12.060681Z"
    }
   },
   "id": "e5fad9e3ad2d1cc0",
   "execution_count": 12
  },
  {
   "cell_type": "code",
   "outputs": [],
   "source": [
    "# Write to CSV\n",
    "with open(output_csv, 'w', newline='') as csvfile:\n",
    "    writer = csv.writer(csvfile)\n",
    "    writer.writerow([\"backend\", \"taxa\", \"sites\", \"patterns\", \"likelihood\", \"time\",\"treefile\"])\n",
    "    writer.writerows(data)"
   ],
   "metadata": {
    "collapsed": false,
    "ExecuteTime": {
     "end_time": "2025-10-06T11:45:12.713122Z",
     "start_time": "2025-10-06T11:45:12.710191Z"
    }
   },
   "id": "ba9439bf6c805ffc",
   "execution_count": 13
  },
  {
   "cell_type": "markdown",
   "source": [
    "# Analysis of Results"
   ],
   "metadata": {
    "collapsed": false
   },
   "id": "5d212e0e49be55f"
  },
  {
   "cell_type": "code",
   "outputs": [],
   "source": [
    "import pandas as pd\n",
    "import matplotlib.pyplot as plt\n"
   ],
   "metadata": {
    "collapsed": false,
    "ExecuteTime": {
     "end_time": "2025-10-06T11:45:14.472412Z",
     "start_time": "2025-10-06T11:45:13.974926Z"
    }
   },
   "id": "6a961dfb130793a",
   "execution_count": 14
  },
  {
   "cell_type": "code",
   "outputs": [
    {
     "data": {
      "text/plain": "                        backend  taxa    sites  patterns    likelihood  \\\n0  OPENACC_A100_set_a100_target   100  1000000   1000000 -1.104132e+08   \n1  OPENACC_A100_set_a100_target   100  1000000   1000000 -9.918635e+07   \n2  OPENACC_A100_set_a100_target   100  1000000   1000000 -1.120414e+08   \n3  OPENACC_A100_set_a100_target   100  1000000   1000000 -9.727728e+07   \n4  OPENACC_A100_set_a100_target   100  1000000   1000000 -1.097571e+08   \n\n       time treefile  \n0  1.905703   tree_1  \n1  1.848398   tree_2  \n2  1.733934   tree_3  \n3  1.865540   tree_4  \n4  1.823591   tree_5  ",
      "text/html": "<div>\n<style scoped>\n    .dataframe tbody tr th:only-of-type {\n        vertical-align: middle;\n    }\n\n    .dataframe tbody tr th {\n        vertical-align: top;\n    }\n\n    .dataframe thead th {\n        text-align: right;\n    }\n</style>\n<table border=\"1\" class=\"dataframe\">\n  <thead>\n    <tr style=\"text-align: right;\">\n      <th></th>\n      <th>backend</th>\n      <th>taxa</th>\n      <th>sites</th>\n      <th>patterns</th>\n      <th>likelihood</th>\n      <th>time</th>\n      <th>treefile</th>\n    </tr>\n  </thead>\n  <tbody>\n    <tr>\n      <th>0</th>\n      <td>OPENACC_A100_set_a100_target</td>\n      <td>100</td>\n      <td>1000000</td>\n      <td>1000000</td>\n      <td>-1.104132e+08</td>\n      <td>1.905703</td>\n      <td>tree_1</td>\n    </tr>\n    <tr>\n      <th>1</th>\n      <td>OPENACC_A100_set_a100_target</td>\n      <td>100</td>\n      <td>1000000</td>\n      <td>1000000</td>\n      <td>-9.918635e+07</td>\n      <td>1.848398</td>\n      <td>tree_2</td>\n    </tr>\n    <tr>\n      <th>2</th>\n      <td>OPENACC_A100_set_a100_target</td>\n      <td>100</td>\n      <td>1000000</td>\n      <td>1000000</td>\n      <td>-1.120414e+08</td>\n      <td>1.733934</td>\n      <td>tree_3</td>\n    </tr>\n    <tr>\n      <th>3</th>\n      <td>OPENACC_A100_set_a100_target</td>\n      <td>100</td>\n      <td>1000000</td>\n      <td>1000000</td>\n      <td>-9.727728e+07</td>\n      <td>1.865540</td>\n      <td>tree_4</td>\n    </tr>\n    <tr>\n      <th>4</th>\n      <td>OPENACC_A100_set_a100_target</td>\n      <td>100</td>\n      <td>1000000</td>\n      <td>1000000</td>\n      <td>-1.097571e+08</td>\n      <td>1.823591</td>\n      <td>tree_5</td>\n    </tr>\n  </tbody>\n</table>\n</div>"
     },
     "execution_count": 15,
     "metadata": {},
     "output_type": "execute_result"
    }
   ],
   "source": [
    "# Read the CSV file into a DataFrame\n",
    "df = pd.read_csv(output_csv)\n",
    "# Display the first few rows of the DataFrame\n",
    "df.head()"
   ],
   "metadata": {
    "collapsed": false,
    "ExecuteTime": {
     "end_time": "2025-10-06T11:45:14.487681Z",
     "start_time": "2025-10-06T11:45:14.473259Z"
    }
   },
   "id": "fed832d4002e35d4",
   "execution_count": 15
  },
  {
   "cell_type": "code",
   "outputs": [
    {
     "data": {
      "text/plain": "                         backend  taxa    sites  patterns    likelihood  \\\n0   OPENACC_A100_set_a100_target   100  1000000   1000000 -1.104132e+08   \n1   OPENACC_A100_set_a100_target   100  1000000   1000000 -9.918635e+07   \n2   OPENACC_A100_set_a100_target   100  1000000   1000000 -1.120414e+08   \n3   OPENACC_A100_set_a100_target   100  1000000   1000000 -9.727728e+07   \n4   OPENACC_A100_set_a100_target   100  1000000   1000000 -1.097571e+08   \n5   OPENACC_A100_set_a100_target   100  1000000   1000000 -1.029153e+08   \n6   OPENACC_A100_set_a100_target   100  1000000   1000000 -1.046367e+08   \n7   OPENACC_A100_set_a100_target   100  1000000   1000000 -1.068254e+08   \n8   OPENACC_A100_set_a100_target   100  1000000   1000000 -9.533259e+07   \n9   OPENACC_A100_set_a100_target   100  1000000   1000000 -1.065590e+08   \n10                  OPENACC_V100   100  1000000   1000000 -1.104132e+08   \n11                  OPENACC_A100   100  1000000   1000000 -1.104132e+08   \n12                  OPENACC_A100   100  1000000   1000000 -9.918635e+07   \n13                  OPENACC_V100   100  1000000   1000000 -9.918635e+07   \n14                  OPENACC_A100   100  1000000   1000000 -1.120414e+08   \n15                  OPENACC_V100   100  1000000   1000000 -1.120414e+08   \n16                  OPENACC_V100   100  1000000   1000000 -9.727728e+07   \n17                  OPENACC_A100   100  1000000   1000000 -9.727728e+07   \n18                  OPENACC_V100   100  1000000   1000000 -1.097571e+08   \n19                  OPENACC_A100   100  1000000   1000000 -1.097571e+08   \n20                  OPENACC_A100   100  1000000   1000000 -1.029153e+08   \n21                  OPENACC_V100   100  1000000   1000000 -1.029153e+08   \n22                  OPENACC_A100   100  1000000   1000000 -1.046367e+08   \n23                  OPENACC_V100   100  1000000   1000000 -1.046367e+08   \n24                  OPENACC_A100   100  1000000   1000000 -1.068254e+08   \n25                  OPENACC_V100   100  1000000   1000000 -1.068254e+08   \n26                  OPENACC_A100   100  1000000   1000000 -9.533259e+07   \n27                  OPENACC_V100   100  1000000   1000000 -9.533259e+07   \n28                  OPENACC_A100   100  1000000   1000000 -1.065590e+08   \n29                  OPENACC_V100   100  1000000   1000000 -1.065590e+08   \n\n        time treefile  \n0   1.905703   tree_1  \n1   1.848398   tree_2  \n2   1.733934   tree_3  \n3   1.865540   tree_4  \n4   1.823591   tree_5  \n5   1.785261   tree_6  \n6   1.738041   tree_7  \n7   1.760991   tree_8  \n8   1.733455   tree_9  \n9   2.189735  tree_10  \n10  1.742197   tree_1  \n11  2.176273   tree_1  \n12  1.697769   tree_2  \n13  1.728839   tree_2  \n14  1.670411   tree_3  \n15  1.751878   tree_3  \n16  1.719114   tree_4  \n17  1.923490   tree_4  \n18  1.700154   tree_5  \n19  2.191260   tree_5  \n20  1.709792   tree_6  \n21  1.730003   tree_6  \n22  1.800130   tree_7  \n23  1.708086   tree_7  \n24  1.670841   tree_8  \n25  1.773672   tree_8  \n26  1.749170   tree_9  \n27  1.724014   tree_9  \n28  2.294670  tree_10  \n29  1.710859  tree_10  ",
      "text/html": "<div>\n<style scoped>\n    .dataframe tbody tr th:only-of-type {\n        vertical-align: middle;\n    }\n\n    .dataframe tbody tr th {\n        vertical-align: top;\n    }\n\n    .dataframe thead th {\n        text-align: right;\n    }\n</style>\n<table border=\"1\" class=\"dataframe\">\n  <thead>\n    <tr style=\"text-align: right;\">\n      <th></th>\n      <th>backend</th>\n      <th>taxa</th>\n      <th>sites</th>\n      <th>patterns</th>\n      <th>likelihood</th>\n      <th>time</th>\n      <th>treefile</th>\n    </tr>\n  </thead>\n  <tbody>\n    <tr>\n      <th>0</th>\n      <td>OPENACC_A100_set_a100_target</td>\n      <td>100</td>\n      <td>1000000</td>\n      <td>1000000</td>\n      <td>-1.104132e+08</td>\n      <td>1.905703</td>\n      <td>tree_1</td>\n    </tr>\n    <tr>\n      <th>1</th>\n      <td>OPENACC_A100_set_a100_target</td>\n      <td>100</td>\n      <td>1000000</td>\n      <td>1000000</td>\n      <td>-9.918635e+07</td>\n      <td>1.848398</td>\n      <td>tree_2</td>\n    </tr>\n    <tr>\n      <th>2</th>\n      <td>OPENACC_A100_set_a100_target</td>\n      <td>100</td>\n      <td>1000000</td>\n      <td>1000000</td>\n      <td>-1.120414e+08</td>\n      <td>1.733934</td>\n      <td>tree_3</td>\n    </tr>\n    <tr>\n      <th>3</th>\n      <td>OPENACC_A100_set_a100_target</td>\n      <td>100</td>\n      <td>1000000</td>\n      <td>1000000</td>\n      <td>-9.727728e+07</td>\n      <td>1.865540</td>\n      <td>tree_4</td>\n    </tr>\n    <tr>\n      <th>4</th>\n      <td>OPENACC_A100_set_a100_target</td>\n      <td>100</td>\n      <td>1000000</td>\n      <td>1000000</td>\n      <td>-1.097571e+08</td>\n      <td>1.823591</td>\n      <td>tree_5</td>\n    </tr>\n    <tr>\n      <th>5</th>\n      <td>OPENACC_A100_set_a100_target</td>\n      <td>100</td>\n      <td>1000000</td>\n      <td>1000000</td>\n      <td>-1.029153e+08</td>\n      <td>1.785261</td>\n      <td>tree_6</td>\n    </tr>\n    <tr>\n      <th>6</th>\n      <td>OPENACC_A100_set_a100_target</td>\n      <td>100</td>\n      <td>1000000</td>\n      <td>1000000</td>\n      <td>-1.046367e+08</td>\n      <td>1.738041</td>\n      <td>tree_7</td>\n    </tr>\n    <tr>\n      <th>7</th>\n      <td>OPENACC_A100_set_a100_target</td>\n      <td>100</td>\n      <td>1000000</td>\n      <td>1000000</td>\n      <td>-1.068254e+08</td>\n      <td>1.760991</td>\n      <td>tree_8</td>\n    </tr>\n    <tr>\n      <th>8</th>\n      <td>OPENACC_A100_set_a100_target</td>\n      <td>100</td>\n      <td>1000000</td>\n      <td>1000000</td>\n      <td>-9.533259e+07</td>\n      <td>1.733455</td>\n      <td>tree_9</td>\n    </tr>\n    <tr>\n      <th>9</th>\n      <td>OPENACC_A100_set_a100_target</td>\n      <td>100</td>\n      <td>1000000</td>\n      <td>1000000</td>\n      <td>-1.065590e+08</td>\n      <td>2.189735</td>\n      <td>tree_10</td>\n    </tr>\n    <tr>\n      <th>10</th>\n      <td>OPENACC_V100</td>\n      <td>100</td>\n      <td>1000000</td>\n      <td>1000000</td>\n      <td>-1.104132e+08</td>\n      <td>1.742197</td>\n      <td>tree_1</td>\n    </tr>\n    <tr>\n      <th>11</th>\n      <td>OPENACC_A100</td>\n      <td>100</td>\n      <td>1000000</td>\n      <td>1000000</td>\n      <td>-1.104132e+08</td>\n      <td>2.176273</td>\n      <td>tree_1</td>\n    </tr>\n    <tr>\n      <th>12</th>\n      <td>OPENACC_A100</td>\n      <td>100</td>\n      <td>1000000</td>\n      <td>1000000</td>\n      <td>-9.918635e+07</td>\n      <td>1.697769</td>\n      <td>tree_2</td>\n    </tr>\n    <tr>\n      <th>13</th>\n      <td>OPENACC_V100</td>\n      <td>100</td>\n      <td>1000000</td>\n      <td>1000000</td>\n      <td>-9.918635e+07</td>\n      <td>1.728839</td>\n      <td>tree_2</td>\n    </tr>\n    <tr>\n      <th>14</th>\n      <td>OPENACC_A100</td>\n      <td>100</td>\n      <td>1000000</td>\n      <td>1000000</td>\n      <td>-1.120414e+08</td>\n      <td>1.670411</td>\n      <td>tree_3</td>\n    </tr>\n    <tr>\n      <th>15</th>\n      <td>OPENACC_V100</td>\n      <td>100</td>\n      <td>1000000</td>\n      <td>1000000</td>\n      <td>-1.120414e+08</td>\n      <td>1.751878</td>\n      <td>tree_3</td>\n    </tr>\n    <tr>\n      <th>16</th>\n      <td>OPENACC_V100</td>\n      <td>100</td>\n      <td>1000000</td>\n      <td>1000000</td>\n      <td>-9.727728e+07</td>\n      <td>1.719114</td>\n      <td>tree_4</td>\n    </tr>\n    <tr>\n      <th>17</th>\n      <td>OPENACC_A100</td>\n      <td>100</td>\n      <td>1000000</td>\n      <td>1000000</td>\n      <td>-9.727728e+07</td>\n      <td>1.923490</td>\n      <td>tree_4</td>\n    </tr>\n    <tr>\n      <th>18</th>\n      <td>OPENACC_V100</td>\n      <td>100</td>\n      <td>1000000</td>\n      <td>1000000</td>\n      <td>-1.097571e+08</td>\n      <td>1.700154</td>\n      <td>tree_5</td>\n    </tr>\n    <tr>\n      <th>19</th>\n      <td>OPENACC_A100</td>\n      <td>100</td>\n      <td>1000000</td>\n      <td>1000000</td>\n      <td>-1.097571e+08</td>\n      <td>2.191260</td>\n      <td>tree_5</td>\n    </tr>\n    <tr>\n      <th>20</th>\n      <td>OPENACC_A100</td>\n      <td>100</td>\n      <td>1000000</td>\n      <td>1000000</td>\n      <td>-1.029153e+08</td>\n      <td>1.709792</td>\n      <td>tree_6</td>\n    </tr>\n    <tr>\n      <th>21</th>\n      <td>OPENACC_V100</td>\n      <td>100</td>\n      <td>1000000</td>\n      <td>1000000</td>\n      <td>-1.029153e+08</td>\n      <td>1.730003</td>\n      <td>tree_6</td>\n    </tr>\n    <tr>\n      <th>22</th>\n      <td>OPENACC_A100</td>\n      <td>100</td>\n      <td>1000000</td>\n      <td>1000000</td>\n      <td>-1.046367e+08</td>\n      <td>1.800130</td>\n      <td>tree_7</td>\n    </tr>\n    <tr>\n      <th>23</th>\n      <td>OPENACC_V100</td>\n      <td>100</td>\n      <td>1000000</td>\n      <td>1000000</td>\n      <td>-1.046367e+08</td>\n      <td>1.708086</td>\n      <td>tree_7</td>\n    </tr>\n    <tr>\n      <th>24</th>\n      <td>OPENACC_A100</td>\n      <td>100</td>\n      <td>1000000</td>\n      <td>1000000</td>\n      <td>-1.068254e+08</td>\n      <td>1.670841</td>\n      <td>tree_8</td>\n    </tr>\n    <tr>\n      <th>25</th>\n      <td>OPENACC_V100</td>\n      <td>100</td>\n      <td>1000000</td>\n      <td>1000000</td>\n      <td>-1.068254e+08</td>\n      <td>1.773672</td>\n      <td>tree_8</td>\n    </tr>\n    <tr>\n      <th>26</th>\n      <td>OPENACC_A100</td>\n      <td>100</td>\n      <td>1000000</td>\n      <td>1000000</td>\n      <td>-9.533259e+07</td>\n      <td>1.749170</td>\n      <td>tree_9</td>\n    </tr>\n    <tr>\n      <th>27</th>\n      <td>OPENACC_V100</td>\n      <td>100</td>\n      <td>1000000</td>\n      <td>1000000</td>\n      <td>-9.533259e+07</td>\n      <td>1.724014</td>\n      <td>tree_9</td>\n    </tr>\n    <tr>\n      <th>28</th>\n      <td>OPENACC_A100</td>\n      <td>100</td>\n      <td>1000000</td>\n      <td>1000000</td>\n      <td>-1.065590e+08</td>\n      <td>2.294670</td>\n      <td>tree_10</td>\n    </tr>\n    <tr>\n      <th>29</th>\n      <td>OPENACC_V100</td>\n      <td>100</td>\n      <td>1000000</td>\n      <td>1000000</td>\n      <td>-1.065590e+08</td>\n      <td>1.710859</td>\n      <td>tree_10</td>\n    </tr>\n  </tbody>\n</table>\n</div>"
     },
     "execution_count": 16,
     "metadata": {},
     "output_type": "execute_result"
    }
   ],
   "source": [
    "df"
   ],
   "metadata": {
    "collapsed": false,
    "ExecuteTime": {
     "end_time": "2025-10-06T11:45:15.137195Z",
     "start_time": "2025-10-06T11:45:15.130045Z"
    }
   },
   "id": "1474229816d8301c",
   "execution_count": 16
  },
  {
   "cell_type": "code",
   "outputs": [],
   "source": [
    "groups = df.groupby('treefile')"
   ],
   "metadata": {
    "collapsed": false,
    "ExecuteTime": {
     "end_time": "2025-10-06T11:45:15.820930Z",
     "start_time": "2025-10-06T11:45:15.818818Z"
    }
   },
   "id": "9514c7b6a806791d",
   "execution_count": 17
  },
  {
   "cell_type": "code",
   "outputs": [],
   "source": [
    "def _basename(s):\n",
    "    return os.path.basename(str(s))\n",
    "\n",
    "def prepare(df):\n",
    "    out = df.copy()\n",
    "    # standardize column names if needed\n",
    "    cols = {c.lower(): c for c in df.columns}\n",
    "    # Expect columns named like 'tree_file', 'backend', 'time'\n",
    "    # If user had different casing, map it:\n",
    "    def find(colname):\n",
    "        return next((c for c in df.columns if c.lower() == colname), colname)\n",
    "    tree_col = find('treefile')\n",
    "    backend_col = find('backend')\n",
    "    time_col = find('time')\n",
    "\n",
    "    out['treefile'] = out[tree_col].astype(str)\n",
    "    out['backend']   = out[backend_col].astype(str)\n",
    "    out['time']      = pd.to_numeric(out[time_col], errors='coerce')\n",
    "\n",
    "    out['tree_key']  = out['treefile']\n",
    "    # Order tree keys by natural sort on any numbers inside (helps readability)\n",
    "    def _nat_key(s):\n",
    "        return [int(t) if t.isdigit() else t for t in re.split(r'(\\d+)', s)]\n",
    "    tree_order = sorted(out['tree_key'].unique(), key=_nat_key)\n",
    "    out['tree_key'] = pd.Categorical(out['tree_key'], categories=tree_order, ordered=True)\n",
    "\n",
    "    # Optional: order backends (put CPU first, then GPU variants)\n",
    "    backend_order = sorted(out['backend'].unique(), key=lambda b: (('cpu' not in b.lower()), b.lower()))\n",
    "    out['backend'] = pd.Categorical(out['backend'], categories=backend_order, ordered=True)\n",
    "    return out\n",
    "\n",
    "dfp = prepare(df)\n",
    "\n",
    "# --- 1) Grouped bars: mean time per backend for each tree ---------------------\n",
    "def plot_grouped_bars(dfp, logy=True):\n",
    "    pivot = dfp.pivot_table(index='tree_key', columns='backend', values='time', aggfunc='mean')\n",
    "    ax = pivot.plot(kind='bar', figsize=(10, 5))\n",
    "    ax.set_xlabel(\"Tree file\")\n",
    "    ax.set_ylabel(\"Runtime (s)\")\n",
    "    ax.set_title(\"runtime per tree\")\n",
    "    if logy:\n",
    "        ax.set_yscale('log')\n",
    "    ax.legend(title=\"Backend\")\n",
    "    plt.tight_layout()\n",
    "    plt.show()\n",
    "\n",
    "# --- 2) Dot plot: each run as a point (great with log scale) ------------------\n",
    "def plot_dot(dfp, logy=True):\n",
    "    fig, ax = plt.subplots(figsize=(10, 5))\n",
    "    backends = list(dfp['backend'].cat.categories) if hasattr(dfp['backend'], 'cat') else sorted(dfp['backend'].unique())\n",
    "    x_pos = np.arange(len(backends))\n",
    "\n",
    "    jitter = 0.15\n",
    "    for i, b in enumerate(backends):\n",
    "        y = dfp.loc[dfp['backend'] == b, 'time'].values\n",
    "        x = np.random.uniform(i - jitter, i + jitter, size=len(y))\n",
    "        ax.scatter(x, y, s=18, alpha=0.8)  # no explicit colors\n",
    "    ax.set_xticks(x_pos)\n",
    "    ax.set_xticklabels(backends, rotation=0)\n",
    "    ax.set_xlabel(\"Backend\")\n",
    "    ax.set_ylabel(\"Runtime (s)\")\n",
    "    ax.set_title(\"Per-run runtimes by backend\")\n",
    "    if logy:\n",
    "        ax.set_yscale('log')\n",
    "    ax.grid(True, which='both', axis='y', linestyle='--', alpha=0.4)\n",
    "    plt.tight_layout()\n",
    "    plt.show()\n",
    "\n",
    "# --- 3) Distribution view: boxplot by backend ---------------------------------\n",
    "def plot_box(dfp, logy=True):\n",
    "    fig, ax = plt.subplots(figsize=(10, 5))\n",
    "    dfp.boxplot(column='time', by='backend', ax=ax)  # default style, no colors set\n",
    "    ax.set_title(\"Runtime distribution by backend\")\n",
    "    ax.set_ylabel(\"Runtime (s)\")\n",
    "    if logy:\n",
    "        ax.set_yscale('log')\n",
    "    plt.suptitle(\"\")  # remove automatic super-title\n",
    "    plt.tight_layout()\n",
    "    plt.show()\n",
    "\n",
    "# --- 4) Compact heatmap: trees x backends (mean time) -------------------------\n",
    "def plot_heatmap(dfp, log=True):\n",
    "    mat = dfp.pivot_table(index='tree_key', columns='backend', values='time', aggfunc='mean')\n",
    "    data = np.log10(mat.values) if log else mat.values\n",
    "\n",
    "    fig, ax = plt.subplots(figsize=(10, max(4, 0.4*len(mat))))\n",
    "    im = ax.imshow(data, aspect='auto')  # default colormap, no color specified\n",
    "\n",
    "    # ticks / labels\n",
    "    ax.set_yticks(np.arange(mat.shape[0]))\n",
    "    ax.set_yticklabels(mat.index.astype(str))\n",
    "    ax.set_xticks(np.arange(mat.shape[1]))\n",
    "    ax.set_xticklabels(mat.columns.astype(str), rotation=45, ha='right')\n",
    "    ax.set_xlabel('Backend')\n",
    "    ax.set_ylabel('Tree file')\n",
    "    ax.set_title('Mean runtime heatmap (log10 seconds)' if log else 'Mean runtime heatmap (seconds)')\n",
    "    fig.colorbar(im, ax=ax, label=('log10(s)' if log else 's'))\n",
    "    plt.tight_layout()\n",
    "    plt.show()"
   ],
   "metadata": {
    "collapsed": false,
    "ExecuteTime": {
     "end_time": "2025-10-06T11:45:16.560014Z",
     "start_time": "2025-10-06T11:45:16.544631Z"
    }
   },
   "id": "52a40749a2b44bd5",
   "execution_count": 18
  },
  {
   "cell_type": "code",
   "outputs": [
    {
     "data": {
      "text/plain": "<Figure size 1000x500 with 1 Axes>",
      "image/png": "[encoded data removed]"
     },
     "metadata": {},
     "output_type": "display_data"
    }
   ],
   "source": [
    "plot_grouped_bars(dfp, logy=True)"
   ],
   "metadata": {
    "collapsed": false,
    "ExecuteTime": {
     "end_time": "2025-10-06T11:45:17.765399Z",
     "start_time": "2025-10-06T11:45:17.556893Z"
    }
   },
   "id": "ba038d00ab5c528b",
   "execution_count": 19
  },
  {
   "cell_type": "code",
   "outputs": [
    {
     "data": {
      "text/plain": "<Figure size 1000x500 with 1 Axes>",
      "image/png": "[encoded data removed]"
     },
     "metadata": {},
     "output_type": "display_data"
    }
   ],
   "source": [
    "plot_grouped_bars(dfp, logy=False)\n"
   ],
   "metadata": {
    "collapsed": false,
    "ExecuteTime": {
     "end_time": "2025-10-06T11:45:23.251217Z",
     "start_time": "2025-10-06T11:45:23.113940Z"
    }
   },
   "id": "68251e99ff36e09c",
   "execution_count": 20
  },
  {
   "cell_type": "code",
   "outputs": [],
   "source": [],
   "metadata": {
    "collapsed": false
   },
   "id": "60d5e132d900c6b5",
   "execution_count": null
  }
 ],
 "metadata": {
  "kernelspec": {
   "display_name": "Python 3",
   "language": "python",
   "name": "python3"
  },
  "language_info": {
   "codemirror_mode": {
    "name": "ipython",
    "version": 2
   },
   "file_extension": ".py",
   "mimetype": "text/x-python",
   "name": "python",
   "nbconvert_exporter": "python",
   "pygments_lexer": "ipython2",
   "version": "2.7.6"
  }
 },
 "nbformat": 4,
 "nbformat_minor": 5
}
