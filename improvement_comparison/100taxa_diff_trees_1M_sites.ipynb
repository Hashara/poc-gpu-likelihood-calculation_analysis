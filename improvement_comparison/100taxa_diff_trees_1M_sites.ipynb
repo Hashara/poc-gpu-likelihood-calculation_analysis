{
 "cells": [
  {
   "cell_type": "code",
   "outputs": [],
   "source": [
    "import os\n",
    "import re\n",
    "import csv\n",
    "import numpy as np\n"
   ],
   "metadata": {
    "collapsed": false,
    "ExecuteTime": {
     "end_time": "2025-10-21T22:40:46.851924Z",
     "start_time": "2025-10-21T22:40:46.620793Z"
    }
   },
   "id": "79517fe647b4eabc",
   "execution_count": 1
  },
  {
   "cell_type": "code",
   "outputs": [],
   "source": [
    "cwd = os.getcwd()"
   ],
   "metadata": {
    "collapsed": false,
    "ExecuteTime": {
     "end_time": "2025-10-21T22:40:46.890505Z",
     "start_time": "2025-10-21T22:40:46.869403Z"
    }
   },
   "id": "4888681e2f33553e",
   "execution_count": 2
  },
  {
   "cell_type": "markdown",
   "source": [],
   "metadata": {
    "collapsed": false
   },
   "id": "a7c6d7f5e1dc79ec"
  },
  {
   "cell_type": "markdown",
   "source": [
    "# preapre CSV"
   ],
   "metadata": {
    "collapsed": false
   },
   "id": "43a97ce4ed941acb"
  },
  {
   "cell_type": "code",
   "outputs": [],
   "source": [
    "# benchmark_path = \"/Users/u7826985/Projects/Nvidia/results/composite_hadamard_optimization\"\n",
    "AA_folder =\"100taxa_diff_trees_1M_sites_AA\"\n",
    "DNA_folder =\"100taxa_diff_trees_1M_sites\""
   ],
   "metadata": {
    "collapsed": false,
    "ExecuteTime": {
     "end_time": "2025-10-21T22:40:46.906752Z",
     "start_time": "2025-10-21T22:40:46.901472Z"
    }
   },
   "id": "f26d57b5c68e8a70",
   "execution_count": 3
  },
  {
   "cell_type": "code",
   "outputs": [],
   "source": [
    "results_path = \"/Users/u7826985/Projects/Nvidia/results/2025_10_09_thomas_suggestion_build_tip_likelihood\"\n",
    "output_csv = f\"{results_path}/results.csv\"\n",
    "output_csv_aa = f\"{results_path}/results_aa.csv\""
   ],
   "metadata": {
    "collapsed": false,
    "ExecuteTime": {
     "end_time": "2025-10-21T22:40:46.909698Z",
     "start_time": "2025-10-21T22:40:46.907699Z"
    }
   },
   "id": "c8ab120169e7a438",
   "execution_count": 4
  },
  {
   "cell_type": "code",
   "outputs": [],
   "source": [
    "# Regex to capture the RESULT line\n",
    "pattern = re.compile(\n",
    "    r\"\\[RESULT\\]\\s*backend=(\\w+)\\s+taxa=(\\d+)\\s+sites=(\\d+)\\s+patterns=(\\d+)\\s+time=([\\d\\.e\\+\\-]+)s\\s+likelihood=([\\-.\\deE]+)\"\n",
    ")\n"
   ],
   "metadata": {
    "collapsed": false,
    "ExecuteTime": {
     "end_time": "2025-10-21T22:40:46.913534Z",
     "start_time": "2025-10-21T22:40:46.911619Z"
    }
   },
   "id": "1f142dcf860868a5",
   "execution_count": 5
  },
  {
   "cell_type": "code",
   "outputs": [],
   "source": [
    "data = []"
   ],
   "metadata": {
    "collapsed": false,
    "ExecuteTime": {
     "end_time": "2025-10-21T22:40:46.915635Z",
     "start_time": "2025-10-21T22:40:46.914217Z"
    }
   },
   "id": "71e17de7c778da98",
   "execution_count": 6
  },
  {
   "cell_type": "code",
   "outputs": [],
   "source": [
    "#read files in results_path\n",
    "\n",
    "def read_files_in_directory(directory, unique_name=\"\"):\n",
    "    for i in range(1, 11):\n",
    "        tree_folder = f\"{directory}/tree_{i}\"\n",
    "        files = os.listdir(tree_folder)\n",
    "        for file in files:\n",
    "            if file.endswith('.txt'):\n",
    "                print(f\"Reading file: {file}\")\n",
    "                with open(f'{tree_folder}/{file}', 'r') as f:\n",
    "                    #get treefile name from the txt file name\n",
    "                    tree_file_name = file.split(\"_\")[3] + \"_\" + file.split(\"_\")[4]\n",
    "                    # detect file name contains \"a100\"\n",
    "                    a100 = False\n",
    "                    transposed = False\n",
    "                    if \"a100\" in file:\n",
    "                        a100 = True\n",
    "    \n",
    "                \n",
    "                    if \"transpose\" in file:\n",
    "                        transposed = True\n",
    "                        \n",
    "                        \n",
    "                    for line in f:\n",
    "                        match = pattern.search(line)\n",
    "                        if match:\n",
    "                            backend, taxa, sites, patterns, time, likelihood = match.groups()\n",
    "                            if a100:\n",
    "                                continue\n",
    "                                backend += \"_A100\"\n",
    "                            # else:\n",
    "                            #     backend += \"_V100\"\n",
    "                            if transposed:\n",
    "                                continue\n",
    "                                # backend += \"_transposed\"\n",
    "                                \n",
    "                            if taxa != \"100\":\n",
    "                                continue\n",
    "                            backend += unique_name\n",
    "                            data.append([backend, taxa, sites, patterns, likelihood, time, tree_file_name])\n",
    "    \n",
    "                            # Write to CSV\n",
    "                            # with open(output_csv, 'w', newline='') as csvfile:\n",
    "                            #     writer = csv.writer(csvfile)\n",
    "                            #     writer.writerow([\"backend\", \"taxa\", \"sites\", \"patterns\", \"likelihood\", \"time\"])\n",
    "                            #     writer.writerows(data)\n",
    "\n",
    "    print(f\"Extracted {len(data)} results to {output_csv}\")\n",
    "\n"
   ],
   "metadata": {
    "collapsed": false,
    "ExecuteTime": {
     "end_time": "2025-10-21T22:40:46.920103Z",
     "start_time": "2025-10-21T22:40:46.916272Z"
    }
   },
   "id": "724695c99da28d7",
   "execution_count": 7
  },
  {
   "cell_type": "code",
   "outputs": [
    {
     "name": "stdout",
     "output_type": "stream",
     "text": [
      "Reading file: output_run_ci_tree_1_1000000_aa_openacc_v100.txt\n",
      "Reading file: output_run_ci_tree_2_1000000_aa_openacc_v100.txt\n",
      "Reading file: output_run_ci_tree_3_1000000_aa_openacc_v100.txt\n",
      "Reading file: output_run_ci_tree_4_1000000_aa_openacc_v100.txt\n",
      "Reading file: output_run_ci_tree_5_1000000_aa_openacc_v100.txt\n",
      "Reading file: output_run_ci_tree_6_1000000_aa_openacc_v100.txt\n",
      "Reading file: output_run_ci_tree_7_1000000_aa_openacc_v100.txt\n",
      "Reading file: output_run_ci_tree_8_1000000_aa_openacc_v100.txt\n",
      "Reading file: output_run_ci_tree_9_1000000_aa_openacc_v100.txt\n",
      "Reading file: output_run_ci_tree_10_1000000_aa_openacc_v100.txt\n",
      "Extracted 10 results to /Users/u7826985/Projects/Nvidia/results/2025_10_09_thomas_suggestion_build_tip_likelihood/results.csv\n"
     ]
    }
   ],
   "source": [
    "# read_files_in_directory(f\"{benchmark_path}/{AA_folder}\", unique_name=\"_BENCHMARK\")\n",
    "read_files_in_directory(f\"{results_path}/{AA_folder}\", unique_name=\"_GPU\")"
   ],
   "metadata": {
    "collapsed": false,
    "ExecuteTime": {
     "end_time": "2025-10-21T22:40:46.928276Z",
     "start_time": "2025-10-21T22:40:46.920728Z"
    }
   },
   "id": "db15b671bb21e899",
   "execution_count": 8
  },
  {
   "cell_type": "code",
   "outputs": [
    {
     "name": "stdout",
     "output_type": "stream",
     "text": [
      "[['OPENACC_GPU', '100', '1000000', '1000000', '-110413195.778517276048660', '1.364805465000000', 'tree_1'], ['OPENACC_GPU', '100', '1000000', '1000000', '-99186349.700422123074532', '1.234501114000000', 'tree_2'], ['OPENACC_GPU', '100', '1000000', '1000000', '-112041381.325586110353470', '1.220405578000000', 'tree_3'], ['OPENACC_GPU', '100', '1000000', '1000000', '-97277284.227406084537506', '1.283624810000000', 'tree_4'], ['OPENACC_GPU', '100', '1000000', '1000000', '-109757143.329428479075432', '1.193925882000000', 'tree_5'], ['OPENACC_GPU', '100', '1000000', '1000000', '-102915332.041291579604149', '1.250573958000000', 'tree_6'], ['OPENACC_GPU', '100', '1000000', '1000000', '-104636698.409147098660469', '1.222270529000000', 'tree_7'], ['OPENACC_GPU', '100', '1000000', '1000000', '-106825444.951877132058144', '1.217316272000000', 'tree_8'], ['OPENACC_GPU', '100', '1000000', '1000000', '-95332589.209261104464531', '1.185020505000000', 'tree_9'], ['OPENACC_GPU', '100', '1000000', '1000000', '-106559017.964738756418228', '1.177348593000000', 'tree_10']]\n"
     ]
    }
   ],
   "source": [
    "print(data)"
   ],
   "metadata": {
    "collapsed": false,
    "ExecuteTime": {
     "end_time": "2025-10-21T22:40:46.930409Z",
     "start_time": "2025-10-21T22:40:46.928791Z"
    }
   },
   "id": "498c834b16e9669d",
   "execution_count": 9
  },
  {
   "cell_type": "code",
   "outputs": [],
   "source": [
    "alignment_pattern = re.compile(r\"Alignment has (\\d+) sequences with (\\d+) columns, (\\d+) distinct patterns\")\n",
    "likelihood_pattern = re.compile(r\"Initial log-likelihood:\\s+([-0-9.]+).*?took ([0-9.]+) wall-clock sec\")\n",
    "\n",
    "# Data list\n",
    "# data = []\n"
   ],
   "metadata": {
    "collapsed": false,
    "ExecuteTime": {
     "end_time": "2025-10-21T22:40:46.932699Z",
     "start_time": "2025-10-21T22:40:46.930942Z"
    }
   },
   "id": "55d38ba2aedf4ac9",
   "execution_count": 10
  },
  {
   "cell_type": "code",
   "outputs": [],
   "source": [
    "# add iqtree results\n",
    "iqtree_results_path = results_path\n",
    "\n",
    "def read_iqtree_results(directory):\n",
    "    for i in range(1, 11):\n",
    "        tree_folder = f\"{directory}/tree_{i}\"\n",
    "        files = os.listdir(tree_folder)\n",
    "        for file in files:\n",
    "            if file.endswith('iqtree.log'):\n",
    "                print(f\"Reading IQ-TREE file: {file}\")\n",
    "                with open(f'{tree_folder}/{file}', 'r') as f:\n",
    "                    tree_file_name = file.split(\"_\")[3] + \"_\" + file.split(\"_\")[4]\n",
    "                    content = f.read()\n",
    "            \n",
    "                    # Extract alignment info\n",
    "                    aln_match = alignment_pattern.search(content)\n",
    "                    ll_match = likelihood_pattern.search(content)\n",
    "                    \n",
    "                    if aln_match and ll_match:\n",
    "                        taxa = int(aln_match.group(1))\n",
    "                        sites = int(aln_match.group(2))\n",
    "                        patterns = int(aln_match.group(3))\n",
    "                        likelihood = float(ll_match.group(1))\n",
    "                        time = float(ll_match.group(2))\n",
    "                        \n",
    "                        data.append([\"IQ-TREE_CPU\", taxa, sites, patterns, likelihood, time, tree_file_name])\n",
    "\n",
    "\n",
    "\n",
    "    print(f\"Extracted {len(data)} IQ-TREE results to {output_csv}\")"
   ],
   "metadata": {
    "collapsed": false,
    "ExecuteTime": {
     "end_time": "2025-10-21T22:40:46.936502Z",
     "start_time": "2025-10-21T22:40:46.933408Z"
    }
   },
   "id": "d50828e8bf1138ac",
   "execution_count": 11
  },
  {
   "cell_type": "code",
   "outputs": [
    {
     "name": "stdout",
     "output_type": "stream",
     "text": [
      "Reading IQ-TREE file: output_kernel_nonrev_tree_1_1000000_aa_iqtree.log\n",
      "Reading IQ-TREE file: output_kernel_nonrev_tree_2_1000000_aa_iqtree.log\n",
      "Reading IQ-TREE file: output_kernel_nonrev_tree_3_1000000_aa_iqtree.log\n",
      "Reading IQ-TREE file: output_kernel_nonrev_tree_4_1000000_aa_iqtree.log\n",
      "Reading IQ-TREE file: output_kernel_nonrev_tree_5_1000000_aa_iqtree.log\n",
      "Reading IQ-TREE file: output_kernel_nonrev_tree_6_1000000_aa_iqtree.log\n",
      "Reading IQ-TREE file: output_kernel_nonrev_tree_7_1000000_aa_iqtree.log\n",
      "Reading IQ-TREE file: output_kernel_nonrev_tree_8_1000000_aa_iqtree.log\n",
      "Reading IQ-TREE file: output_kernel_nonrev_tree_9_1000000_aa_iqtree.log\n",
      "Reading IQ-TREE file: output_kernel_nonrev_tree_10_1000000_aa_iqtree.log\n",
      "Extracted 20 IQ-TREE results to /Users/u7826985/Projects/Nvidia/results/2025_10_09_thomas_suggestion_build_tip_likelihood/results.csv\n"
     ]
    }
   ],
   "source": [
    "read_iqtree_results(f\"/Users/u7826985/Projects/Nvidia/results/iqtree_kernel_nonreverse/{AA_folder}\")"
   ],
   "metadata": {
    "collapsed": false,
    "ExecuteTime": {
     "end_time": "2025-10-21T22:40:46.946823Z",
     "start_time": "2025-10-21T22:40:46.936989Z"
    }
   },
   "id": "7c7d82559575ebbb",
   "execution_count": 12
  },
  {
   "cell_type": "code",
   "outputs": [
    {
     "name": "stdout",
     "output_type": "stream",
     "text": [
      "[['OPENACC_GPU', '100', '1000000', '1000000', '-110413195.778517276048660', '1.364805465000000', 'tree_1'], ['OPENACC_GPU', '100', '1000000', '1000000', '-99186349.700422123074532', '1.234501114000000', 'tree_2'], ['OPENACC_GPU', '100', '1000000', '1000000', '-112041381.325586110353470', '1.220405578000000', 'tree_3'], ['OPENACC_GPU', '100', '1000000', '1000000', '-97277284.227406084537506', '1.283624810000000', 'tree_4'], ['OPENACC_GPU', '100', '1000000', '1000000', '-109757143.329428479075432', '1.193925882000000', 'tree_5'], ['OPENACC_GPU', '100', '1000000', '1000000', '-102915332.041291579604149', '1.250573958000000', 'tree_6'], ['OPENACC_GPU', '100', '1000000', '1000000', '-104636698.409147098660469', '1.222270529000000', 'tree_7'], ['OPENACC_GPU', '100', '1000000', '1000000', '-106825444.951877132058144', '1.217316272000000', 'tree_8'], ['OPENACC_GPU', '100', '1000000', '1000000', '-95332589.209261104464531', '1.185020505000000', 'tree_9'], ['OPENACC_GPU', '100', '1000000', '1000000', '-106559017.964738756418228', '1.177348593000000', 'tree_10'], ['IQ-TREE_CPU', 100, 1000000, 1000000, -110413195.779, 10.76, 'tree_1'], ['IQ-TREE_CPU', 100, 1000000, 1000000, -99186349.7, 10.762, 'tree_2'], ['IQ-TREE_CPU', 100, 1000000, 1000000, -112041381.326, 10.76, 'tree_3'], ['IQ-TREE_CPU', 100, 1000000, 1000000, -97277284.227, 10.775, 'tree_4'], ['IQ-TREE_CPU', 100, 1000000, 1000000, -109757143.329, 10.745, 'tree_5'], ['IQ-TREE_CPU', 100, 1000000, 1000000, -102915332.041, 10.784, 'tree_6'], ['IQ-TREE_CPU', 100, 1000000, 1000000, -104636698.409, 10.769, 'tree_7'], ['IQ-TREE_CPU', 100, 1000000, 1000000, -106825444.952, 10.738, 'tree_8'], ['IQ-TREE_CPU', 100, 1000000, 1000000, -95332589.209, 10.758, 'tree_9'], ['IQ-TREE_CPU', 100, 1000000, 1000000, -106559017.965, 10.771, 'tree_10']]\n"
     ]
    }
   ],
   "source": [
    "print(data)"
   ],
   "metadata": {
    "collapsed": false,
    "ExecuteTime": {
     "end_time": "2025-10-21T22:40:46.949344Z",
     "start_time": "2025-10-21T22:40:46.947402Z"
    }
   },
   "id": "e5fad9e3ad2d1cc0",
   "execution_count": 13
  },
  {
   "cell_type": "code",
   "outputs": [],
   "source": [
    "# Write to CSV\n",
    "\n",
    "def write_to_csv(data, output_csv):\n",
    "    with open(output_csv, 'w', newline='') as csvfile:\n",
    "        writer = csv.writer(csvfile)\n",
    "        writer.writerow([\"backend\", \"taxa\", \"sites\", \"patterns\", \"likelihood\", \"time\",\"treefile\"])\n",
    "        writer.writerows(data)\n",
    "        \n",
    "        \n",
    "write_to_csv(data, output_csv)"
   ],
   "metadata": {
    "collapsed": false,
    "ExecuteTime": {
     "end_time": "2025-10-21T22:40:46.954267Z",
     "start_time": "2025-10-21T22:40:46.951698Z"
    }
   },
   "id": "ba9439bf6c805ffc",
   "execution_count": 14
  },
  {
   "cell_type": "markdown",
   "source": [
    "# Analysis of Results"
   ],
   "metadata": {
    "collapsed": false
   },
   "id": "5d212e0e49be55f"
  },
  {
   "cell_type": "code",
   "outputs": [],
   "source": [
    "import pandas as pd\n",
    "import matplotlib.pyplot as plt\n"
   ],
   "metadata": {
    "collapsed": false,
    "ExecuteTime": {
     "end_time": "2025-10-21T22:40:47.460117Z",
     "start_time": "2025-10-21T22:40:46.954710Z"
    }
   },
   "id": "6a961dfb130793a",
   "execution_count": 15
  },
  {
   "cell_type": "code",
   "outputs": [
    {
     "data": {
      "text/plain": "       backend  taxa    sites  patterns    likelihood      time treefile\n0  OPENACC_GPU   100  1000000   1000000 -1.104132e+08  1.364805   tree_1\n1  OPENACC_GPU   100  1000000   1000000 -9.918635e+07  1.234501   tree_2\n2  OPENACC_GPU   100  1000000   1000000 -1.120414e+08  1.220406   tree_3\n3  OPENACC_GPU   100  1000000   1000000 -9.727728e+07  1.283625   tree_4\n4  OPENACC_GPU   100  1000000   1000000 -1.097571e+08  1.193926   tree_5",
      "text/html": "<div>\n<style scoped>\n    .dataframe tbody tr th:only-of-type {\n        vertical-align: middle;\n    }\n\n    .dataframe tbody tr th {\n        vertical-align: top;\n    }\n\n    .dataframe thead th {\n        text-align: right;\n    }\n</style>\n<table border=\"1\" class=\"dataframe\">\n  <thead>\n    <tr style=\"text-align: right;\">\n      <th></th>\n      <th>backend</th>\n      <th>taxa</th>\n      <th>sites</th>\n      <th>patterns</th>\n      <th>likelihood</th>\n      <th>time</th>\n      <th>treefile</th>\n    </tr>\n  </thead>\n  <tbody>\n    <tr>\n      <th>0</th>\n      <td>OPENACC_GPU</td>\n      <td>100</td>\n      <td>1000000</td>\n      <td>1000000</td>\n      <td>-1.104132e+08</td>\n      <td>1.364805</td>\n      <td>tree_1</td>\n    </tr>\n    <tr>\n      <th>1</th>\n      <td>OPENACC_GPU</td>\n      <td>100</td>\n      <td>1000000</td>\n      <td>1000000</td>\n      <td>-9.918635e+07</td>\n      <td>1.234501</td>\n      <td>tree_2</td>\n    </tr>\n    <tr>\n      <th>2</th>\n      <td>OPENACC_GPU</td>\n      <td>100</td>\n      <td>1000000</td>\n      <td>1000000</td>\n      <td>-1.120414e+08</td>\n      <td>1.220406</td>\n      <td>tree_3</td>\n    </tr>\n    <tr>\n      <th>3</th>\n      <td>OPENACC_GPU</td>\n      <td>100</td>\n      <td>1000000</td>\n      <td>1000000</td>\n      <td>-9.727728e+07</td>\n      <td>1.283625</td>\n      <td>tree_4</td>\n    </tr>\n    <tr>\n      <th>4</th>\n      <td>OPENACC_GPU</td>\n      <td>100</td>\n      <td>1000000</td>\n      <td>1000000</td>\n      <td>-1.097571e+08</td>\n      <td>1.193926</td>\n      <td>tree_5</td>\n    </tr>\n  </tbody>\n</table>\n</div>"
     },
     "execution_count": 16,
     "metadata": {},
     "output_type": "execute_result"
    }
   ],
   "source": [
    "# Read the CSV file into a DataFrame\n",
    "df = pd.read_csv(output_csv)\n",
    "# Display the first few rows of the DataFrame\n",
    "df.head()"
   ],
   "metadata": {
    "collapsed": false,
    "ExecuteTime": {
     "end_time": "2025-10-21T22:40:47.469777Z",
     "start_time": "2025-10-21T22:40:47.460650Z"
    }
   },
   "id": "fed832d4002e35d4",
   "execution_count": 16
  },
  {
   "cell_type": "code",
   "outputs": [
    {
     "data": {
      "text/plain": "        backend  taxa    sites  patterns    likelihood       time treefile\n0   OPENACC_GPU   100  1000000   1000000 -1.104132e+08   1.364805   tree_1\n1   OPENACC_GPU   100  1000000   1000000 -9.918635e+07   1.234501   tree_2\n2   OPENACC_GPU   100  1000000   1000000 -1.120414e+08   1.220406   tree_3\n3   OPENACC_GPU   100  1000000   1000000 -9.727728e+07   1.283625   tree_4\n4   OPENACC_GPU   100  1000000   1000000 -1.097571e+08   1.193926   tree_5\n5   OPENACC_GPU   100  1000000   1000000 -1.029153e+08   1.250574   tree_6\n6   OPENACC_GPU   100  1000000   1000000 -1.046367e+08   1.222271   tree_7\n7   OPENACC_GPU   100  1000000   1000000 -1.068254e+08   1.217316   tree_8\n8   OPENACC_GPU   100  1000000   1000000 -9.533259e+07   1.185021   tree_9\n9   OPENACC_GPU   100  1000000   1000000 -1.065590e+08   1.177349  tree_10\n10  IQ-TREE_CPU   100  1000000   1000000 -1.104132e+08  10.760000   tree_1\n11  IQ-TREE_CPU   100  1000000   1000000 -9.918635e+07  10.762000   tree_2\n12  IQ-TREE_CPU   100  1000000   1000000 -1.120414e+08  10.760000   tree_3\n13  IQ-TREE_CPU   100  1000000   1000000 -9.727728e+07  10.775000   tree_4\n14  IQ-TREE_CPU   100  1000000   1000000 -1.097571e+08  10.745000   tree_5\n15  IQ-TREE_CPU   100  1000000   1000000 -1.029153e+08  10.784000   tree_6\n16  IQ-TREE_CPU   100  1000000   1000000 -1.046367e+08  10.769000   tree_7\n17  IQ-TREE_CPU   100  1000000   1000000 -1.068254e+08  10.738000   tree_8\n18  IQ-TREE_CPU   100  1000000   1000000 -9.533259e+07  10.758000   tree_9\n19  IQ-TREE_CPU   100  1000000   1000000 -1.065590e+08  10.771000  tree_10",
      "text/html": "<div>\n<style scoped>\n    .dataframe tbody tr th:only-of-type {\n        vertical-align: middle;\n    }\n\n    .dataframe tbody tr th {\n        vertical-align: top;\n    }\n\n    .dataframe thead th {\n        text-align: right;\n    }\n</style>\n<table border=\"1\" class=\"dataframe\">\n  <thead>\n    <tr style=\"text-align: right;\">\n      <th></th>\n      <th>backend</th>\n      <th>taxa</th>\n      <th>sites</th>\n      <th>patterns</th>\n      <th>likelihood</th>\n      <th>time</th>\n      <th>treefile</th>\n    </tr>\n  </thead>\n  <tbody>\n    <tr>\n      <th>0</th>\n      <td>OPENACC_GPU</td>\n      <td>100</td>\n      <td>1000000</td>\n      <td>1000000</td>\n      <td>-1.104132e+08</td>\n      <td>1.364805</td>\n      <td>tree_1</td>\n    </tr>\n    <tr>\n      <th>1</th>\n      <td>OPENACC_GPU</td>\n      <td>100</td>\n      <td>1000000</td>\n      <td>1000000</td>\n      <td>-9.918635e+07</td>\n      <td>1.234501</td>\n      <td>tree_2</td>\n    </tr>\n    <tr>\n      <th>2</th>\n      <td>OPENACC_GPU</td>\n      <td>100</td>\n      <td>1000000</td>\n      <td>1000000</td>\n      <td>-1.120414e+08</td>\n      <td>1.220406</td>\n      <td>tree_3</td>\n    </tr>\n    <tr>\n      <th>3</th>\n      <td>OPENACC_GPU</td>\n      <td>100</td>\n      <td>1000000</td>\n      <td>1000000</td>\n      <td>-9.727728e+07</td>\n      <td>1.283625</td>\n      <td>tree_4</td>\n    </tr>\n    <tr>\n      <th>4</th>\n      <td>OPENACC_GPU</td>\n      <td>100</td>\n      <td>1000000</td>\n      <td>1000000</td>\n      <td>-1.097571e+08</td>\n      <td>1.193926</td>\n      <td>tree_5</td>\n    </tr>\n    <tr>\n      <th>5</th>\n      <td>OPENACC_GPU</td>\n      <td>100</td>\n      <td>1000000</td>\n      <td>1000000</td>\n      <td>-1.029153e+08</td>\n      <td>1.250574</td>\n      <td>tree_6</td>\n    </tr>\n    <tr>\n      <th>6</th>\n      <td>OPENACC_GPU</td>\n      <td>100</td>\n      <td>1000000</td>\n      <td>1000000</td>\n      <td>-1.046367e+08</td>\n      <td>1.222271</td>\n      <td>tree_7</td>\n    </tr>\n    <tr>\n      <th>7</th>\n      <td>OPENACC_GPU</td>\n      <td>100</td>\n      <td>1000000</td>\n      <td>1000000</td>\n      <td>-1.068254e+08</td>\n      <td>1.217316</td>\n      <td>tree_8</td>\n    </tr>\n    <tr>\n      <th>8</th>\n      <td>OPENACC_GPU</td>\n      <td>100</td>\n      <td>1000000</td>\n      <td>1000000</td>\n      <td>-9.533259e+07</td>\n      <td>1.185021</td>\n      <td>tree_9</td>\n    </tr>\n    <tr>\n      <th>9</th>\n      <td>OPENACC_GPU</td>\n      <td>100</td>\n      <td>1000000</td>\n      <td>1000000</td>\n      <td>-1.065590e+08</td>\n      <td>1.177349</td>\n      <td>tree_10</td>\n    </tr>\n    <tr>\n      <th>10</th>\n      <td>IQ-TREE_CPU</td>\n      <td>100</td>\n      <td>1000000</td>\n      <td>1000000</td>\n      <td>-1.104132e+08</td>\n      <td>10.760000</td>\n      <td>tree_1</td>\n    </tr>\n    <tr>\n      <th>11</th>\n      <td>IQ-TREE_CPU</td>\n      <td>100</td>\n      <td>1000000</td>\n      <td>1000000</td>\n      <td>-9.918635e+07</td>\n      <td>10.762000</td>\n      <td>tree_2</td>\n    </tr>\n    <tr>\n      <th>12</th>\n      <td>IQ-TREE_CPU</td>\n      <td>100</td>\n      <td>1000000</td>\n      <td>1000000</td>\n      <td>-1.120414e+08</td>\n      <td>10.760000</td>\n      <td>tree_3</td>\n    </tr>\n    <tr>\n      <th>13</th>\n      <td>IQ-TREE_CPU</td>\n      <td>100</td>\n      <td>1000000</td>\n      <td>1000000</td>\n      <td>-9.727728e+07</td>\n      <td>10.775000</td>\n      <td>tree_4</td>\n    </tr>\n    <tr>\n      <th>14</th>\n      <td>IQ-TREE_CPU</td>\n      <td>100</td>\n      <td>1000000</td>\n      <td>1000000</td>\n      <td>-1.097571e+08</td>\n      <td>10.745000</td>\n      <td>tree_5</td>\n    </tr>\n    <tr>\n      <th>15</th>\n      <td>IQ-TREE_CPU</td>\n      <td>100</td>\n      <td>1000000</td>\n      <td>1000000</td>\n      <td>-1.029153e+08</td>\n      <td>10.784000</td>\n      <td>tree_6</td>\n    </tr>\n    <tr>\n      <th>16</th>\n      <td>IQ-TREE_CPU</td>\n      <td>100</td>\n      <td>1000000</td>\n      <td>1000000</td>\n      <td>-1.046367e+08</td>\n      <td>10.769000</td>\n      <td>tree_7</td>\n    </tr>\n    <tr>\n      <th>17</th>\n      <td>IQ-TREE_CPU</td>\n      <td>100</td>\n      <td>1000000</td>\n      <td>1000000</td>\n      <td>-1.068254e+08</td>\n      <td>10.738000</td>\n      <td>tree_8</td>\n    </tr>\n    <tr>\n      <th>18</th>\n      <td>IQ-TREE_CPU</td>\n      <td>100</td>\n      <td>1000000</td>\n      <td>1000000</td>\n      <td>-9.533259e+07</td>\n      <td>10.758000</td>\n      <td>tree_9</td>\n    </tr>\n    <tr>\n      <th>19</th>\n      <td>IQ-TREE_CPU</td>\n      <td>100</td>\n      <td>1000000</td>\n      <td>1000000</td>\n      <td>-1.065590e+08</td>\n      <td>10.771000</td>\n      <td>tree_10</td>\n    </tr>\n  </tbody>\n</table>\n</div>"
     },
     "execution_count": 17,
     "metadata": {},
     "output_type": "execute_result"
    }
   ],
   "source": [
    "df"
   ],
   "metadata": {
    "collapsed": false,
    "ExecuteTime": {
     "end_time": "2025-10-21T22:40:47.474369Z",
     "start_time": "2025-10-21T22:40:47.470348Z"
    }
   },
   "id": "1474229816d8301c",
   "execution_count": 17
  },
  {
   "cell_type": "code",
   "outputs": [],
   "source": [
    "groups = df.groupby('treefile')\n"
   ],
   "metadata": {
    "collapsed": false,
    "ExecuteTime": {
     "end_time": "2025-10-21T22:40:47.476580Z",
     "start_time": "2025-10-21T22:40:47.475119Z"
    }
   },
   "id": "9514c7b6a806791d",
   "execution_count": 18
  },
  {
   "cell_type": "code",
   "outputs": [],
   "source": [
    "def _basename(s):\n",
    "    return os.path.basename(str(s))\n",
    "\n",
    "def prepare(df):\n",
    "    out = df.copy()\n",
    "    # standardize column names if needed\n",
    "    cols = {c.lower(): c for c in df.columns}\n",
    "    # Expect columns named like 'tree_file', 'backend', 'time'\n",
    "    # If user had different casing, map it:\n",
    "    def find(colname):\n",
    "        return next((c for c in df.columns if c.lower() == colname), colname)\n",
    "    tree_col = find('treefile')\n",
    "    backend_col = find('backend')\n",
    "    time_col = find('time')\n",
    "\n",
    "    out['treefile'] = out[tree_col].astype(str)\n",
    "    out['backend']   = out[backend_col].astype(str)\n",
    "    out['time']      = pd.to_numeric(out[time_col], errors='coerce')\n",
    "\n",
    "    out['tree_key']  = out['treefile']\n",
    "    # Order tree keys by natural sort on any numbers inside (helps readability)\n",
    "    def _nat_key(s):\n",
    "        return [int(t) if t.isdigit() else t for t in re.split(r'(\\d+)', s)]\n",
    "    tree_order = sorted(out['tree_key'].unique(), key=_nat_key)\n",
    "    out['tree_key'] = pd.Categorical(out['tree_key'], categories=tree_order, ordered=True)\n",
    "\n",
    "    # Optional: order backends (put CPU first, then GPU variants)\n",
    "    backend_order = sorted(out['backend'].unique(), key=lambda b: (('cpu' not in b.lower()), b.lower()))\n",
    "    out['backend'] = pd.Categorical(out['backend'], categories=backend_order, ordered=True)\n",
    "    return out\n",
    "\n",
    "dfp = prepare(df)\n",
    "\n",
    "# --- 1) Grouped bars: mean time per backend for each tree ---------------------\n",
    "def plot_grouped_bars(dfp, logy=True, savepath=None):\n",
    "    pivot = dfp.pivot_table(index='tree_key', columns='backend', values='time', aggfunc='mean')\n",
    "     # Define colors based on backend\n",
    "    colors = ['blue' if backend == 'IQ-TREE_CPU' else 'orange' for backend in pivot.columns]\n",
    "    ax = pivot.plot(kind='bar', figsize=(10, 5), color=colors)\n",
    "    ax.set_xlabel(\"Tree file\")\n",
    "    ax.set_ylabel(\"Runtime (s)\")\n",
    "    ax.set_title(\"runtime per tree\")\n",
    "    if logy:\n",
    "        ax.set_yscale('log')\n",
    "    # ax.legend(title=\"Backend\")\n",
    "    ax.legend(title=\"Backend\", loc='upper center', bbox_to_anchor=(0.8, -0.16), ncol=len(pivot.columns))\n",
    "\n",
    "    plt.tight_layout()\n",
    "    if savepath:\n",
    "        plt.savefig(savepath, dpi=300, bbox_inches='tight')\n",
    "    plt.show()\n",
    "    \n",
    "# def plot_grouped_bars(dfp, logy=True, savepath=None):\n",
    "#     pivot = dfp.pivot_table(index='tree_key', columns='backend', values='time', aggfunc='mean')\n",
    "#     colors = ['blue' if backend == 'IQ-TREE_CPU' else 'orange' for backend in pivot.columns]\n",
    "# \n",
    "#     ax = pivot.plot(kind='bar', figsize=(10, 5), color=colors)\n",
    "# \n",
    "#     ax.set_xlabel(\"Tree file\")\n",
    "#     ax.set_ylabel(\"Runtime (s)\")\n",
    "#     ax.set_title(\"Runtime per tree\")\n",
    "# \n",
    "#     if logy:\n",
    "#         ax.set_yscale('log')\n",
    "# \n",
    "#     # 👇 Move legend to the right without overlapping\n",
    "#     ax.legend(title=\"Backend\", bbox_to_anchor=(1.02, 1), loc='upper left', borderaxespad=0)\n",
    "#     \n",
    "#     # 👇 Adjust layout to leave room for legend\n",
    "#     plt.tight_layout(rect=[0, 0, 0.85, 1])\n",
    "# \n",
    "#     if savepath:\n",
    "#         plt.savefig(savepath, dpi=300, bbox_inches='tight')\n",
    "# \n",
    "#     plt.show()\n",
    "\n",
    "# --- 2) Dot plot: each run as a point (great with log scale) ------------------\n",
    "def plot_dot(dfp, logy=True, savepath=None):\n",
    "    fig, ax = plt.subplots(figsize=(10, 5))\n",
    "    backends = list(dfp['backend'].cat.categories) if hasattr(dfp['backend'], 'cat') else sorted(dfp['backend'].unique())\n",
    "    x_pos = np.arange(len(backends))\n",
    "\n",
    "    jitter = 0.15\n",
    "    for i, b in enumerate(backends):\n",
    "        y = dfp.loc[dfp['backend'] == b, 'time'].values\n",
    "        x = np.random.uniform(i - jitter, i + jitter, size=len(y))\n",
    "        ax.scatter(x, y, s=18, alpha=0.8)  # no explicit colors\n",
    "    ax.set_xticks(x_pos)\n",
    "    ax.set_xticklabels(backends, rotation=0)\n",
    "    ax.set_xlabel(\"Backend\")\n",
    "    ax.set_ylabel(\"Runtime (s)\")\n",
    "    ax.set_title(\"Per-run runtimes by backend\")\n",
    "    if logy:\n",
    "        ax.set_yscale('log')\n",
    "    ax.grid(True, which='both', axis='y', linestyle='--', alpha=0.4)\n",
    "    plt.tight_layout()\n",
    "    if savepath:\n",
    "        plt.savefig(savepath, dpi=300, bbox_inches='tight')\n",
    "    plt.show()\n",
    "\n",
    "# --- 3) Distribution view: boxplot by backend ---------------------------------\n",
    "def plot_box(dfp, logy=True, savepath=None):\n",
    "    fig, ax = plt.subplots(figsize=(10, 5))\n",
    "    dfp.boxplot(column='time', by='backend', ax=ax)  # default style, no colors set\n",
    "    ax.set_title(\"Runtime distribution by backend\")\n",
    "    ax.set_ylabel(\"Runtime (s)\")\n",
    "    if logy:\n",
    "        ax.set_yscale('log')\n",
    "    plt.suptitle(\"\")  # remove automatic super-title\n",
    "    plt.tight_layout()\n",
    "    if savepath:\n",
    "        plt.savefig(savepath, dpi=300, bbox_inches='tight')\n",
    "    plt.show()\n",
    "\n",
    "# --- 4) Compact heatmap: trees x backends (mean time) -------------------------\n",
    "def plot_heatmap(dfp, log=True, savepath=None):\n",
    "    mat = dfp.pivot_table(index='tree_key', columns='backend', values='time', aggfunc='mean')\n",
    "    data = np.log10(mat.values) if log else mat.values\n",
    "\n",
    "    fig, ax = plt.subplots(figsize=(10, max(4, 0.4*len(mat))))\n",
    "    im = ax.imshow(data, aspect='auto')  # default colormap, no color specified\n",
    "\n",
    "    # ticks / labels\n",
    "    ax.set_yticks(np.arange(mat.shape[0]))\n",
    "    ax.set_yticklabels(mat.index.astype(str))\n",
    "    ax.set_xticks(np.arange(mat.shape[1]))\n",
    "    ax.set_xticklabels(mat.columns.astype(str), rotation=45, ha='right')\n",
    "    ax.set_xlabel('Backend')\n",
    "    ax.set_ylabel('Tree file')\n",
    "    ax.set_title('Mean runtime heatmap (log10 seconds)' if log else 'Mean runtime heatmap (seconds)')\n",
    "    fig.colorbar(im, ax=ax, label=('log10(s)' if log else 's'))\n",
    "    plt.tight_layout()\n",
    "    if savepath:\n",
    "        plt.savefig(savepath, dpi=300, bbox_inches='tight')\n",
    "    plt.show()"
   ],
   "metadata": {
    "collapsed": false,
    "ExecuteTime": {
     "end_time": "2025-10-21T22:40:47.486582Z",
     "start_time": "2025-10-21T22:40:47.477169Z"
    }
   },
   "id": "52a40749a2b44bd5",
   "execution_count": 19
  },
  {
   "cell_type": "code",
   "outputs": [
    {
     "data": {
      "text/plain": "<Figure size 1000x500 with 1 Axes>",
      "image/png": "[encoded data removed]"
     },
     "metadata": {},
     "output_type": "display_data"
    }
   ],
   "source": [
    "plot_grouped_bars(dfp, logy=True, savepath=f\"{cwd}/AA_100taxa_benchmark_buildtip_likelihood.png\")"
   ],
   "metadata": {
    "collapsed": false,
    "ExecuteTime": {
     "end_time": "2025-10-21T22:40:48.178673Z",
     "start_time": "2025-10-21T22:40:47.487228Z"
    }
   },
   "id": "ba038d00ab5c528b",
   "execution_count": 20
  },
  {
   "cell_type": "code",
   "outputs": [
    {
     "data": {
      "text/plain": "<Figure size 1000x500 with 1 Axes>",
      "image/png": "[encoded data removed]"
     },
     "metadata": {},
     "output_type": "display_data"
    }
   ],
   "source": [
    "plot_grouped_bars(dfp, logy=False, savepath=f\"{cwd}/AA_100taxa_benchmark_buildtip_likelihood_liner.png\")\n"
   ],
   "metadata": {
    "collapsed": false,
    "ExecuteTime": {
     "end_time": "2025-10-21T22:40:48.511951Z",
     "start_time": "2025-10-21T22:40:48.179319Z"
    }
   },
   "id": "68251e99ff36e09c",
   "execution_count": 21
  },
  {
   "cell_type": "code",
   "outputs": [
    {
     "name": "stdout",
     "output_type": "stream",
     "text": [
      "Reading file: output_run_ci_tree_1_1000000_dna_openacc_v100.txt\n",
      "Reading file: output_run_ci_tree_2_1000000_dna_openacc_v100.txt\n",
      "Reading file: output_run_ci_tree_3_1000000_dna_openacc_v100.txt\n",
      "Reading file: output_run_ci_tree_4_1000000_dna_openacc_v100.txt\n",
      "Reading file: output_run_ci_tree_5_1000000_dna_openacc_v100.txt\n",
      "Reading file: output_run_ci_tree_6_1000000_dna_openacc_v100.txt\n",
      "Reading file: output_run_ci_tree_7_1000000_dna_openacc_v100.txt\n",
      "Reading file: output_run_ci_tree_8_1000000_dna_openacc_v100.txt\n",
      "Reading file: output_run_ci_tree_9_1000000_dna_openacc_v100.txt\n",
      "Reading file: output_run_ci_tree_10_1000000_dna_openacc_v100.txt\n",
      "Extracted 10 results to /Users/u7826985/Projects/Nvidia/results/2025_10_09_thomas_suggestion_build_tip_likelihood/results.csv\n"
     ]
    },
    {
     "data": {
      "text/plain": "[['OPENACC_GPU',\n  '100',\n  '1000000',\n  '1000000',\n  '-70051678.096398830413818',\n  '1.142614026000000',\n  'tree_1'],\n ['OPENACC_GPU',\n  '100',\n  '1000000',\n  '1000000',\n  '-62357359.211786955595016',\n  '1.062411702000000',\n  'tree_2'],\n ['OPENACC_GPU',\n  '100',\n  '1000000',\n  '1000000',\n  '-68988749.108756780624390',\n  '1.068996854000000',\n  'tree_3'],\n ['OPENACC_GPU',\n  '100',\n  '1000000',\n  '1000000',\n  '-66676166.743556618690491',\n  '1.125886425000000',\n  'tree_4'],\n ['OPENACC_GPU',\n  '100',\n  '1000000',\n  '1000000',\n  '-66178676.785272315144539',\n  '1.062313254000000',\n  'tree_5'],\n ['OPENACC_GPU',\n  '100',\n  '1000000',\n  '1000000',\n  '-63964654.266846217215061',\n  '1.121429075000000',\n  'tree_6'],\n ['OPENACC_GPU',\n  '100',\n  '1000000',\n  '1000000',\n  '-68711425.513360381126404',\n  '1.018004903000000',\n  'tree_7'],\n ['OPENACC_GPU',\n  '100',\n  '1000000',\n  '1000000',\n  '-65497999.130890302360058',\n  '1.051579499000000',\n  'tree_8'],\n ['OPENACC_GPU',\n  '100',\n  '1000000',\n  '1000000',\n  '-71452143.169635981321335',\n  '1.056767373000000',\n  'tree_9'],\n ['OPENACC_GPU',\n  '100',\n  '1000000',\n  '1000000',\n  '-68040774.091122105717659',\n  '1.067875135000000',\n  'tree_10']]"
     },
     "execution_count": 22,
     "metadata": {},
     "output_type": "execute_result"
    }
   ],
   "source": [
    "data = []\n",
    "\n",
    "# read_files_in_directory(f\"{benchmark_path}/{DNA_folder}\", unique_name=\"_BENCHMARK\")\n",
    "read_files_in_directory(f\"{results_path}/{DNA_folder}\",unique_name=\"_GPU\")\n",
    "\n",
    "\n",
    "data"
   ],
   "metadata": {
    "collapsed": false,
    "ExecuteTime": {
     "end_time": "2025-10-21T22:40:48.523295Z",
     "start_time": "2025-10-21T22:40:48.512473Z"
    }
   },
   "id": "60d5e132d900c6b5",
   "execution_count": 22
  },
  {
   "cell_type": "code",
   "outputs": [
    {
     "name": "stdout",
     "output_type": "stream",
     "text": [
      "Reading IQ-TREE file: output_kernel_nonrev_tree_1_1000000_iqtree.log\n",
      "Reading IQ-TREE file: output_kernel_nonrev_tree_2_1000000_iqtree.log\n",
      "Reading IQ-TREE file: output_kernel_nonrev_tree_3_1000000_iqtree.log\n",
      "Reading IQ-TREE file: output_kernel_nonrev_tree_4_1000000_iqtree.log\n",
      "Reading IQ-TREE file: output_kernel_nonrev_tree_5_1000000_iqtree.log\n",
      "Reading IQ-TREE file: output_kernel_nonrev_tree_6_1000000_iqtree.log\n",
      "Reading IQ-TREE file: output_kernel_nonrev_tree_7_1000000_iqtree.log\n",
      "Reading IQ-TREE file: output_kernel_nonrev_tree_8_1000000_iqtree.log\n",
      "Reading IQ-TREE file: output_kernel_nonrev_tree_9_1000000_iqtree.log\n",
      "Reading IQ-TREE file: output_kernel_nonrev_tree_10_1000000_iqtree.log\n",
      "Extracted 20 IQ-TREE results to /Users/u7826985/Projects/Nvidia/results/2025_10_09_thomas_suggestion_build_tip_likelihood/results.csv\n"
     ]
    }
   ],
   "source": [
    "read_iqtree_results(f\"/Users/u7826985/Projects/Nvidia/results/iqtree_kernel_nonreverse/{DNA_folder}\")"
   ],
   "metadata": {
    "collapsed": false,
    "ExecuteTime": {
     "end_time": "2025-10-21T22:40:48.532672Z",
     "start_time": "2025-10-21T22:40:48.523882Z"
    }
   },
   "id": "c7721f27f1867731",
   "execution_count": 23
  },
  {
   "cell_type": "code",
   "outputs": [],
   "source": [
    "write_to_csv(data, output_csv_aa)\n",
    "df_aa = pd.read_csv(output_csv_aa)\n",
    "\n",
    "dfp_aa = prepare(df_aa)"
   ],
   "metadata": {
    "collapsed": false,
    "ExecuteTime": {
     "end_time": "2025-10-21T22:40:48.538096Z",
     "start_time": "2025-10-21T22:40:48.533295Z"
    }
   },
   "id": "2e9751a91c5bf05",
   "execution_count": 24
  },
  {
   "cell_type": "code",
   "outputs": [],
   "source": [],
   "metadata": {
    "collapsed": false,
    "ExecuteTime": {
     "end_time": "2025-10-21T22:40:48.540269Z",
     "start_time": "2025-10-21T22:40:48.538780Z"
    }
   },
   "id": "ee32ec1c14567fb3",
   "execution_count": 24
  },
  {
   "cell_type": "code",
   "outputs": [
    {
     "data": {
      "text/plain": "<Figure size 1000x500 with 1 Axes>",
      "image/png": "[encoded data removed]"
     },
     "metadata": {},
     "output_type": "display_data"
    }
   ],
   "source": [
    "plot_grouped_bars(dfp_aa, logy=True, savepath=f\"{cwd}/DNA_100taxa_benchmark_buildtip_likelihood.png\")"
   ],
   "metadata": {
    "collapsed": false,
    "ExecuteTime": {
     "end_time": "2025-10-21T22:40:48.931646Z",
     "start_time": "2025-10-21T22:40:48.540672Z"
    }
   },
   "id": "82a3e9e3382c7f8b",
   "execution_count": 25
  },
  {
   "cell_type": "code",
   "outputs": [
    {
     "data": {
      "text/plain": "<Figure size 1000x500 with 1 Axes>",
      "image/png": "[encoded data removed]"
     },
     "metadata": {},
     "output_type": "display_data"
    }
   ],
   "source": [
    "plot_grouped_bars(dfp_aa, logy=False, savepath=f\"{cwd}/DNA_100taxa_benchmark_buildtip_likelihood.png\")\n"
   ],
   "metadata": {
    "collapsed": false,
    "ExecuteTime": {
     "end_time": "2025-10-21T22:40:49.309050Z",
     "start_time": "2025-10-21T22:40:48.932387Z"
    }
   },
   "id": "296c72078bc17296",
   "execution_count": 26
  },
  {
   "cell_type": "code",
   "outputs": [],
   "source": [],
   "metadata": {
    "collapsed": false,
    "ExecuteTime": {
     "end_time": "2025-10-21T22:40:49.311095Z",
     "start_time": "2025-10-21T22:40:49.309823Z"
    }
   },
   "id": "d37690ffeb7abd6f",
   "execution_count": 26
  }
 ],
 "metadata": {
  "kernelspec": {
   "display_name": "Python 3",
   "language": "python",
   "name": "python3"
  },
  "language_info": {
   "codemirror_mode": {
    "name": "ipython",
    "version": 2
   },
   "file_extension": ".py",
   "mimetype": "text/x-python",
   "name": "python",
   "nbconvert_exporter": "python",
   "pygments_lexer": "ipython2",
   "version": "2.7.6"
  }
 },
 "nbformat": 4,
 "nbformat_minor": 5
}
