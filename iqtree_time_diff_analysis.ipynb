{
 "cells": [
  {
   "cell_type": "code",
   "outputs": [],
   "source": [],
   "metadata": {
    "collapsed": false,
    "ExecuteTime": {
     "end_time": "2025-09-23T06:20:26.955113Z",
     "start_time": "2025-09-23T06:20:26.951006Z"
    }
   },
   "id": "79deb4c9182d259d",
   "execution_count": 10
  },
  {
   "cell_type": "code",
   "outputs": [
    {
     "name": "stdout",
     "output_type": "stream",
     "text": [
      "                                    file  \\\n",
      "0   output_100taxa_1000000_iqtree_15.log   \n",
      "1   output_100taxa_1000000_iqtree_29.log   \n",
      "2    output_100taxa_1000000_iqtree_2.log   \n",
      "3    output_100taxa_1000000_iqtree_3.log   \n",
      "4   output_100taxa_1000000_iqtree_28.log   \n",
      "5   output_100taxa_1000000_iqtree_14.log   \n",
      "6   output_100taxa_1000000_iqtree_16.log   \n",
      "7     output_100taxa_1000000_iqtree_.log   \n",
      "8    output_100taxa_1000000_iqtree_1.log   \n",
      "9   output_100taxa_1000000_iqtree_17.log   \n",
      "10  output_100taxa_1000000_iqtree_13.log   \n",
      "11   output_100taxa_1000000_iqtree_4.log   \n",
      "12   output_100taxa_1000000_iqtree_5.log   \n",
      "13  output_100taxa_1000000_iqtree_12.log   \n",
      "14  output_100taxa_1000000_iqtree_10.log   \n",
      "15   output_100taxa_1000000_iqtree_7.log   \n",
      "16   output_100taxa_1000000_iqtree_6.log   \n",
      "17     output_100taxa_1000000_iqtree.log   \n",
      "18  output_100taxa_1000000_iqtree_20.log   \n",
      "19  output_100taxa_1000000_iqtree_21.log   \n",
      "20   output_100taxa_1000000_iqtree_8.log   \n",
      "21   output_100taxa_1000000_iqtree_9.log   \n",
      "22  output_100taxa_1000000_iqtree_26.log   \n",
      "23  output_100taxa_1000000_iqtree_27.log   \n",
      "24  output_100taxa_1000000_iqtree_19.log   \n",
      "25  output_100taxa_1000000_iqtree_25.log   \n",
      "26  output_100taxa_1000000_iqtree_30.log   \n",
      "27  output_100taxa_1000000_iqtree_24.log   \n",
      "28  output_100taxa_1000000_iqtree_18.log   \n",
      "29  output_100taxa_1000000_iqtree_43.log   \n",
      "30  output_100taxa_1000000_iqtree_42.log   \n",
      "31  output_100taxa_1000000_iqtree_41.log   \n",
      "\n",
      "                                                 host  runtime_sec  \n",
      "0   gadi-cpu-clx-2760.gadi.nci.org.au (AVX512, FMA...        2.044  \n",
      "1   gadi-cpu-clx-1042.gadi.nci.org.au (AVX512, FMA...        2.026  \n",
      "2   gadi-cpu-clx-2760.gadi.nci.org.au (AVX512, FMA...        2.166  \n",
      "3   gadi-cpu-clx-0536.gadi.nci.org.au (AVX512, FMA...        2.133  \n",
      "4   gadi-cpu-clx-1042.gadi.nci.org.au (AVX512, FMA...        2.015  \n",
      "5   gadi-cpu-clx-0896.gadi.nci.org.au (AVX512, FMA...        1.994  \n",
      "6   gadi-cpu-clx-2760.gadi.nci.org.au (AVX512, FMA...        2.396  \n",
      "7   gadi-cpu-clx-1756.gadi.nci.org.au (AVX512, FMA...        1.981  \n",
      "8   gadi-cpu-clx-2724.gadi.nci.org.au (AVX512, FMA...        2.000  \n",
      "9   gadi-cpu-clx-2760.gadi.nci.org.au (AVX512, FMA...        2.433  \n",
      "10  gadi-cpu-clx-0720.gadi.nci.org.au (AVX512, FMA...        1.992  \n",
      "11  gadi-cpu-clx-2625.gadi.nci.org.au (AVX512, FMA...        2.173  \n",
      "12  gadi-cpu-clx-2625.gadi.nci.org.au (AVX512, FMA...        2.151  \n",
      "13  gadi-cpu-clx-1666.gadi.nci.org.au (AVX512, FMA...        2.040  \n",
      "14  gadi-cpu-clx-2552.gadi.nci.org.au (AVX512, FMA...        2.066  \n",
      "15  gadi-cpu-clx-2625.gadi.nci.org.au (AVX512, FMA...        2.153  \n",
      "16  gadi-cpu-clx-2625.gadi.nci.org.au (AVX512, FMA...        2.107  \n",
      "17  gadi-login-02.gadi.nci.org.au (AVX512, FMA3, 2...        5.707  \n",
      "18  gadi-cpu-clx-2760.gadi.nci.org.au (AVX512, FMA...        2.054  \n",
      "19  gadi-cpu-clx-2760.gadi.nci.org.au (AVX512, FMA...        2.047  \n",
      "20  gadi-cpu-clx-2625.gadi.nci.org.au (AVX512, FMA...        2.132  \n",
      "21  gadi-cpu-clx-2552.gadi.nci.org.au (AVX512, FMA...        2.090  \n",
      "22  gadi-cpu-clx-1042.gadi.nci.org.au (AVX512, FMA...        2.025  \n",
      "23  gadi-cpu-clx-1042.gadi.nci.org.au (AVX512, FMA...        2.015  \n",
      "24  gadi-cpu-clx-2760.gadi.nci.org.au (AVX512, FMA...        2.025  \n",
      "25  gadi-cpu-clx-1042.gadi.nci.org.au (AVX512, FMA...        1.994  \n",
      "26  gadi-cpu-clx-1042.gadi.nci.org.au (AVX512, FMA...        2.008  \n",
      "27  gadi-cpu-clx-1042.gadi.nci.org.au (AVX512, FMA...        2.039  \n",
      "28  gadi-cpu-clx-2760.gadi.nci.org.au (AVX512, FMA...        2.123  \n",
      "29  gadi-cpu-clx-1871.gadi.nci.org.au (AVX512, FMA...        2.012  \n",
      "30  gadi-cpu-clx-1871.gadi.nci.org.au (AVX512, FMA...        2.009  \n",
      "31  gadi-cpu-clx-1871.gadi.nci.org.au (AVX512, FMA...        2.603  \n"
     ]
    }
   ],
   "source": [
    "import re\n",
    "import pandas as pd\n",
    "from pathlib import Path\n",
    "\n",
    "def extract_info(log_path):\n",
    "    host_pattern = re.compile(r\"Host:\\s+(.*)\")\n",
    "    runtime_pattern = re.compile(r\"Parameters optimization took.*\\(([\\d.]+)\\s+sec\\)\")\n",
    "\n",
    "    host = None\n",
    "    runtime = None\n",
    "\n",
    "    with open(log_path, \"r\") as f:\n",
    "        for line in f:\n",
    "            if host is None:\n",
    "                m = host_pattern.search(line)\n",
    "                if m:\n",
    "                    host = m.group(1).strip()\n",
    "\n",
    "            if runtime is None:\n",
    "                m = runtime_pattern.search(line)\n",
    "                if m:\n",
    "                    runtime = float(m.group(1))  # store as float (seconds)\n",
    "\n",
    "            if host and runtime:\n",
    "                break\n",
    "\n",
    "    return host, runtime\n",
    "\n",
    "def parse_logs_to_df(folder):\n",
    "    records = []\n",
    "    for log_file in Path(folder).glob(\"*.log\"):\n",
    "    \n",
    "        host, runtime = extract_info(log_file)\n",
    "        records.append({\n",
    "            \"file\": log_file.name,\n",
    "            \"host\": host,\n",
    "            \"runtime_sec\": runtime\n",
    "        })\n",
    "    return pd.DataFrame(records)\n",
    "\n",
    "if __name__ == \"__main__\":\n",
    "    folder = \"/Users/u7826985/Projects/Nvidia/results/iqtree_runtime_diff/\"\n",
    "  \n",
    "    df = parse_logs_to_df(folder)\n",
    "    print(df)\n",
    "    # optionally save as CSV\n",
    "    df.to_csv(\"iqtree_summary.csv\", index=False)\n"
   ],
   "metadata": {
    "collapsed": false,
    "ExecuteTime": {
     "end_time": "2025-09-23T06:20:26.976427Z",
     "start_time": "2025-09-23T06:20:26.957334Z"
    }
   },
   "id": "912d337462662a49",
   "execution_count": 11
  },
  {
   "cell_type": "code",
   "outputs": [],
   "source": [],
   "metadata": {
    "collapsed": false,
    "ExecuteTime": {
     "end_time": "2025-09-23T06:20:26.978528Z",
     "start_time": "2025-09-23T06:20:26.977130Z"
    }
   },
   "id": "855dbb734d373322",
   "execution_count": 11
  }
 ],
 "metadata": {
  "kernelspec": {
   "display_name": "Python 3",
   "language": "python",
   "name": "python3"
  },
  "language_info": {
   "codemirror_mode": {
    "name": "ipython",
    "version": 2
   },
   "file_extension": ".py",
   "mimetype": "text/x-python",
   "name": "python",
   "nbconvert_exporter": "python",
   "pygments_lexer": "ipython2",
   "version": "2.7.6"
  }
 },
 "nbformat": 4,
 "nbformat_minor": 5
}
