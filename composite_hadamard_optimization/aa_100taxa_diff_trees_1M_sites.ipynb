{
 "cells": [
  {
   "cell_type": "code",
   "outputs": [],
   "source": [
    "import os\n",
    "import re\n",
    "import csv\n",
    "import numpy as np\n"
   ],
   "metadata": {
    "collapsed": false,
    "ExecuteTime": {
     "end_time": "2025-10-08T04:49:15.074497Z",
     "start_time": "2025-10-08T04:49:14.476687Z"
    }
   },
   "id": "79517fe647b4eabc",
   "execution_count": 1
  },
  {
   "cell_type": "code",
   "outputs": [
    {
     "data": {
      "text/plain": "'/Users/u7826985/Projects/Nvidia/analysis/composite_hadamard_optimization'"
     },
     "execution_count": 2,
     "metadata": {},
     "output_type": "execute_result"
    }
   ],
   "source": [
    "# get the current working directory\n",
    "cwd = os.getcwd()\n",
    "cwd"
   ],
   "metadata": {
    "collapsed": false,
    "ExecuteTime": {
     "end_time": "2025-10-08T04:49:15.079969Z",
     "start_time": "2025-10-08T04:49:15.075731Z"
    }
   },
   "id": "de4d663cede9561c",
   "execution_count": 2
  },
  {
   "cell_type": "markdown",
   "source": [],
   "metadata": {
    "collapsed": false
   },
   "id": "a7c6d7f5e1dc79ec"
  },
  {
   "cell_type": "markdown",
   "source": [
    "# preapre CSV"
   ],
   "metadata": {
    "collapsed": false
   },
   "id": "43a97ce4ed941acb"
  },
  {
   "cell_type": "code",
   "outputs": [],
   "source": [
    "results_path = \"/Users/u7826985/Projects/Nvidia/results/composite_hadamard_optimization/100taxa_diff_trees_1M_sites_AA\"\n",
    "output_csv = \"/Users/u7826985/Projects/Nvidia/results/composite_hadamard_optimization/100taxa_diff_trees_1M_sites_AA/results.csv\""
   ],
   "metadata": {
    "collapsed": false,
    "ExecuteTime": {
     "end_time": "2025-10-08T04:49:15.083097Z",
     "start_time": "2025-10-08T04:49:15.081292Z"
    }
   },
   "id": "c8ab120169e7a438",
   "execution_count": 3
  },
  {
   "cell_type": "code",
   "outputs": [],
   "source": [
    "# Regex to capture the RESULT line\n",
    "pattern = re.compile(\n",
    "    r\"\\[RESULT\\]\\s*backend=(\\w+)\\s+taxa=(\\d+)\\s+sites=(\\d+)\\s+patterns=(\\d+)\\s+time=([\\d\\.e\\+\\-]+)s\\s+likelihood=([\\-.\\deE]+)\"\n",
    ")\n"
   ],
   "metadata": {
    "collapsed": false,
    "ExecuteTime": {
     "end_time": "2025-10-08T04:49:15.086025Z",
     "start_time": "2025-10-08T04:49:15.083864Z"
    }
   },
   "id": "1f142dcf860868a5",
   "execution_count": 4
  },
  {
   "cell_type": "code",
   "outputs": [],
   "source": [
    "data = []"
   ],
   "metadata": {
    "collapsed": false,
    "ExecuteTime": {
     "end_time": "2025-10-08T04:49:15.089513Z",
     "start_time": "2025-10-08T04:49:15.087771Z"
    }
   },
   "id": "71e17de7c778da98",
   "execution_count": 5
  },
  {
   "cell_type": "code",
   "outputs": [],
   "source": [
    "#read files in results_path\n",
    "\n",
    "def read_files_in_directory(directory):\n",
    "    for i in range(1, 11):\n",
    "        tree_folder = f\"{directory}/tree_{i}\"\n",
    "        files = os.listdir(tree_folder)\n",
    "        for file in files:\n",
    "            if file.endswith('.txt'):\n",
    "                print(f\"Reading file: {file}\")\n",
    "                with open(f'{tree_folder}/{file}', 'r') as f:\n",
    "                    #get treefile name from the txt file name\n",
    "                    tree_file_name = file.split(\"_\")[3] + \"_\" + file.split(\"_\")[4]\n",
    "                    # detect file name contains \"a100\"\n",
    "                    a100 = False\n",
    "                    transposed = False\n",
    "                    if \"a100\" in file:\n",
    "                        a100 = True\n",
    "                    if \"transpose\" in file:\n",
    "                        transposed = True\n",
    "                        \n",
    "                        \n",
    "                    for line in f:\n",
    "                        match = pattern.search(line)\n",
    "                        if match:\n",
    "                            backend, taxa, sites, patterns, time, likelihood = match.groups()\n",
    "                            if a100:\n",
    "                                backend += \"_A100\"\n",
    "                            else:\n",
    "                                backend += \"_V100\"\n",
    "                            if transposed:\n",
    "                                backend += \"_transposed\"\n",
    "                                \n",
    "                            if taxa != \"100\":\n",
    "                                continue\n",
    "                            data.append([backend, taxa, sites, patterns, likelihood, time, tree_file_name])\n",
    "    \n",
    "                            # Write to CSV\n",
    "                            # with open(output_csv, 'w', newline='') as csvfile:\n",
    "                            #     writer = csv.writer(csvfile)\n",
    "                            #     writer.writerow([\"backend\", \"taxa\", \"sites\", \"patterns\", \"likelihood\", \"time\"])\n",
    "                            #     writer.writerows(data)\n",
    "\n",
    "    print(f\"Extracted {len(data)} results to {output_csv}\")\n",
    "\n"
   ],
   "metadata": {
    "collapsed": false,
    "ExecuteTime": {
     "end_time": "2025-10-08T04:49:15.095232Z",
     "start_time": "2025-10-08T04:49:15.090511Z"
    }
   },
   "id": "724695c99da28d7",
   "execution_count": 6
  },
  {
   "cell_type": "code",
   "outputs": [
    {
     "name": "stdout",
     "output_type": "stream",
     "text": [
      "Reading file: output_run_ci_tree_1_1000000_aa_openacc_transpose_v100.txt\n",
      "Reading file: output_run_ci_tree_1_1000000_aa_openacc_v100.txt\n",
      "Reading file: output_run_ci_tree_1_1000000_aa_openacc_transpose_a100.txt\n",
      "Reading file: output_run_ci_tree_1_1000000_aa_openacc_a100.txt\n",
      "Reading file: output_run_ci_tree_2_1000000_aa_openacc_transpose_v100.txt\n",
      "Reading file: output_run_ci_tree_2_1000000_aa_openacc_a100.txt\n",
      "Reading file: output_run_ci_tree_2_1000000_aa_openacc_v100.txt\n",
      "Reading file: output_run_ci_tree_2_1000000_aa_openacc_transpose_a100.txt\n",
      "Reading file: output_run_ci_tree_3_1000000_aa_openacc_transpose_v100.txt\n",
      "Reading file: output_run_ci_tree_3_1000000_aa_openacc_a100.txt\n",
      "Reading file: output_run_ci_tree_3_1000000_aa_openacc_transpose_a100.txt\n",
      "Reading file: output_run_ci_tree_3_1000000_aa_openacc_v100.txt\n",
      "Reading file: output_run_ci_tree_4_1000000_aa_openacc_transpose_v100.txt\n",
      "Reading file: output_run_ci_tree_4_1000000_aa_openacc_v100.txt\n",
      "Reading file: output_run_ci_tree_4_1000000_aa_openacc_transpose_a100.txt\n",
      "Reading file: output_run_ci_tree_4_1000000_aa_openacc_a100.txt\n",
      "Reading file: output_run_ci_tree_5_1000000_aa_openacc_transpose_v100.txt\n",
      "Reading file: output_run_ci_tree_5_1000000_aa_openacc_v100.txt\n",
      "Reading file: output_run_ci_tree_5_1000000_aa_openacc_a100.txt\n",
      "Reading file: output_run_ci_tree_5_1000000_aa_openacc_transpose_a100.txt\n",
      "Reading file: output_run_ci_tree_6_1000000_aa_openacc_transpose_v100.txt\n",
      "Reading file: output_run_ci_tree_6_1000000_aa_openacc_a100.txt\n",
      "Reading file: output_run_ci_tree_6_1000000_aa_openacc_transpose_a100.txt\n",
      "Reading file: output_run_ci_tree_6_1000000_aa_openacc_v100.txt\n",
      "Reading file: output_run_ci_tree_7_1000000_aa_openacc_transpose_v100.txt\n",
      "Reading file: output_run_ci_tree_7_1000000_aa_openacc_a100.txt\n",
      "Reading file: output_run_ci_tree_7_1000000_aa_openacc_v100.txt\n",
      "Reading file: output_run_ci_tree_7_1000000_aa_openacc_transpose_a100.txt\n",
      "Reading file: output_run_ci_tree_8_1000000_aa_openacc_a100.txt\n",
      "Reading file: output_run_ci_tree_8_1000000_aa_openacc_transpose_a100.txt\n",
      "Reading file: output_run_ci_tree_8_1000000_aa_openacc_transpose_v100.txt\n",
      "Reading file: output_run_ci_tree_8_1000000_aa_openacc_v100.txt\n",
      "Reading file: output_run_ci_tree_9_1000000_aa_openacc_transpose_a100.txt\n",
      "Reading file: output_run_ci_tree_9_1000000_aa_openacc_a100.txt\n",
      "Reading file: output_run_ci_tree_9_1000000_aa_openacc_transpose_v100.txt\n",
      "Reading file: output_run_ci_tree_9_1000000_aa_openacc_v100.txt\n",
      "Reading file: output_run_ci_tree_10_1000000_aa_openacc_transpose_v100.txt\n",
      "Reading file: output_run_ci_tree_10_1000000_aa_openacc_a100.txt\n",
      "Reading file: output_run_ci_tree_10_1000000_aa_openacc_v100.txt\n",
      "Reading file: output_run_ci_tree_10_1000000_aa_openacc_transpose_a100.txt\n",
      "Extracted 40 results to /Users/u7826985/Projects/Nvidia/results/composite_hadamard_optimization/100taxa_diff_trees_1M_sites_AA/results.csv\n"
     ]
    }
   ],
   "source": [
    "read_files_in_directory(results_path)"
   ],
   "metadata": {
    "collapsed": false,
    "ExecuteTime": {
     "end_time": "2025-10-08T04:49:15.194897Z",
     "start_time": "2025-10-08T04:49:15.096768Z"
    }
   },
   "id": "db15b671bb21e899",
   "execution_count": 7
  },
  {
   "cell_type": "code",
   "outputs": [
    {
     "name": "stdout",
     "output_type": "stream",
     "text": [
      "[['OPENACC_V100_transposed', '100', '1000000', '1000000', '-110413195.778517276048660', '1.926318109000000', 'tree_1'], ['OPENACC_V100', '100', '1000000', '1000000', '-110413195.778517276048660', '1.742196749000000', 'tree_1'], ['OPENACC_A100_transposed', '100', '1000000', '1000000', '-110413195.778517276048660', '1.832042150000000', 'tree_1'], ['OPENACC_A100', '100', '1000000', '1000000', '-110413195.778517276048660', '1.905702621000000', 'tree_1'], ['OPENACC_V100_transposed', '100', '1000000', '1000000', '-99186349.700422137975693', '1.978551228000000', 'tree_2'], ['OPENACC_A100', '100', '1000000', '1000000', '-99186349.700422137975693', '1.848398400000000', 'tree_2'], ['OPENACC_V100', '100', '1000000', '1000000', '-99186349.700422137975693', '1.728839479000000', 'tree_2'], ['OPENACC_A100_transposed', '100', '1000000', '1000000', '-99186349.700422137975693', '2.362501309000000', 'tree_2'], ['OPENACC_V100_transposed', '100', '1000000', '1000000', '-112041381.325586110353470', '1.983271654000000', 'tree_3'], ['OPENACC_A100', '100', '1000000', '1000000', '-112041381.325586110353470', '1.733933523000000', 'tree_3'], ['OPENACC_A100_transposed', '100', '1000000', '1000000', '-112041381.325586110353470', '1.818433444000000', 'tree_3'], ['OPENACC_V100', '100', '1000000', '1000000', '-112041381.325586110353470', '1.751877993000000', 'tree_3'], ['OPENACC_V100_transposed', '100', '1000000', '1000000', '-97277284.227406084537506', '1.918208938000000', 'tree_4'], ['OPENACC_V100', '100', '1000000', '1000000', '-97277284.227406084537506', '1.719114080000000', 'tree_4'], ['OPENACC_A100_transposed', '100', '1000000', '1000000', '-97277284.227406084537506', '1.735380793000000', 'tree_4'], ['OPENACC_A100', '100', '1000000', '1000000', '-97277284.227406084537506', '1.865540039000000', 'tree_4'], ['OPENACC_V100_transposed', '100', '1000000', '1000000', '-109757143.329428479075432', '1.923744665000000', 'tree_5'], ['OPENACC_V100', '100', '1000000', '1000000', '-109757143.329428479075432', '1.700153785000000', 'tree_5'], ['OPENACC_A100', '100', '1000000', '1000000', '-109757143.329428479075432', '1.823591423000000', 'tree_5'], ['OPENACC_A100_transposed', '100', '1000000', '1000000', '-109757143.329428479075432', '1.945044028000000', 'tree_5'], ['OPENACC_V100_transposed', '100', '1000000', '1000000', '-102915332.041291594505310', '1.950667683000000', 'tree_6'], ['OPENACC_A100', '100', '1000000', '1000000', '-102915332.041291594505310', '1.785260882000000', 'tree_6'], ['OPENACC_A100_transposed', '100', '1000000', '1000000', '-102915332.041291594505310', '1.779511453000000', 'tree_6'], ['OPENACC_V100', '100', '1000000', '1000000', '-102915332.041291594505310', '1.730002893000000', 'tree_6'], ['OPENACC_V100_transposed', '100', '1000000', '1000000', '-104636698.409147098660469', '1.989253420000000', 'tree_7'], ['OPENACC_A100', '100', '1000000', '1000000', '-104636698.409147098660469', '1.738040823000000', 'tree_7'], ['OPENACC_V100', '100', '1000000', '1000000', '-104636698.409147098660469', '1.708086351000000', 'tree_7'], ['OPENACC_A100_transposed', '100', '1000000', '1000000', '-104636698.409147098660469', '1.737480641000000', 'tree_7'], ['OPENACC_A100', '100', '1000000', '1000000', '-106825444.951877146959305', '1.760990711000000', 'tree_8'], ['OPENACC_A100_transposed', '100', '1000000', '1000000', '-106825444.951877146959305', '1.755552851000000', 'tree_8'], ['OPENACC_V100_transposed', '100', '1000000', '1000000', '-106825444.951877146959305', '1.942121993000000', 'tree_8'], ['OPENACC_V100', '100', '1000000', '1000000', '-106825444.951877146959305', '1.773672333000000', 'tree_8'], ['OPENACC_A100_transposed', '100', '1000000', '1000000', '-95332589.209261104464531', '1.946493193000000', 'tree_9'], ['OPENACC_A100', '100', '1000000', '1000000', '-95332589.209261104464531', '1.733455136000000', 'tree_9'], ['OPENACC_V100_transposed', '100', '1000000', '1000000', '-95332589.209261104464531', '1.930482180000000', 'tree_9'], ['OPENACC_V100', '100', '1000000', '1000000', '-95332589.209261104464531', '1.724014474000000', 'tree_9'], ['OPENACC_V100_transposed', '100', '1000000', '1000000', '-106559017.964738756418228', '1.934018860000000', 'tree_10'], ['OPENACC_A100', '100', '1000000', '1000000', '-106559017.964738756418228', '2.189734951000000', 'tree_10'], ['OPENACC_V100', '100', '1000000', '1000000', '-106559017.964738756418228', '1.710858568000000', 'tree_10'], ['OPENACC_A100_transposed', '100', '1000000', '1000000', '-106559017.964738756418228', '1.779811199000000', 'tree_10']]\n"
     ]
    }
   ],
   "source": [
    "print(data)"
   ],
   "metadata": {
    "collapsed": false,
    "ExecuteTime": {
     "end_time": "2025-10-08T04:49:15.197417Z",
     "start_time": "2025-10-08T04:49:15.195562Z"
    }
   },
   "id": "498c834b16e9669d",
   "execution_count": 8
  },
  {
   "cell_type": "code",
   "outputs": [],
   "source": [
    "alignment_pattern = re.compile(r\"Alignment has (\\d+) sequences with (\\d+) columns, (\\d+) distinct patterns\")\n",
    "likelihood_pattern = re.compile(r\"Initial log-likelihood:\\s+([-0-9.]+).*?took ([0-9.]+) wall-clock sec\")\n",
    "\n",
    "# Data list\n",
    "# data = []\n"
   ],
   "metadata": {
    "collapsed": false,
    "ExecuteTime": {
     "end_time": "2025-10-08T04:49:15.199962Z",
     "start_time": "2025-10-08T04:49:15.198014Z"
    }
   },
   "id": "55d38ba2aedf4ac9",
   "execution_count": 9
  },
  {
   "cell_type": "code",
   "outputs": [],
   "source": [
    "# add iqtree results\n",
    "iqtree_results_path = results_path\n",
    "\n",
    "def read_iqtree_results(directory):\n",
    "    for i in range(1, 11):\n",
    "        tree_folder = f\"{directory}/tree_{i}\"\n",
    "        files = os.listdir(tree_folder)\n",
    "        for file in files:\n",
    "            if file.endswith('iqtree.log'):\n",
    "                print(f\"Reading IQ-TREE file: {file}\")\n",
    "                with open(f'{tree_folder}/{file}', 'r') as f:\n",
    "                    tree_file_name = file.split(\"_\")[3] + \"_\" + file.split(\"_\")[4]\n",
    "                    content = f.read()\n",
    "            \n",
    "                    # Extract alignment info\n",
    "                    aln_match = alignment_pattern.search(content)\n",
    "                    ll_match = likelihood_pattern.search(content)\n",
    "                    \n",
    "                    if aln_match and ll_match:\n",
    "                        taxa = int(aln_match.group(1))\n",
    "                        sites = int(aln_match.group(2))\n",
    "                        patterns = int(aln_match.group(3))\n",
    "                        likelihood = float(ll_match.group(1))\n",
    "                        time = float(ll_match.group(2))\n",
    "                        \n",
    "                        data.append([\"IQ-TREE_SIMD\", taxa, sites, patterns, likelihood, time, tree_file_name])\n",
    "\n",
    "\n",
    "\n",
    "    print(f\"Extracted {len(data)} IQ-TREE results to {output_csv}\")"
   ],
   "metadata": {
    "collapsed": false,
    "ExecuteTime": {
     "end_time": "2025-10-08T04:49:15.204296Z",
     "start_time": "2025-10-08T04:49:15.200750Z"
    }
   },
   "id": "d50828e8bf1138ac",
   "execution_count": 10
  },
  {
   "cell_type": "code",
   "outputs": [
    {
     "name": "stdout",
     "output_type": "stream",
     "text": [
      "Reading IQ-TREE file: output_run_ci_tree_1_1000000_aa_iqtree.log\n",
      "Reading IQ-TREE file: output_run_ci_tree_2_1000000_aa_iqtree.log\n",
      "Reading IQ-TREE file: output_run_ci_tree_3_1000000_aa_iqtree.log\n",
      "Reading IQ-TREE file: output_run_ci_tree_4_1000000_aa_iqtree.log\n",
      "Reading IQ-TREE file: output_run_ci_tree_5_1000000_aa_iqtree.log\n",
      "Reading IQ-TREE file: output_run_ci_tree_6_1000000_aa_iqtree.log\n",
      "Reading IQ-TREE file: output_run_ci_tree_7_1000000_aa_iqtree.log\n",
      "Reading IQ-TREE file: output_run_ci_tree_8_1000000_aa_iqtree.log\n",
      "Reading IQ-TREE file: output_run_ci_tree_9_1000000_aa_iqtree.log\n",
      "Reading IQ-TREE file: output_run_ci_tree_10_1000000_aa_iqtree.log\n",
      "Extracted 50 IQ-TREE results to /Users/u7826985/Projects/Nvidia/results/composite_hadamard_optimization/100taxa_diff_trees_1M_sites_AA/results.csv\n"
     ]
    }
   ],
   "source": [
    "read_iqtree_results(iqtree_results_path)"
   ],
   "metadata": {
    "collapsed": false,
    "ExecuteTime": {
     "end_time": "2025-10-08T04:49:15.236240Z",
     "start_time": "2025-10-08T04:49:15.204795Z"
    }
   },
   "id": "7c7d82559575ebbb",
   "execution_count": 11
  },
  {
   "cell_type": "code",
   "outputs": [
    {
     "name": "stdout",
     "output_type": "stream",
     "text": [
      "[['OPENACC_V100_transposed', '100', '1000000', '1000000', '-110413195.778517276048660', '1.926318109000000', 'tree_1'], ['OPENACC_V100', '100', '1000000', '1000000', '-110413195.778517276048660', '1.742196749000000', 'tree_1'], ['OPENACC_A100_transposed', '100', '1000000', '1000000', '-110413195.778517276048660', '1.832042150000000', 'tree_1'], ['OPENACC_A100', '100', '1000000', '1000000', '-110413195.778517276048660', '1.905702621000000', 'tree_1'], ['OPENACC_V100_transposed', '100', '1000000', '1000000', '-99186349.700422137975693', '1.978551228000000', 'tree_2'], ['OPENACC_A100', '100', '1000000', '1000000', '-99186349.700422137975693', '1.848398400000000', 'tree_2'], ['OPENACC_V100', '100', '1000000', '1000000', '-99186349.700422137975693', '1.728839479000000', 'tree_2'], ['OPENACC_A100_transposed', '100', '1000000', '1000000', '-99186349.700422137975693', '2.362501309000000', 'tree_2'], ['OPENACC_V100_transposed', '100', '1000000', '1000000', '-112041381.325586110353470', '1.983271654000000', 'tree_3'], ['OPENACC_A100', '100', '1000000', '1000000', '-112041381.325586110353470', '1.733933523000000', 'tree_3'], ['OPENACC_A100_transposed', '100', '1000000', '1000000', '-112041381.325586110353470', '1.818433444000000', 'tree_3'], ['OPENACC_V100', '100', '1000000', '1000000', '-112041381.325586110353470', '1.751877993000000', 'tree_3'], ['OPENACC_V100_transposed', '100', '1000000', '1000000', '-97277284.227406084537506', '1.918208938000000', 'tree_4'], ['OPENACC_V100', '100', '1000000', '1000000', '-97277284.227406084537506', '1.719114080000000', 'tree_4'], ['OPENACC_A100_transposed', '100', '1000000', '1000000', '-97277284.227406084537506', '1.735380793000000', 'tree_4'], ['OPENACC_A100', '100', '1000000', '1000000', '-97277284.227406084537506', '1.865540039000000', 'tree_4'], ['OPENACC_V100_transposed', '100', '1000000', '1000000', '-109757143.329428479075432', '1.923744665000000', 'tree_5'], ['OPENACC_V100', '100', '1000000', '1000000', '-109757143.329428479075432', '1.700153785000000', 'tree_5'], ['OPENACC_A100', '100', '1000000', '1000000', '-109757143.329428479075432', '1.823591423000000', 'tree_5'], ['OPENACC_A100_transposed', '100', '1000000', '1000000', '-109757143.329428479075432', '1.945044028000000', 'tree_5'], ['OPENACC_V100_transposed', '100', '1000000', '1000000', '-102915332.041291594505310', '1.950667683000000', 'tree_6'], ['OPENACC_A100', '100', '1000000', '1000000', '-102915332.041291594505310', '1.785260882000000', 'tree_6'], ['OPENACC_A100_transposed', '100', '1000000', '1000000', '-102915332.041291594505310', '1.779511453000000', 'tree_6'], ['OPENACC_V100', '100', '1000000', '1000000', '-102915332.041291594505310', '1.730002893000000', 'tree_6'], ['OPENACC_V100_transposed', '100', '1000000', '1000000', '-104636698.409147098660469', '1.989253420000000', 'tree_7'], ['OPENACC_A100', '100', '1000000', '1000000', '-104636698.409147098660469', '1.738040823000000', 'tree_7'], ['OPENACC_V100', '100', '1000000', '1000000', '-104636698.409147098660469', '1.708086351000000', 'tree_7'], ['OPENACC_A100_transposed', '100', '1000000', '1000000', '-104636698.409147098660469', '1.737480641000000', 'tree_7'], ['OPENACC_A100', '100', '1000000', '1000000', '-106825444.951877146959305', '1.760990711000000', 'tree_8'], ['OPENACC_A100_transposed', '100', '1000000', '1000000', '-106825444.951877146959305', '1.755552851000000', 'tree_8'], ['OPENACC_V100_transposed', '100', '1000000', '1000000', '-106825444.951877146959305', '1.942121993000000', 'tree_8'], ['OPENACC_V100', '100', '1000000', '1000000', '-106825444.951877146959305', '1.773672333000000', 'tree_8'], ['OPENACC_A100_transposed', '100', '1000000', '1000000', '-95332589.209261104464531', '1.946493193000000', 'tree_9'], ['OPENACC_A100', '100', '1000000', '1000000', '-95332589.209261104464531', '1.733455136000000', 'tree_9'], ['OPENACC_V100_transposed', '100', '1000000', '1000000', '-95332589.209261104464531', '1.930482180000000', 'tree_9'], ['OPENACC_V100', '100', '1000000', '1000000', '-95332589.209261104464531', '1.724014474000000', 'tree_9'], ['OPENACC_V100_transposed', '100', '1000000', '1000000', '-106559017.964738756418228', '1.934018860000000', 'tree_10'], ['OPENACC_A100', '100', '1000000', '1000000', '-106559017.964738756418228', '2.189734951000000', 'tree_10'], ['OPENACC_V100', '100', '1000000', '1000000', '-106559017.964738756418228', '1.710858568000000', 'tree_10'], ['OPENACC_A100_transposed', '100', '1000000', '1000000', '-106559017.964738756418228', '1.779811199000000', 'tree_10'], ['IQ-TREE_SIMD', 100, 1000000, 1000000, -110413195.779, 14.984, 'tree_1'], ['IQ-TREE_SIMD', 100, 1000000, 1000000, -99186349.7, 14.941, 'tree_2'], ['IQ-TREE_SIMD', 100, 1000000, 1000000, -112041381.326, 14.964, 'tree_3'], ['IQ-TREE_SIMD', 100, 1000000, 1000000, -97277284.227, 14.984, 'tree_4'], ['IQ-TREE_SIMD', 100, 1000000, 1000000, -109757143.329, 14.927, 'tree_5'], ['IQ-TREE_SIMD', 100, 1000000, 1000000, -102915332.041, 14.994, 'tree_6'], ['IQ-TREE_SIMD', 100, 1000000, 1000000, -104636698.409, 14.965, 'tree_7'], ['IQ-TREE_SIMD', 100, 1000000, 1000000, -106825444.952, 14.945, 'tree_8'], ['IQ-TREE_SIMD', 100, 1000000, 1000000, -95332589.209, 14.873, 'tree_9'], ['IQ-TREE_SIMD', 100, 1000000, 1000000, -106559017.965, 14.869, 'tree_10']]\n"
     ]
    }
   ],
   "source": [
    "print(data)"
   ],
   "metadata": {
    "collapsed": false,
    "ExecuteTime": {
     "end_time": "2025-10-08T04:49:15.239782Z",
     "start_time": "2025-10-08T04:49:15.237462Z"
    }
   },
   "id": "e5fad9e3ad2d1cc0",
   "execution_count": 12
  },
  {
   "cell_type": "code",
   "outputs": [],
   "source": [
    "# Write to CSV\n",
    "with open(output_csv, 'w', newline='') as csvfile:\n",
    "    writer = csv.writer(csvfile)\n",
    "    writer.writerow([\"backend\", \"taxa\", \"sites\", \"patterns\", \"likelihood\", \"time\",\"treefile\"])\n",
    "    writer.writerows(data)"
   ],
   "metadata": {
    "collapsed": false,
    "ExecuteTime": {
     "end_time": "2025-10-08T04:49:15.248054Z",
     "start_time": "2025-10-08T04:49:15.241504Z"
    }
   },
   "id": "ba9439bf6c805ffc",
   "execution_count": 13
  },
  {
   "cell_type": "markdown",
   "source": [
    "# Analysis of Results"
   ],
   "metadata": {
    "collapsed": false
   },
   "id": "5d212e0e49be55f"
  },
  {
   "cell_type": "code",
   "outputs": [],
   "source": [
    "import pandas as pd\n",
    "import matplotlib.pyplot as plt\n"
   ],
   "metadata": {
    "collapsed": false,
    "ExecuteTime": {
     "end_time": "2025-10-08T04:49:18.676267Z",
     "start_time": "2025-10-08T04:49:15.251820Z"
    }
   },
   "id": "6a961dfb130793a",
   "execution_count": 14
  },
  {
   "cell_type": "code",
   "outputs": [
    {
     "data": {
      "text/plain": "                   backend  taxa    sites  patterns    likelihood      time  \\\n0  OPENACC_V100_transposed   100  1000000   1000000 -1.104132e+08  1.926318   \n1             OPENACC_V100   100  1000000   1000000 -1.104132e+08  1.742197   \n2  OPENACC_A100_transposed   100  1000000   1000000 -1.104132e+08  1.832042   \n3             OPENACC_A100   100  1000000   1000000 -1.104132e+08  1.905703   \n4  OPENACC_V100_transposed   100  1000000   1000000 -9.918635e+07  1.978551   \n\n  treefile  \n0   tree_1  \n1   tree_1  \n2   tree_1  \n3   tree_1  \n4   tree_2  ",
      "text/html": "<div>\n<style scoped>\n    .dataframe tbody tr th:only-of-type {\n        vertical-align: middle;\n    }\n\n    .dataframe tbody tr th {\n        vertical-align: top;\n    }\n\n    .dataframe thead th {\n        text-align: right;\n    }\n</style>\n<table border=\"1\" class=\"dataframe\">\n  <thead>\n    <tr style=\"text-align: right;\">\n      <th></th>\n      <th>backend</th>\n      <th>taxa</th>\n      <th>sites</th>\n      <th>patterns</th>\n      <th>likelihood</th>\n      <th>time</th>\n      <th>treefile</th>\n    </tr>\n  </thead>\n  <tbody>\n    <tr>\n      <th>0</th>\n      <td>OPENACC_V100_transposed</td>\n      <td>100</td>\n      <td>1000000</td>\n      <td>1000000</td>\n      <td>-1.104132e+08</td>\n      <td>1.926318</td>\n      <td>tree_1</td>\n    </tr>\n    <tr>\n      <th>1</th>\n      <td>OPENACC_V100</td>\n      <td>100</td>\n      <td>1000000</td>\n      <td>1000000</td>\n      <td>-1.104132e+08</td>\n      <td>1.742197</td>\n      <td>tree_1</td>\n    </tr>\n    <tr>\n      <th>2</th>\n      <td>OPENACC_A100_transposed</td>\n      <td>100</td>\n      <td>1000000</td>\n      <td>1000000</td>\n      <td>-1.104132e+08</td>\n      <td>1.832042</td>\n      <td>tree_1</td>\n    </tr>\n    <tr>\n      <th>3</th>\n      <td>OPENACC_A100</td>\n      <td>100</td>\n      <td>1000000</td>\n      <td>1000000</td>\n      <td>-1.104132e+08</td>\n      <td>1.905703</td>\n      <td>tree_1</td>\n    </tr>\n    <tr>\n      <th>4</th>\n      <td>OPENACC_V100_transposed</td>\n      <td>100</td>\n      <td>1000000</td>\n      <td>1000000</td>\n      <td>-9.918635e+07</td>\n      <td>1.978551</td>\n      <td>tree_2</td>\n    </tr>\n  </tbody>\n</table>\n</div>"
     },
     "execution_count": 15,
     "metadata": {},
     "output_type": "execute_result"
    }
   ],
   "source": [
    "# Read the CSV file into a DataFrame\n",
    "df = pd.read_csv(output_csv)\n",
    "# Display the first few rows of the DataFrame\n",
    "df.head()"
   ],
   "metadata": {
    "collapsed": false,
    "ExecuteTime": {
     "end_time": "2025-10-08T04:49:18.700293Z",
     "start_time": "2025-10-08T04:49:18.677338Z"
    }
   },
   "id": "fed832d4002e35d4",
   "execution_count": 15
  },
  {
   "cell_type": "code",
   "outputs": [
    {
     "data": {
      "text/plain": "                    backend  taxa    sites  patterns    likelihood       time  \\\n0   OPENACC_V100_transposed   100  1000000   1000000 -1.104132e+08   1.926318   \n1              OPENACC_V100   100  1000000   1000000 -1.104132e+08   1.742197   \n2   OPENACC_A100_transposed   100  1000000   1000000 -1.104132e+08   1.832042   \n3              OPENACC_A100   100  1000000   1000000 -1.104132e+08   1.905703   \n4   OPENACC_V100_transposed   100  1000000   1000000 -9.918635e+07   1.978551   \n5              OPENACC_A100   100  1000000   1000000 -9.918635e+07   1.848398   \n6              OPENACC_V100   100  1000000   1000000 -9.918635e+07   1.728839   \n7   OPENACC_A100_transposed   100  1000000   1000000 -9.918635e+07   2.362501   \n8   OPENACC_V100_transposed   100  1000000   1000000 -1.120414e+08   1.983272   \n9              OPENACC_A100   100  1000000   1000000 -1.120414e+08   1.733934   \n10  OPENACC_A100_transposed   100  1000000   1000000 -1.120414e+08   1.818433   \n11             OPENACC_V100   100  1000000   1000000 -1.120414e+08   1.751878   \n12  OPENACC_V100_transposed   100  1000000   1000000 -9.727728e+07   1.918209   \n13             OPENACC_V100   100  1000000   1000000 -9.727728e+07   1.719114   \n14  OPENACC_A100_transposed   100  1000000   1000000 -9.727728e+07   1.735381   \n15             OPENACC_A100   100  1000000   1000000 -9.727728e+07   1.865540   \n16  OPENACC_V100_transposed   100  1000000   1000000 -1.097571e+08   1.923745   \n17             OPENACC_V100   100  1000000   1000000 -1.097571e+08   1.700154   \n18             OPENACC_A100   100  1000000   1000000 -1.097571e+08   1.823591   \n19  OPENACC_A100_transposed   100  1000000   1000000 -1.097571e+08   1.945044   \n20  OPENACC_V100_transposed   100  1000000   1000000 -1.029153e+08   1.950668   \n21             OPENACC_A100   100  1000000   1000000 -1.029153e+08   1.785261   \n22  OPENACC_A100_transposed   100  1000000   1000000 -1.029153e+08   1.779511   \n23             OPENACC_V100   100  1000000   1000000 -1.029153e+08   1.730003   \n24  OPENACC_V100_transposed   100  1000000   1000000 -1.046367e+08   1.989253   \n25             OPENACC_A100   100  1000000   1000000 -1.046367e+08   1.738041   \n26             OPENACC_V100   100  1000000   1000000 -1.046367e+08   1.708086   \n27  OPENACC_A100_transposed   100  1000000   1000000 -1.046367e+08   1.737481   \n28             OPENACC_A100   100  1000000   1000000 -1.068254e+08   1.760991   \n29  OPENACC_A100_transposed   100  1000000   1000000 -1.068254e+08   1.755553   \n30  OPENACC_V100_transposed   100  1000000   1000000 -1.068254e+08   1.942122   \n31             OPENACC_V100   100  1000000   1000000 -1.068254e+08   1.773672   \n32  OPENACC_A100_transposed   100  1000000   1000000 -9.533259e+07   1.946493   \n33             OPENACC_A100   100  1000000   1000000 -9.533259e+07   1.733455   \n34  OPENACC_V100_transposed   100  1000000   1000000 -9.533259e+07   1.930482   \n35             OPENACC_V100   100  1000000   1000000 -9.533259e+07   1.724014   \n36  OPENACC_V100_transposed   100  1000000   1000000 -1.065590e+08   1.934019   \n37             OPENACC_A100   100  1000000   1000000 -1.065590e+08   2.189735   \n38             OPENACC_V100   100  1000000   1000000 -1.065590e+08   1.710859   \n39  OPENACC_A100_transposed   100  1000000   1000000 -1.065590e+08   1.779811   \n40             IQ-TREE_SIMD   100  1000000   1000000 -1.104132e+08  14.984000   \n41             IQ-TREE_SIMD   100  1000000   1000000 -9.918635e+07  14.941000   \n42             IQ-TREE_SIMD   100  1000000   1000000 -1.120414e+08  14.964000   \n43             IQ-TREE_SIMD   100  1000000   1000000 -9.727728e+07  14.984000   \n44             IQ-TREE_SIMD   100  1000000   1000000 -1.097571e+08  14.927000   \n45             IQ-TREE_SIMD   100  1000000   1000000 -1.029153e+08  14.994000   \n46             IQ-TREE_SIMD   100  1000000   1000000 -1.046367e+08  14.965000   \n47             IQ-TREE_SIMD   100  1000000   1000000 -1.068254e+08  14.945000   \n48             IQ-TREE_SIMD   100  1000000   1000000 -9.533259e+07  14.873000   \n49             IQ-TREE_SIMD   100  1000000   1000000 -1.065590e+08  14.869000   \n\n   treefile  \n0    tree_1  \n1    tree_1  \n2    tree_1  \n3    tree_1  \n4    tree_2  \n5    tree_2  \n6    tree_2  \n7    tree_2  \n8    tree_3  \n9    tree_3  \n10   tree_3  \n11   tree_3  \n12   tree_4  \n13   tree_4  \n14   tree_4  \n15   tree_4  \n16   tree_5  \n17   tree_5  \n18   tree_5  \n19   tree_5  \n20   tree_6  \n21   tree_6  \n22   tree_6  \n23   tree_6  \n24   tree_7  \n25   tree_7  \n26   tree_7  \n27   tree_7  \n28   tree_8  \n29   tree_8  \n30   tree_8  \n31   tree_8  \n32   tree_9  \n33   tree_9  \n34   tree_9  \n35   tree_9  \n36  tree_10  \n37  tree_10  \n38  tree_10  \n39  tree_10  \n40   tree_1  \n41   tree_2  \n42   tree_3  \n43   tree_4  \n44   tree_5  \n45   tree_6  \n46   tree_7  \n47   tree_8  \n48   tree_9  \n49  tree_10  ",
      "text/html": "<div>\n<style scoped>\n    .dataframe tbody tr th:only-of-type {\n        vertical-align: middle;\n    }\n\n    .dataframe tbody tr th {\n        vertical-align: top;\n    }\n\n    .dataframe thead th {\n        text-align: right;\n    }\n</style>\n<table border=\"1\" class=\"dataframe\">\n  <thead>\n    <tr style=\"text-align: right;\">\n      <th></th>\n      <th>backend</th>\n      <th>taxa</th>\n      <th>sites</th>\n      <th>patterns</th>\n      <th>likelihood</th>\n      <th>time</th>\n      <th>treefile</th>\n    </tr>\n  </thead>\n  <tbody>\n    <tr>\n      <th>0</th>\n      <td>OPENACC_V100_transposed</td>\n      <td>100</td>\n      <td>1000000</td>\n      <td>1000000</td>\n      <td>-1.104132e+08</td>\n      <td>1.926318</td>\n      <td>tree_1</td>\n    </tr>\n    <tr>\n      <th>1</th>\n      <td>OPENACC_V100</td>\n      <td>100</td>\n      <td>1000000</td>\n      <td>1000000</td>\n      <td>-1.104132e+08</td>\n      <td>1.742197</td>\n      <td>tree_1</td>\n    </tr>\n    <tr>\n      <th>2</th>\n      <td>OPENACC_A100_transposed</td>\n      <td>100</td>\n      <td>1000000</td>\n      <td>1000000</td>\n      <td>-1.104132e+08</td>\n      <td>1.832042</td>\n      <td>tree_1</td>\n    </tr>\n    <tr>\n      <th>3</th>\n      <td>OPENACC_A100</td>\n      <td>100</td>\n      <td>1000000</td>\n      <td>1000000</td>\n      <td>-1.104132e+08</td>\n      <td>1.905703</td>\n      <td>tree_1</td>\n    </tr>\n    <tr>\n      <th>4</th>\n      <td>OPENACC_V100_transposed</td>\n      <td>100</td>\n      <td>1000000</td>\n      <td>1000000</td>\n      <td>-9.918635e+07</td>\n      <td>1.978551</td>\n      <td>tree_2</td>\n    </tr>\n    <tr>\n      <th>5</th>\n      <td>OPENACC_A100</td>\n      <td>100</td>\n      <td>1000000</td>\n      <td>1000000</td>\n      <td>-9.918635e+07</td>\n      <td>1.848398</td>\n      <td>tree_2</td>\n    </tr>\n    <tr>\n      <th>6</th>\n      <td>OPENACC_V100</td>\n      <td>100</td>\n      <td>1000000</td>\n      <td>1000000</td>\n      <td>-9.918635e+07</td>\n      <td>1.728839</td>\n      <td>tree_2</td>\n    </tr>\n    <tr>\n      <th>7</th>\n      <td>OPENACC_A100_transposed</td>\n      <td>100</td>\n      <td>1000000</td>\n      <td>1000000</td>\n      <td>-9.918635e+07</td>\n      <td>2.362501</td>\n      <td>tree_2</td>\n    </tr>\n    <tr>\n      <th>8</th>\n      <td>OPENACC_V100_transposed</td>\n      <td>100</td>\n      <td>1000000</td>\n      <td>1000000</td>\n      <td>-1.120414e+08</td>\n      <td>1.983272</td>\n      <td>tree_3</td>\n    </tr>\n    <tr>\n      <th>9</th>\n      <td>OPENACC_A100</td>\n      <td>100</td>\n      <td>1000000</td>\n      <td>1000000</td>\n      <td>-1.120414e+08</td>\n      <td>1.733934</td>\n      <td>tree_3</td>\n    </tr>\n    <tr>\n      <th>10</th>\n      <td>OPENACC_A100_transposed</td>\n      <td>100</td>\n      <td>1000000</td>\n      <td>1000000</td>\n      <td>-1.120414e+08</td>\n      <td>1.818433</td>\n      <td>tree_3</td>\n    </tr>\n    <tr>\n      <th>11</th>\n      <td>OPENACC_V100</td>\n      <td>100</td>\n      <td>1000000</td>\n      <td>1000000</td>\n      <td>-1.120414e+08</td>\n      <td>1.751878</td>\n      <td>tree_3</td>\n    </tr>\n    <tr>\n      <th>12</th>\n      <td>OPENACC_V100_transposed</td>\n      <td>100</td>\n      <td>1000000</td>\n      <td>1000000</td>\n      <td>-9.727728e+07</td>\n      <td>1.918209</td>\n      <td>tree_4</td>\n    </tr>\n    <tr>\n      <th>13</th>\n      <td>OPENACC_V100</td>\n      <td>100</td>\n      <td>1000000</td>\n      <td>1000000</td>\n      <td>-9.727728e+07</td>\n      <td>1.719114</td>\n      <td>tree_4</td>\n    </tr>\n    <tr>\n      <th>14</th>\n      <td>OPENACC_A100_transposed</td>\n      <td>100</td>\n      <td>1000000</td>\n      <td>1000000</td>\n      <td>-9.727728e+07</td>\n      <td>1.735381</td>\n      <td>tree_4</td>\n    </tr>\n    <tr>\n      <th>15</th>\n      <td>OPENACC_A100</td>\n      <td>100</td>\n      <td>1000000</td>\n      <td>1000000</td>\n      <td>-9.727728e+07</td>\n      <td>1.865540</td>\n      <td>tree_4</td>\n    </tr>\n    <tr>\n      <th>16</th>\n      <td>OPENACC_V100_transposed</td>\n      <td>100</td>\n      <td>1000000</td>\n      <td>1000000</td>\n      <td>-1.097571e+08</td>\n      <td>1.923745</td>\n      <td>tree_5</td>\n    </tr>\n    <tr>\n      <th>17</th>\n      <td>OPENACC_V100</td>\n      <td>100</td>\n      <td>1000000</td>\n      <td>1000000</td>\n      <td>-1.097571e+08</td>\n      <td>1.700154</td>\n      <td>tree_5</td>\n    </tr>\n    <tr>\n      <th>18</th>\n      <td>OPENACC_A100</td>\n      <td>100</td>\n      <td>1000000</td>\n      <td>1000000</td>\n      <td>-1.097571e+08</td>\n      <td>1.823591</td>\n      <td>tree_5</td>\n    </tr>\n    <tr>\n      <th>19</th>\n      <td>OPENACC_A100_transposed</td>\n      <td>100</td>\n      <td>1000000</td>\n      <td>1000000</td>\n      <td>-1.097571e+08</td>\n      <td>1.945044</td>\n      <td>tree_5</td>\n    </tr>\n    <tr>\n      <th>20</th>\n      <td>OPENACC_V100_transposed</td>\n      <td>100</td>\n      <td>1000000</td>\n      <td>1000000</td>\n      <td>-1.029153e+08</td>\n      <td>1.950668</td>\n      <td>tree_6</td>\n    </tr>\n    <tr>\n      <th>21</th>\n      <td>OPENACC_A100</td>\n      <td>100</td>\n      <td>1000000</td>\n      <td>1000000</td>\n      <td>-1.029153e+08</td>\n      <td>1.785261</td>\n      <td>tree_6</td>\n    </tr>\n    <tr>\n      <th>22</th>\n      <td>OPENACC_A100_transposed</td>\n      <td>100</td>\n      <td>1000000</td>\n      <td>1000000</td>\n      <td>-1.029153e+08</td>\n      <td>1.779511</td>\n      <td>tree_6</td>\n    </tr>\n    <tr>\n      <th>23</th>\n      <td>OPENACC_V100</td>\n      <td>100</td>\n      <td>1000000</td>\n      <td>1000000</td>\n      <td>-1.029153e+08</td>\n      <td>1.730003</td>\n      <td>tree_6</td>\n    </tr>\n    <tr>\n      <th>24</th>\n      <td>OPENACC_V100_transposed</td>\n      <td>100</td>\n      <td>1000000</td>\n      <td>1000000</td>\n      <td>-1.046367e+08</td>\n      <td>1.989253</td>\n      <td>tree_7</td>\n    </tr>\n    <tr>\n      <th>25</th>\n      <td>OPENACC_A100</td>\n      <td>100</td>\n      <td>1000000</td>\n      <td>1000000</td>\n      <td>-1.046367e+08</td>\n      <td>1.738041</td>\n      <td>tree_7</td>\n    </tr>\n    <tr>\n      <th>26</th>\n      <td>OPENACC_V100</td>\n      <td>100</td>\n      <td>1000000</td>\n      <td>1000000</td>\n      <td>-1.046367e+08</td>\n      <td>1.708086</td>\n      <td>tree_7</td>\n    </tr>\n    <tr>\n      <th>27</th>\n      <td>OPENACC_A100_transposed</td>\n      <td>100</td>\n      <td>1000000</td>\n      <td>1000000</td>\n      <td>-1.046367e+08</td>\n      <td>1.737481</td>\n      <td>tree_7</td>\n    </tr>\n    <tr>\n      <th>28</th>\n      <td>OPENACC_A100</td>\n      <td>100</td>\n      <td>1000000</td>\n      <td>1000000</td>\n      <td>-1.068254e+08</td>\n      <td>1.760991</td>\n      <td>tree_8</td>\n    </tr>\n    <tr>\n      <th>29</th>\n      <td>OPENACC_A100_transposed</td>\n      <td>100</td>\n      <td>1000000</td>\n      <td>1000000</td>\n      <td>-1.068254e+08</td>\n      <td>1.755553</td>\n      <td>tree_8</td>\n    </tr>\n    <tr>\n      <th>30</th>\n      <td>OPENACC_V100_transposed</td>\n      <td>100</td>\n      <td>1000000</td>\n      <td>1000000</td>\n      <td>-1.068254e+08</td>\n      <td>1.942122</td>\n      <td>tree_8</td>\n    </tr>\n    <tr>\n      <th>31</th>\n      <td>OPENACC_V100</td>\n      <td>100</td>\n      <td>1000000</td>\n      <td>1000000</td>\n      <td>-1.068254e+08</td>\n      <td>1.773672</td>\n      <td>tree_8</td>\n    </tr>\n    <tr>\n      <th>32</th>\n      <td>OPENACC_A100_transposed</td>\n      <td>100</td>\n      <td>1000000</td>\n      <td>1000000</td>\n      <td>-9.533259e+07</td>\n      <td>1.946493</td>\n      <td>tree_9</td>\n    </tr>\n    <tr>\n      <th>33</th>\n      <td>OPENACC_A100</td>\n      <td>100</td>\n      <td>1000000</td>\n      <td>1000000</td>\n      <td>-9.533259e+07</td>\n      <td>1.733455</td>\n      <td>tree_9</td>\n    </tr>\n    <tr>\n      <th>34</th>\n      <td>OPENACC_V100_transposed</td>\n      <td>100</td>\n      <td>1000000</td>\n      <td>1000000</td>\n      <td>-9.533259e+07</td>\n      <td>1.930482</td>\n      <td>tree_9</td>\n    </tr>\n    <tr>\n      <th>35</th>\n      <td>OPENACC_V100</td>\n      <td>100</td>\n      <td>1000000</td>\n      <td>1000000</td>\n      <td>-9.533259e+07</td>\n      <td>1.724014</td>\n      <td>tree_9</td>\n    </tr>\n    <tr>\n      <th>36</th>\n      <td>OPENACC_V100_transposed</td>\n      <td>100</td>\n      <td>1000000</td>\n      <td>1000000</td>\n      <td>-1.065590e+08</td>\n      <td>1.934019</td>\n      <td>tree_10</td>\n    </tr>\n    <tr>\n      <th>37</th>\n      <td>OPENACC_A100</td>\n      <td>100</td>\n      <td>1000000</td>\n      <td>1000000</td>\n      <td>-1.065590e+08</td>\n      <td>2.189735</td>\n      <td>tree_10</td>\n    </tr>\n    <tr>\n      <th>38</th>\n      <td>OPENACC_V100</td>\n      <td>100</td>\n      <td>1000000</td>\n      <td>1000000</td>\n      <td>-1.065590e+08</td>\n      <td>1.710859</td>\n      <td>tree_10</td>\n    </tr>\n    <tr>\n      <th>39</th>\n      <td>OPENACC_A100_transposed</td>\n      <td>100</td>\n      <td>1000000</td>\n      <td>1000000</td>\n      <td>-1.065590e+08</td>\n      <td>1.779811</td>\n      <td>tree_10</td>\n    </tr>\n    <tr>\n      <th>40</th>\n      <td>IQ-TREE_SIMD</td>\n      <td>100</td>\n      <td>1000000</td>\n      <td>1000000</td>\n      <td>-1.104132e+08</td>\n      <td>14.984000</td>\n      <td>tree_1</td>\n    </tr>\n    <tr>\n      <th>41</th>\n      <td>IQ-TREE_SIMD</td>\n      <td>100</td>\n      <td>1000000</td>\n      <td>1000000</td>\n      <td>-9.918635e+07</td>\n      <td>14.941000</td>\n      <td>tree_2</td>\n    </tr>\n    <tr>\n      <th>42</th>\n      <td>IQ-TREE_SIMD</td>\n      <td>100</td>\n      <td>1000000</td>\n      <td>1000000</td>\n      <td>-1.120414e+08</td>\n      <td>14.964000</td>\n      <td>tree_3</td>\n    </tr>\n    <tr>\n      <th>43</th>\n      <td>IQ-TREE_SIMD</td>\n      <td>100</td>\n      <td>1000000</td>\n      <td>1000000</td>\n      <td>-9.727728e+07</td>\n      <td>14.984000</td>\n      <td>tree_4</td>\n    </tr>\n    <tr>\n      <th>44</th>\n      <td>IQ-TREE_SIMD</td>\n      <td>100</td>\n      <td>1000000</td>\n      <td>1000000</td>\n      <td>-1.097571e+08</td>\n      <td>14.927000</td>\n      <td>tree_5</td>\n    </tr>\n    <tr>\n      <th>45</th>\n      <td>IQ-TREE_SIMD</td>\n      <td>100</td>\n      <td>1000000</td>\n      <td>1000000</td>\n      <td>-1.029153e+08</td>\n      <td>14.994000</td>\n      <td>tree_6</td>\n    </tr>\n    <tr>\n      <th>46</th>\n      <td>IQ-TREE_SIMD</td>\n      <td>100</td>\n      <td>1000000</td>\n      <td>1000000</td>\n      <td>-1.046367e+08</td>\n      <td>14.965000</td>\n      <td>tree_7</td>\n    </tr>\n    <tr>\n      <th>47</th>\n      <td>IQ-TREE_SIMD</td>\n      <td>100</td>\n      <td>1000000</td>\n      <td>1000000</td>\n      <td>-1.068254e+08</td>\n      <td>14.945000</td>\n      <td>tree_8</td>\n    </tr>\n    <tr>\n      <th>48</th>\n      <td>IQ-TREE_SIMD</td>\n      <td>100</td>\n      <td>1000000</td>\n      <td>1000000</td>\n      <td>-9.533259e+07</td>\n      <td>14.873000</td>\n      <td>tree_9</td>\n    </tr>\n    <tr>\n      <th>49</th>\n      <td>IQ-TREE_SIMD</td>\n      <td>100</td>\n      <td>1000000</td>\n      <td>1000000</td>\n      <td>-1.065590e+08</td>\n      <td>14.869000</td>\n      <td>tree_10</td>\n    </tr>\n  </tbody>\n</table>\n</div>"
     },
     "execution_count": 16,
     "metadata": {},
     "output_type": "execute_result"
    }
   ],
   "source": [
    "df"
   ],
   "metadata": {
    "collapsed": false,
    "ExecuteTime": {
     "end_time": "2025-10-08T04:49:18.711244Z",
     "start_time": "2025-10-08T04:49:18.701300Z"
    }
   },
   "id": "1474229816d8301c",
   "execution_count": 16
  },
  {
   "cell_type": "code",
   "outputs": [],
   "source": [
    "groups = df.groupby('treefile')"
   ],
   "metadata": {
    "collapsed": false,
    "ExecuteTime": {
     "end_time": "2025-10-08T04:49:18.714807Z",
     "start_time": "2025-10-08T04:49:18.712304Z"
    }
   },
   "id": "9514c7b6a806791d",
   "execution_count": 17
  },
  {
   "cell_type": "code",
   "outputs": [],
   "source": [
    "def _basename(s):\n",
    "    return os.path.basename(str(s))\n",
    "\n",
    "def prepare(df):\n",
    "    out = df.copy()\n",
    "    # standardize column names if needed\n",
    "    cols = {c.lower(): c for c in df.columns}\n",
    "    # Expect columns named like 'tree_file', 'backend', 'time'\n",
    "    # If user had different casing, map it:\n",
    "    def find(colname):\n",
    "        return next((c for c in df.columns if c.lower() == colname), colname)\n",
    "    tree_col = find('treefile')\n",
    "    backend_col = find('backend')\n",
    "    time_col = find('time')\n",
    "\n",
    "    out['treefile'] = out[tree_col].astype(str)\n",
    "    out['backend']   = out[backend_col].astype(str)\n",
    "    out['time']      = pd.to_numeric(out[time_col], errors='coerce')\n",
    "\n",
    "    out['tree_key']  = out['treefile']\n",
    "    # Order tree keys by natural sort on any numbers inside (helps readability)\n",
    "    def _nat_key(s):\n",
    "        return [int(t) if t.isdigit() else t for t in re.split(r'(\\d+)', s)]\n",
    "    tree_order = sorted(out['tree_key'].unique(), key=_nat_key)\n",
    "    out['tree_key'] = pd.Categorical(out['tree_key'], categories=tree_order, ordered=True)\n",
    "\n",
    "    # Optional: order backends (put CPU first, then GPU variants)\n",
    "    backend_order = sorted(out['backend'].unique(), key=lambda b: (('cpu' not in b.lower()), b.lower()))\n",
    "    out['backend'] = pd.Categorical(out['backend'], categories=backend_order, ordered=True)\n",
    "    return out\n",
    "\n",
    "dfp = prepare(df)\n",
    "\n",
    "# --- 1) Grouped bars: mean time per backend for each tree ---------------------\n",
    "def plot_grouped_bars(dfp, logy=True, savepath=None):\n",
    "    pivot = dfp.pivot_table(index='tree_key', columns='backend', values='time', aggfunc='mean')\n",
    "    ax = pivot.plot(kind='bar', figsize=(10, 5))\n",
    "    ax.set_xlabel(\"Tree file\")\n",
    "    ax.set_ylabel(\"Runtime (s)\")\n",
    "    ax.set_title(\"runtime per tree\")\n",
    "    if logy:\n",
    "        ax.set_yscale('log')\n",
    "    ax.legend(title=\"Backend\")\n",
    "    plt.tight_layout()\n",
    "    if savepath:\n",
    "        plt.savefig(savepath, dpi=300, bbox_inches='tight')\n",
    "    plt.show()\n",
    "\n",
    "# --- 2) Dot plot: each run as a point (great with log scale) ------------------\n",
    "def plot_dot(dfp, logy=True, savepath=None):\n",
    "    fig, ax = plt.subplots(figsize=(10, 5))\n",
    "    backends = list(dfp['backend'].cat.categories) if hasattr(dfp['backend'], 'cat') else sorted(dfp['backend'].unique())\n",
    "    x_pos = np.arange(len(backends))\n",
    "\n",
    "    jitter = 0.15\n",
    "    for i, b in enumerate(backends):\n",
    "        y = dfp.loc[dfp['backend'] == b, 'time'].values\n",
    "        x = np.random.uniform(i - jitter, i + jitter, size=len(y))\n",
    "        ax.scatter(x, y, s=18, alpha=0.8)  # no explicit colors\n",
    "    ax.set_xticks(x_pos)\n",
    "    ax.set_xticklabels(backends, rotation=0)\n",
    "    ax.set_xlabel(\"Backend\")\n",
    "    ax.set_ylabel(\"Runtime (s)\")\n",
    "    ax.set_title(\"Per-run runtimes by backend\")\n",
    "    if logy:\n",
    "        ax.set_yscale('log')\n",
    "    ax.grid(True, which='both', axis='y', linestyle='--', alpha=0.4)\n",
    "    plt.tight_layout()\n",
    "    if savepath:\n",
    "        plt.savefig(savepath, dpi=300, bbox_inches='tight')\n",
    "    plt.show()\n",
    "\n",
    "# --- 3) Distribution view: boxplot by backend ---------------------------------\n",
    "def plot_box(dfp, logy=True, savepath=None):\n",
    "    fig, ax = plt.subplots(figsize=(10, 5))\n",
    "    dfp.boxplot(column='time', by='backend', ax=ax)  # default style, no colors set\n",
    "    ax.set_title(\"Runtime distribution by backend\")\n",
    "    ax.set_ylabel(\"Runtime (s)\")\n",
    "    if logy:\n",
    "        ax.set_yscale('log')\n",
    "    plt.suptitle(\"\")  # remove automatic super-title\n",
    "    plt.tight_layout()\n",
    "    if savepath:\n",
    "        plt.savefig(savepath, dpi=300, bbox_inches='tight')\n",
    "    plt.show()\n",
    "\n",
    "# --- 4) Compact heatmap: trees x backends (mean time) -------------------------\n",
    "def plot_heatmap(dfp, log=True, savepath=None):\n",
    "    mat = dfp.pivot_table(index='tree_key', columns='backend', values='time', aggfunc='mean')\n",
    "    data = np.log10(mat.values) if log else mat.values\n",
    "\n",
    "    fig, ax = plt.subplots(figsize=(10, max(4, 0.4*len(mat))))\n",
    "    im = ax.imshow(data, aspect='auto')  # default colormap, no color specified\n",
    "\n",
    "    # ticks / labels\n",
    "    ax.set_yticks(np.arange(mat.shape[0]))\n",
    "    ax.set_yticklabels(mat.index.astype(str))\n",
    "    ax.set_xticks(np.arange(mat.shape[1]))\n",
    "    ax.set_xticklabels(mat.columns.astype(str), rotation=45, ha='right')\n",
    "    ax.set_xlabel('Backend')\n",
    "    ax.set_ylabel('Tree file')\n",
    "    ax.set_title('Mean runtime heatmap (log10 seconds)' if log else 'Mean runtime heatmap (seconds)')\n",
    "    fig.colorbar(im, ax=ax, label=('log10(s)' if log else 's'))\n",
    "    plt.tight_layout()\n",
    "    if savepath:\n",
    "        plt.savefig(savepath, dpi=300, bbox_inches='tight')\n",
    "    plt.show()"
   ],
   "metadata": {
    "collapsed": false,
    "ExecuteTime": {
     "end_time": "2025-10-08T04:49:18.728108Z",
     "start_time": "2025-10-08T04:49:18.715784Z"
    }
   },
   "id": "52a40749a2b44bd5",
   "execution_count": 18
  },
  {
   "cell_type": "code",
   "outputs": [
    {
     "data": {
      "text/plain": "<Figure size 1000x500 with 1 Axes>",
      "image/png": "[encoded data removed]"
     },
     "metadata": {},
     "output_type": "display_data"
    }
   ],
   "source": [
    "plot_grouped_bars(dfp, logy=True,savepath=f\"{cwd}/100taxa_diff_trees_1M_sites_AA_grouped_bars_log.png\")"
   ],
   "metadata": {
    "collapsed": false,
    "ExecuteTime": {
     "end_time": "2025-10-08T04:49:19.747171Z",
     "start_time": "2025-10-08T04:49:18.729709Z"
    }
   },
   "id": "ba038d00ab5c528b",
   "execution_count": 19
  },
  {
   "cell_type": "code",
   "outputs": [
    {
     "data": {
      "text/plain": "<Figure size 1000x500 with 1 Axes>",
      "image/png": "[encoded data removed]"
     },
     "metadata": {},
     "output_type": "display_data"
    }
   ],
   "source": [
    "plot_grouped_bars(dfp, logy=False, savepath=f\"{cwd}/100taxa_diff_trees_1M_sites_AA_grouped_bars_linear.png\")\n"
   ],
   "metadata": {
    "collapsed": false,
    "ExecuteTime": {
     "end_time": "2025-10-08T04:49:20.165844Z",
     "start_time": "2025-10-08T04:49:19.749558Z"
    }
   },
   "id": "68251e99ff36e09c",
   "execution_count": 20
  },
  {
   "cell_type": "code",
   "outputs": [],
   "source": [],
   "metadata": {
    "collapsed": false,
    "ExecuteTime": {
     "end_time": "2025-10-08T04:49:20.167634Z",
     "start_time": "2025-10-08T04:49:20.166500Z"
    }
   },
   "id": "60d5e132d900c6b5",
   "execution_count": 20
  }
 ],
 "metadata": {
  "kernelspec": {
   "display_name": "Python 3",
   "language": "python",
   "name": "python3"
  },
  "language_info": {
   "codemirror_mode": {
    "name": "ipython",
    "version": 2
   },
   "file_extension": ".py",
   "mimetype": "text/x-python",
   "name": "python",
   "nbconvert_exporter": "python",
   "pygments_lexer": "ipython2",
   "version": "2.7.6"
  }
 },
 "nbformat": 4,
 "nbformat_minor": 5
}
