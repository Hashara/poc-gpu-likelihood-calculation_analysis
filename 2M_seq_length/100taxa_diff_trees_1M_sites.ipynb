{
 "cells": [
  {
   "cell_type": "code",
   "outputs": [],
   "source": [
    "import os\n",
    "import re\n",
    "import csv\n",
    "import numpy as np\n"
   ],
   "metadata": {
    "collapsed": false,
    "ExecuteTime": {
     "end_time": "2025-10-08T04:56:53.964631Z",
     "start_time": "2025-10-08T04:56:53.956205Z"
    }
   },
   "id": "79517fe647b4eabc",
   "execution_count": 20
  },
  {
   "cell_type": "code",
   "outputs": [],
   "source": [
    "cwd = os.getcwd()"
   ],
   "metadata": {
    "collapsed": false,
    "ExecuteTime": {
     "end_time": "2025-10-08T04:56:53.991429Z",
     "start_time": "2025-10-08T04:56:53.988785Z"
    }
   },
   "id": "18274dc4b3008cf8",
   "execution_count": 21
  },
  {
   "cell_type": "markdown",
   "source": [],
   "metadata": {
    "collapsed": false
   },
   "id": "a7c6d7f5e1dc79ec"
  },
  {
   "cell_type": "markdown",
   "source": [
    "# preapre CSV"
   ],
   "metadata": {
    "collapsed": false
   },
   "id": "43a97ce4ed941acb"
  },
  {
   "cell_type": "code",
   "outputs": [],
   "source": [],
   "metadata": {
    "collapsed": false,
    "ExecuteTime": {
     "end_time": "2025-10-08T04:56:53.993738Z",
     "start_time": "2025-10-08T04:56:53.992458Z"
    }
   },
   "id": "f26d57b5c68e8a70",
   "execution_count": 21
  },
  {
   "cell_type": "code",
   "outputs": [],
   "source": [
    "results_path = \"/Users/u7826985/Projects/Nvidia/results/2M_seq_length/100taxa_diff_trees_2M_sites\"\n",
    "output_csv = f\"{results_path}/results.csv\""
   ],
   "metadata": {
    "collapsed": false,
    "ExecuteTime": {
     "end_time": "2025-10-08T04:56:53.996496Z",
     "start_time": "2025-10-08T04:56:53.994836Z"
    }
   },
   "id": "c8ab120169e7a438",
   "execution_count": 22
  },
  {
   "cell_type": "code",
   "outputs": [],
   "source": [
    "# Regex to capture the RESULT line\n",
    "pattern = re.compile(\n",
    "    r\"\\[RESULT\\]\\s*backend=(\\w+)\\s+taxa=(\\d+)\\s+sites=(\\d+)\\s+patterns=(\\d+)\\s+time=([\\d\\.e\\+\\-]+)s\\s+likelihood=([\\-.\\deE]+)\"\n",
    ")\n"
   ],
   "metadata": {
    "collapsed": false,
    "ExecuteTime": {
     "end_time": "2025-10-08T04:56:53.998850Z",
     "start_time": "2025-10-08T04:56:53.997366Z"
    }
   },
   "id": "1f142dcf860868a5",
   "execution_count": 23
  },
  {
   "cell_type": "code",
   "outputs": [],
   "source": [
    "data = []"
   ],
   "metadata": {
    "collapsed": false,
    "ExecuteTime": {
     "end_time": "2025-10-08T04:56:54.001962Z",
     "start_time": "2025-10-08T04:56:53.999814Z"
    }
   },
   "id": "71e17de7c778da98",
   "execution_count": 24
  },
  {
   "cell_type": "code",
   "outputs": [],
   "source": [
    "#read files in results_path\n",
    "\n",
    "def read_files_in_directory(directory):\n",
    "    for i in range(1, 11):\n",
    "        tree_folder = f\"{directory}/tree_{i}\"\n",
    "        files = os.listdir(tree_folder)\n",
    "        for file in files:\n",
    "            if file.endswith('.txt'):\n",
    "                print(f\"Reading file: {file}\")\n",
    "                with open(f'{tree_folder}/{file}', 'r') as f:\n",
    "                    #get treefile name from the txt file name\n",
    "                    tree_file_name = file.split(\"_\")[3] + \"_\" + file.split(\"_\")[4]\n",
    "                    # detect file name contains \"a100\"\n",
    "                    a100 = False\n",
    "                    transposed = False\n",
    "                    if \"a100\" in file:\n",
    "                        a100 = True\n",
    "    \n",
    "                \n",
    "                    if \"transpose\" in file:\n",
    "                        transposed = True\n",
    "                        \n",
    "                        \n",
    "                    for line in f:\n",
    "                        match = pattern.search(line)\n",
    "                        if match:\n",
    "                            backend, taxa, sites, patterns, time, likelihood = match.groups()\n",
    "                            if a100:\n",
    "                                backend += \"_A100\"\n",
    "                            else:\n",
    "                                backend += \"_V100\"\n",
    "                            if transposed:\n",
    "                                continue\n",
    "                                # backend += \"_transposed\"\n",
    "                                \n",
    "                            if taxa != \"100\":\n",
    "                                continue\n",
    "                            data.append([backend, taxa, sites, patterns, likelihood, time, tree_file_name])\n",
    "    \n",
    "                            # Write to CSV\n",
    "                            # with open(output_csv, 'w', newline='') as csvfile:\n",
    "                            #     writer = csv.writer(csvfile)\n",
    "                            #     writer.writerow([\"backend\", \"taxa\", \"sites\", \"patterns\", \"likelihood\", \"time\"])\n",
    "                            #     writer.writerows(data)\n",
    "\n",
    "    print(f\"Extracted {len(data)} results to {output_csv}\")\n",
    "\n"
   ],
   "metadata": {
    "collapsed": false,
    "ExecuteTime": {
     "end_time": "2025-10-08T04:56:54.006647Z",
     "start_time": "2025-10-08T04:56:54.002615Z"
    }
   },
   "id": "724695c99da28d7",
   "execution_count": 25
  },
  {
   "cell_type": "code",
   "outputs": [
    {
     "name": "stdout",
     "output_type": "stream",
     "text": [
      "Reading file: output_run_ci_tree_1_2000000_dna_openacc_transpose_a100.txt\n",
      "Reading file: output_run_ci_tree_1_2000000_dna_openacc_a100.txt\n",
      "Reading file: output_run_ci_tree_1_2000000_dna_openacc_v100.txt\n",
      "Reading file: output_run_ci_tree_1_2000000_dna_openacc_transpose_v100.txt\n",
      "Reading file: output_run_ci_tree_2_2000000_dna_openacc_transpose_a100.txt\n",
      "Reading file: output_run_ci_tree_2_2000000_dna_openacc_a100.txt\n",
      "Reading file: output_run_ci_tree_2_2000000_dna_openacc_transpose_v100.txt\n",
      "Reading file: output_run_ci_tree_2_2000000_dna_openacc_v100.txt\n",
      "Reading file: output_run_ci_tree_3_2000000_dna_openacc_v100.txt\n",
      "Reading file: output_run_ci_tree_3_2000000_dna_openacc_transpose_v100.txt\n",
      "Reading file: output_run_ci_tree_3_2000000_dna_openacc_a100.txt\n",
      "Reading file: output_run_ci_tree_3_2000000_dna_openacc_transpose_a100.txt\n",
      "Reading file: output_run_ci_tree_4_2000000_dna_openacc_transpose_a100.txt\n",
      "Reading file: output_run_ci_tree_4_2000000_dna_openacc_a100.txt\n",
      "Reading file: output_run_ci_tree_4_2000000_dna_openacc_transpose_v100.txt\n",
      "Reading file: output_run_ci_tree_4_2000000_dna_openacc_v100.txt\n",
      "Reading file: output_run_ci_tree_5_2000000_dna_openacc_v100.txt\n",
      "Reading file: output_run_ci_tree_5_2000000_dna_openacc_transpose_v100.txt\n",
      "Reading file: output_run_ci_tree_5_2000000_dna_openacc_a100.txt\n",
      "Reading file: output_run_ci_tree_5_2000000_dna_openacc_transpose_a100.txt\n",
      "Reading file: output_run_ci_tree_6_2000000_dna_openacc_v100.txt\n",
      "Reading file: output_run_ci_tree_6_2000000_dna_openacc_transpose_v100.txt\n",
      "Reading file: output_run_ci_tree_6_2000000_dna_openacc_a100.txt\n",
      "Reading file: output_run_ci_tree_6_2000000_dna_openacc_transpose_a100.txt\n",
      "Reading file: output_run_ci_tree_7_2000000_dna_openacc_transpose_a100.txt\n",
      "Reading file: output_run_ci_tree_7_2000000_dna_openacc_a100.txt\n",
      "Reading file: output_run_ci_tree_7_2000000_dna_openacc_transpose_v100.txt\n",
      "Reading file: output_run_ci_tree_7_2000000_dna_openacc_v100.txt\n",
      "Reading file: output_run_ci_tree_8_2000000_dna_openacc_v100.txt\n",
      "Reading file: output_run_ci_tree_8_2000000_dna_openacc_transpose_a100.txt\n",
      "Reading file: output_run_ci_tree_8_2000000_dna_openacc_a100.txt\n",
      "Reading file: output_run_ci_tree_8_2000000_dna_openacc_transpose_v100.txt\n",
      "Reading file: output_run_ci_tree_9_2000000_dna_openacc_transpose_v100.txt\n",
      "Reading file: output_run_ci_tree_9_2000000_dna_openacc_a100.txt\n",
      "Reading file: output_run_ci_tree_9_2000000_dna_openacc_transpose_a100.txt\n",
      "Reading file: output_run_ci_tree_9_2000000_dna_openacc_v100.txt\n",
      "Reading file: output_run_ci_tree_10_2000000_dna_openacc_transpose_v100.txt\n",
      "Reading file: output_run_ci_tree_10_2000000_dna_openacc_a100.txt\n",
      "Reading file: output_run_ci_tree_10_2000000_dna_openacc_transpose_a100.txt\n",
      "Reading file: output_run_ci_tree_10_2000000_dna_openacc_v100.txt\n",
      "Extracted 20 results to /Users/u7826985/Projects/Nvidia/results/2M_seq_length/100taxa_diff_trees_2M_sites/results.csv\n"
     ]
    }
   ],
   "source": [
    "read_files_in_directory(results_path)"
   ],
   "metadata": {
    "collapsed": false,
    "ExecuteTime": {
     "end_time": "2025-10-08T04:56:54.149108Z",
     "start_time": "2025-10-08T04:56:54.007702Z"
    }
   },
   "id": "db15b671bb21e899",
   "execution_count": 26
  },
  {
   "cell_type": "code",
   "outputs": [
    {
     "name": "stdout",
     "output_type": "stream",
     "text": [
      "[['OPENACC_A100', '100', '2000000', '2000000', '-132345634.701168358325958', '2.345983196000000', 'tree_1'], ['OPENACC_V100', '100', '2000000', '2000000', '-132345634.701168358325958', '2.289548609000000', 'tree_1'], ['OPENACC_A100', '100', '2000000', '2000000', '-131343860.174020618200302', '2.162819484000000', 'tree_2'], ['OPENACC_V100', '100', '2000000', '2000000', '-131343860.174020618200302', '2.303691496000000', 'tree_2'], ['OPENACC_V100', '100', '2000000', '2000000', '-141626893.066460639238358', '2.303872275000000', 'tree_3'], ['OPENACC_A100', '100', '2000000', '2000000', '-141626893.066460639238358', '2.400999254000000', 'tree_3'], ['OPENACC_A100', '100', '2000000', '2000000', '-143458324.303953170776367', '2.269567162000000', 'tree_4'], ['OPENACC_V100', '100', '2000000', '2000000', '-143458324.303953170776367', '2.276658967000000', 'tree_4'], ['OPENACC_V100', '100', '2000000', '2000000', '-134025568.626553162932396', '2.300958534000000', 'tree_5'], ['OPENACC_A100', '100', '2000000', '2000000', '-134025568.626553162932396', '2.160994228000000', 'tree_5'], ['OPENACC_V100', '100', '2000000', '2000000', '-132626125.987056776881218', '2.283075744000000', 'tree_6'], ['OPENACC_A100', '100', '2000000', '2000000', '-132626125.987056776881218', '2.161067165000000', 'tree_6'], ['OPENACC_A100', '100', '2000000', '2000000', '-138033558.031308889389038', '2.379959492000000', 'tree_7'], ['OPENACC_V100', '100', '2000000', '2000000', '-138033558.031308889389038', '2.253984059000000', 'tree_7'], ['OPENACC_V100', '100', '2000000', '2000000', '-142227538.223726809024811', '2.261348846000000', 'tree_8'], ['OPENACC_A100', '100', '2000000', '2000000', '-142227538.223726809024811', '2.138586723000000', 'tree_8'], ['OPENACC_A100', '100', '2000000', '2000000', '-128284821.335627615451813', '2.496870619000000', 'tree_9'], ['OPENACC_V100', '100', '2000000', '2000000', '-128284821.335627615451813', '2.279236458000000', 'tree_9'], ['OPENACC_A100', '100', '2000000', '2000000', '-124940125.502499371767044', '2.159876559000000', 'tree_10'], ['OPENACC_V100', '100', '2000000', '2000000', '-124940125.502499371767044', '2.329480850000000', 'tree_10']]\n"
     ]
    }
   ],
   "source": [
    "print(data)"
   ],
   "metadata": {
    "collapsed": false,
    "ExecuteTime": {
     "end_time": "2025-10-08T04:56:54.151345Z",
     "start_time": "2025-10-08T04:56:54.149767Z"
    }
   },
   "id": "498c834b16e9669d",
   "execution_count": 27
  },
  {
   "cell_type": "code",
   "outputs": [],
   "source": [
    "alignment_pattern = re.compile(r\"Alignment has (\\d+) sequences with (\\d+) columns, (\\d+) distinct patterns\")\n",
    "likelihood_pattern = re.compile(r\"Initial log-likelihood:\\s+([-0-9.]+).*?took ([0-9.]+) wall-clock sec\")\n",
    "\n",
    "# Data list\n",
    "# data = []\n"
   ],
   "metadata": {
    "collapsed": false,
    "ExecuteTime": {
     "end_time": "2025-10-08T04:56:54.154321Z",
     "start_time": "2025-10-08T04:56:54.152713Z"
    }
   },
   "id": "55d38ba2aedf4ac9",
   "execution_count": 28
  },
  {
   "cell_type": "code",
   "outputs": [],
   "source": [
    "# add iqtree results\n",
    "iqtree_results_path = results_path\n",
    "\n",
    "def read_iqtree_results(directory):\n",
    "    for i in range(1, 11):\n",
    "        tree_folder = f\"{directory}/tree_{i}\"\n",
    "        files = os.listdir(tree_folder)\n",
    "        for file in files:\n",
    "            if file.endswith('iqtree.log'):\n",
    "                print(f\"Reading IQ-TREE file: {file}\")\n",
    "                with open(f'{tree_folder}/{file}', 'r') as f:\n",
    "                    tree_file_name = file.split(\"_\")[3] + \"_\" + file.split(\"_\")[4]\n",
    "                    content = f.read()\n",
    "            \n",
    "                    # Extract alignment info\n",
    "                    aln_match = alignment_pattern.search(content)\n",
    "                    ll_match = likelihood_pattern.search(content)\n",
    "                    \n",
    "                    if aln_match and ll_match:\n",
    "                        taxa = int(aln_match.group(1))\n",
    "                        sites = int(aln_match.group(2))\n",
    "                        patterns = int(aln_match.group(3))\n",
    "                        likelihood = float(ll_match.group(1))\n",
    "                        time = float(ll_match.group(2))\n",
    "                        \n",
    "                        data.append([\"IQ-TREE_SIMD\", taxa, sites, patterns, likelihood, time, tree_file_name])\n",
    "\n",
    "\n",
    "\n",
    "    print(f\"Extracted {len(data)} IQ-TREE results to {output_csv}\")"
   ],
   "metadata": {
    "collapsed": false,
    "ExecuteTime": {
     "end_time": "2025-10-08T04:56:54.158402Z",
     "start_time": "2025-10-08T04:56:54.154938Z"
    }
   },
   "id": "d50828e8bf1138ac",
   "execution_count": 29
  },
  {
   "cell_type": "code",
   "outputs": [
    {
     "name": "stdout",
     "output_type": "stream",
     "text": [
      "Reading IQ-TREE file: output_run_ci_tree_1_2000000_iqtree.log\n",
      "Reading IQ-TREE file: output_run_ci_tree_2_2000000_iqtree.log\n",
      "Reading IQ-TREE file: output_run_ci_tree_3_2000000_iqtree.log\n",
      "Reading IQ-TREE file: output_run_ci_tree_4_2000000_iqtree.log\n",
      "Reading IQ-TREE file: output_run_ci_tree_5_2000000_iqtree.log\n",
      "Reading IQ-TREE file: output_run_ci_tree_6_2000000_iqtree.log\n",
      "Reading IQ-TREE file: output_run_ci_tree_7_2000000_iqtree.log\n",
      "Reading IQ-TREE file: output_run_ci_tree_8_2000000_iqtree.log\n",
      "Reading IQ-TREE file: output_run_ci_tree_9_2000000_iqtree.log\n",
      "Reading IQ-TREE file: output_run_ci_tree_10_2000000_iqtree.log\n",
      "Extracted 30 IQ-TREE results to /Users/u7826985/Projects/Nvidia/results/2M_seq_length/100taxa_diff_trees_2M_sites/results.csv\n"
     ]
    }
   ],
   "source": [
    "read_iqtree_results(iqtree_results_path)"
   ],
   "metadata": {
    "collapsed": false,
    "ExecuteTime": {
     "end_time": "2025-10-08T04:56:54.195088Z",
     "start_time": "2025-10-08T04:56:54.159152Z"
    }
   },
   "id": "7c7d82559575ebbb",
   "execution_count": 30
  },
  {
   "cell_type": "code",
   "outputs": [
    {
     "name": "stdout",
     "output_type": "stream",
     "text": [
      "[['OPENACC_A100', '100', '2000000', '2000000', '-132345634.701168358325958', '2.345983196000000', 'tree_1'], ['OPENACC_V100', '100', '2000000', '2000000', '-132345634.701168358325958', '2.289548609000000', 'tree_1'], ['OPENACC_A100', '100', '2000000', '2000000', '-131343860.174020618200302', '2.162819484000000', 'tree_2'], ['OPENACC_V100', '100', '2000000', '2000000', '-131343860.174020618200302', '2.303691496000000', 'tree_2'], ['OPENACC_V100', '100', '2000000', '2000000', '-141626893.066460639238358', '2.303872275000000', 'tree_3'], ['OPENACC_A100', '100', '2000000', '2000000', '-141626893.066460639238358', '2.400999254000000', 'tree_3'], ['OPENACC_A100', '100', '2000000', '2000000', '-143458324.303953170776367', '2.269567162000000', 'tree_4'], ['OPENACC_V100', '100', '2000000', '2000000', '-143458324.303953170776367', '2.276658967000000', 'tree_4'], ['OPENACC_V100', '100', '2000000', '2000000', '-134025568.626553162932396', '2.300958534000000', 'tree_5'], ['OPENACC_A100', '100', '2000000', '2000000', '-134025568.626553162932396', '2.160994228000000', 'tree_5'], ['OPENACC_V100', '100', '2000000', '2000000', '-132626125.987056776881218', '2.283075744000000', 'tree_6'], ['OPENACC_A100', '100', '2000000', '2000000', '-132626125.987056776881218', '2.161067165000000', 'tree_6'], ['OPENACC_A100', '100', '2000000', '2000000', '-138033558.031308889389038', '2.379959492000000', 'tree_7'], ['OPENACC_V100', '100', '2000000', '2000000', '-138033558.031308889389038', '2.253984059000000', 'tree_7'], ['OPENACC_V100', '100', '2000000', '2000000', '-142227538.223726809024811', '2.261348846000000', 'tree_8'], ['OPENACC_A100', '100', '2000000', '2000000', '-142227538.223726809024811', '2.138586723000000', 'tree_8'], ['OPENACC_A100', '100', '2000000', '2000000', '-128284821.335627615451813', '2.496870619000000', 'tree_9'], ['OPENACC_V100', '100', '2000000', '2000000', '-128284821.335627615451813', '2.279236458000000', 'tree_9'], ['OPENACC_A100', '100', '2000000', '2000000', '-124940125.502499371767044', '2.159876559000000', 'tree_10'], ['OPENACC_V100', '100', '2000000', '2000000', '-124940125.502499371767044', '2.329480850000000', 'tree_10'], ['IQ-TREE_SIMD', 100, 2000000, 2000000, -132345634.701, 3.892, 'tree_1'], ['IQ-TREE_SIMD', 100, 2000000, 2000000, -131343860.174, 3.912, 'tree_2'], ['IQ-TREE_SIMD', 100, 2000000, 2000000, -141626893.066, 3.868, 'tree_3'], ['IQ-TREE_SIMD', 100, 2000000, 2000000, -143458324.304, 3.936, 'tree_4'], ['IQ-TREE_SIMD', 100, 2000000, 2000000, -134025568.627, 3.92, 'tree_5'], ['IQ-TREE_SIMD', 100, 2000000, 2000000, -132626125.987, 3.946, 'tree_6'], ['IQ-TREE_SIMD', 100, 2000000, 2000000, -138033558.031, 3.893, 'tree_7'], ['IQ-TREE_SIMD', 100, 2000000, 2000000, -142227538.224, 3.912, 'tree_8'], ['IQ-TREE_SIMD', 100, 2000000, 2000000, -128284821.336, 3.911, 'tree_9'], ['IQ-TREE_SIMD', 100, 2000000, 2000000, -124940125.502, 3.982, 'tree_10']]\n"
     ]
    }
   ],
   "source": [
    "print(data)"
   ],
   "metadata": {
    "collapsed": false,
    "ExecuteTime": {
     "end_time": "2025-10-08T04:56:54.197855Z",
     "start_time": "2025-10-08T04:56:54.195796Z"
    }
   },
   "id": "e5fad9e3ad2d1cc0",
   "execution_count": 31
  },
  {
   "cell_type": "code",
   "outputs": [],
   "source": [
    "# Write to CSV\n",
    "with open(output_csv, 'w', newline='') as csvfile:\n",
    "    writer = csv.writer(csvfile)\n",
    "    writer.writerow([\"backend\", \"taxa\", \"sites\", \"patterns\", \"likelihood\", \"time\",\"treefile\"])\n",
    "    writer.writerows(data)"
   ],
   "metadata": {
    "collapsed": false,
    "ExecuteTime": {
     "end_time": "2025-10-08T04:56:54.205830Z",
     "start_time": "2025-10-08T04:56:54.198756Z"
    }
   },
   "id": "ba9439bf6c805ffc",
   "execution_count": 32
  },
  {
   "cell_type": "markdown",
   "source": [
    "# Analysis of Results"
   ],
   "metadata": {
    "collapsed": false
   },
   "id": "5d212e0e49be55f"
  },
  {
   "cell_type": "code",
   "outputs": [],
   "source": [
    "import pandas as pd\n",
    "import matplotlib.pyplot as plt\n"
   ],
   "metadata": {
    "collapsed": false,
    "ExecuteTime": {
     "end_time": "2025-10-08T04:56:54.210131Z",
     "start_time": "2025-10-08T04:56:54.207581Z"
    }
   },
   "id": "6a961dfb130793a",
   "execution_count": 33
  },
  {
   "cell_type": "code",
   "outputs": [
    {
     "data": {
      "text/plain": "        backend  taxa    sites  patterns    likelihood      time treefile\n0  OPENACC_A100   100  2000000   2000000 -1.323456e+08  2.345983   tree_1\n1  OPENACC_V100   100  2000000   2000000 -1.323456e+08  2.289549   tree_1\n2  OPENACC_A100   100  2000000   2000000 -1.313439e+08  2.162819   tree_2\n3  OPENACC_V100   100  2000000   2000000 -1.313439e+08  2.303691   tree_2\n4  OPENACC_V100   100  2000000   2000000 -1.416269e+08  2.303872   tree_3",
      "text/html": "<div>\n<style scoped>\n    .dataframe tbody tr th:only-of-type {\n        vertical-align: middle;\n    }\n\n    .dataframe tbody tr th {\n        vertical-align: top;\n    }\n\n    .dataframe thead th {\n        text-align: right;\n    }\n</style>\n<table border=\"1\" class=\"dataframe\">\n  <thead>\n    <tr style=\"text-align: right;\">\n      <th></th>\n      <th>backend</th>\n      <th>taxa</th>\n      <th>sites</th>\n      <th>patterns</th>\n      <th>likelihood</th>\n      <th>time</th>\n      <th>treefile</th>\n    </tr>\n  </thead>\n  <tbody>\n    <tr>\n      <th>0</th>\n      <td>OPENACC_A100</td>\n      <td>100</td>\n      <td>2000000</td>\n      <td>2000000</td>\n      <td>-1.323456e+08</td>\n      <td>2.345983</td>\n      <td>tree_1</td>\n    </tr>\n    <tr>\n      <th>1</th>\n      <td>OPENACC_V100</td>\n      <td>100</td>\n      <td>2000000</td>\n      <td>2000000</td>\n      <td>-1.323456e+08</td>\n      <td>2.289549</td>\n      <td>tree_1</td>\n    </tr>\n    <tr>\n      <th>2</th>\n      <td>OPENACC_A100</td>\n      <td>100</td>\n      <td>2000000</td>\n      <td>2000000</td>\n      <td>-1.313439e+08</td>\n      <td>2.162819</td>\n      <td>tree_2</td>\n    </tr>\n    <tr>\n      <th>3</th>\n      <td>OPENACC_V100</td>\n      <td>100</td>\n      <td>2000000</td>\n      <td>2000000</td>\n      <td>-1.313439e+08</td>\n      <td>2.303691</td>\n      <td>tree_2</td>\n    </tr>\n    <tr>\n      <th>4</th>\n      <td>OPENACC_V100</td>\n      <td>100</td>\n      <td>2000000</td>\n      <td>2000000</td>\n      <td>-1.416269e+08</td>\n      <td>2.303872</td>\n      <td>tree_3</td>\n    </tr>\n  </tbody>\n</table>\n</div>"
     },
     "execution_count": 34,
     "metadata": {},
     "output_type": "execute_result"
    }
   ],
   "source": [
    "# Read the CSV file into a DataFrame\n",
    "df = pd.read_csv(output_csv)\n",
    "# Display the first few rows of the DataFrame\n",
    "df.head()"
   ],
   "metadata": {
    "collapsed": false,
    "ExecuteTime": {
     "end_time": "2025-10-08T04:56:54.220657Z",
     "start_time": "2025-10-08T04:56:54.210721Z"
    }
   },
   "id": "fed832d4002e35d4",
   "execution_count": 34
  },
  {
   "cell_type": "code",
   "outputs": [
    {
     "data": {
      "text/plain": "         backend  taxa    sites  patterns    likelihood      time treefile\n0   OPENACC_A100   100  2000000   2000000 -1.323456e+08  2.345983   tree_1\n1   OPENACC_V100   100  2000000   2000000 -1.323456e+08  2.289549   tree_1\n2   OPENACC_A100   100  2000000   2000000 -1.313439e+08  2.162819   tree_2\n3   OPENACC_V100   100  2000000   2000000 -1.313439e+08  2.303691   tree_2\n4   OPENACC_V100   100  2000000   2000000 -1.416269e+08  2.303872   tree_3\n5   OPENACC_A100   100  2000000   2000000 -1.416269e+08  2.400999   tree_3\n6   OPENACC_A100   100  2000000   2000000 -1.434583e+08  2.269567   tree_4\n7   OPENACC_V100   100  2000000   2000000 -1.434583e+08  2.276659   tree_4\n8   OPENACC_V100   100  2000000   2000000 -1.340256e+08  2.300959   tree_5\n9   OPENACC_A100   100  2000000   2000000 -1.340256e+08  2.160994   tree_5\n10  OPENACC_V100   100  2000000   2000000 -1.326261e+08  2.283076   tree_6\n11  OPENACC_A100   100  2000000   2000000 -1.326261e+08  2.161067   tree_6\n12  OPENACC_A100   100  2000000   2000000 -1.380336e+08  2.379959   tree_7\n13  OPENACC_V100   100  2000000   2000000 -1.380336e+08  2.253984   tree_7\n14  OPENACC_V100   100  2000000   2000000 -1.422275e+08  2.261349   tree_8\n15  OPENACC_A100   100  2000000   2000000 -1.422275e+08  2.138587   tree_8\n16  OPENACC_A100   100  2000000   2000000 -1.282848e+08  2.496871   tree_9\n17  OPENACC_V100   100  2000000   2000000 -1.282848e+08  2.279236   tree_9\n18  OPENACC_A100   100  2000000   2000000 -1.249401e+08  2.159877  tree_10\n19  OPENACC_V100   100  2000000   2000000 -1.249401e+08  2.329481  tree_10\n20  IQ-TREE_SIMD   100  2000000   2000000 -1.323456e+08  3.892000   tree_1\n21  IQ-TREE_SIMD   100  2000000   2000000 -1.313439e+08  3.912000   tree_2\n22  IQ-TREE_SIMD   100  2000000   2000000 -1.416269e+08  3.868000   tree_3\n23  IQ-TREE_SIMD   100  2000000   2000000 -1.434583e+08  3.936000   tree_4\n24  IQ-TREE_SIMD   100  2000000   2000000 -1.340256e+08  3.920000   tree_5\n25  IQ-TREE_SIMD   100  2000000   2000000 -1.326261e+08  3.946000   tree_6\n26  IQ-TREE_SIMD   100  2000000   2000000 -1.380336e+08  3.893000   tree_7\n27  IQ-TREE_SIMD   100  2000000   2000000 -1.422275e+08  3.912000   tree_8\n28  IQ-TREE_SIMD   100  2000000   2000000 -1.282848e+08  3.911000   tree_9\n29  IQ-TREE_SIMD   100  2000000   2000000 -1.249401e+08  3.982000  tree_10",
      "text/html": "<div>\n<style scoped>\n    .dataframe tbody tr th:only-of-type {\n        vertical-align: middle;\n    }\n\n    .dataframe tbody tr th {\n        vertical-align: top;\n    }\n\n    .dataframe thead th {\n        text-align: right;\n    }\n</style>\n<table border=\"1\" class=\"dataframe\">\n  <thead>\n    <tr style=\"text-align: right;\">\n      <th></th>\n      <th>backend</th>\n      <th>taxa</th>\n      <th>sites</th>\n      <th>patterns</th>\n      <th>likelihood</th>\n      <th>time</th>\n      <th>treefile</th>\n    </tr>\n  </thead>\n  <tbody>\n    <tr>\n      <th>0</th>\n      <td>OPENACC_A100</td>\n      <td>100</td>\n      <td>2000000</td>\n      <td>2000000</td>\n      <td>-1.323456e+08</td>\n      <td>2.345983</td>\n      <td>tree_1</td>\n    </tr>\n    <tr>\n      <th>1</th>\n      <td>OPENACC_V100</td>\n      <td>100</td>\n      <td>2000000</td>\n      <td>2000000</td>\n      <td>-1.323456e+08</td>\n      <td>2.289549</td>\n      <td>tree_1</td>\n    </tr>\n    <tr>\n      <th>2</th>\n      <td>OPENACC_A100</td>\n      <td>100</td>\n      <td>2000000</td>\n      <td>2000000</td>\n      <td>-1.313439e+08</td>\n      <td>2.162819</td>\n      <td>tree_2</td>\n    </tr>\n    <tr>\n      <th>3</th>\n      <td>OPENACC_V100</td>\n      <td>100</td>\n      <td>2000000</td>\n      <td>2000000</td>\n      <td>-1.313439e+08</td>\n      <td>2.303691</td>\n      <td>tree_2</td>\n    </tr>\n    <tr>\n      <th>4</th>\n      <td>OPENACC_V100</td>\n      <td>100</td>\n      <td>2000000</td>\n      <td>2000000</td>\n      <td>-1.416269e+08</td>\n      <td>2.303872</td>\n      <td>tree_3</td>\n    </tr>\n    <tr>\n      <th>5</th>\n      <td>OPENACC_A100</td>\n      <td>100</td>\n      <td>2000000</td>\n      <td>2000000</td>\n      <td>-1.416269e+08</td>\n      <td>2.400999</td>\n      <td>tree_3</td>\n    </tr>\n    <tr>\n      <th>6</th>\n      <td>OPENACC_A100</td>\n      <td>100</td>\n      <td>2000000</td>\n      <td>2000000</td>\n      <td>-1.434583e+08</td>\n      <td>2.269567</td>\n      <td>tree_4</td>\n    </tr>\n    <tr>\n      <th>7</th>\n      <td>OPENACC_V100</td>\n      <td>100</td>\n      <td>2000000</td>\n      <td>2000000</td>\n      <td>-1.434583e+08</td>\n      <td>2.276659</td>\n      <td>tree_4</td>\n    </tr>\n    <tr>\n      <th>8</th>\n      <td>OPENACC_V100</td>\n      <td>100</td>\n      <td>2000000</td>\n      <td>2000000</td>\n      <td>-1.340256e+08</td>\n      <td>2.300959</td>\n      <td>tree_5</td>\n    </tr>\n    <tr>\n      <th>9</th>\n      <td>OPENACC_A100</td>\n      <td>100</td>\n      <td>2000000</td>\n      <td>2000000</td>\n      <td>-1.340256e+08</td>\n      <td>2.160994</td>\n      <td>tree_5</td>\n    </tr>\n    <tr>\n      <th>10</th>\n      <td>OPENACC_V100</td>\n      <td>100</td>\n      <td>2000000</td>\n      <td>2000000</td>\n      <td>-1.326261e+08</td>\n      <td>2.283076</td>\n      <td>tree_6</td>\n    </tr>\n    <tr>\n      <th>11</th>\n      <td>OPENACC_A100</td>\n      <td>100</td>\n      <td>2000000</td>\n      <td>2000000</td>\n      <td>-1.326261e+08</td>\n      <td>2.161067</td>\n      <td>tree_6</td>\n    </tr>\n    <tr>\n      <th>12</th>\n      <td>OPENACC_A100</td>\n      <td>100</td>\n      <td>2000000</td>\n      <td>2000000</td>\n      <td>-1.380336e+08</td>\n      <td>2.379959</td>\n      <td>tree_7</td>\n    </tr>\n    <tr>\n      <th>13</th>\n      <td>OPENACC_V100</td>\n      <td>100</td>\n      <td>2000000</td>\n      <td>2000000</td>\n      <td>-1.380336e+08</td>\n      <td>2.253984</td>\n      <td>tree_7</td>\n    </tr>\n    <tr>\n      <th>14</th>\n      <td>OPENACC_V100</td>\n      <td>100</td>\n      <td>2000000</td>\n      <td>2000000</td>\n      <td>-1.422275e+08</td>\n      <td>2.261349</td>\n      <td>tree_8</td>\n    </tr>\n    <tr>\n      <th>15</th>\n      <td>OPENACC_A100</td>\n      <td>100</td>\n      <td>2000000</td>\n      <td>2000000</td>\n      <td>-1.422275e+08</td>\n      <td>2.138587</td>\n      <td>tree_8</td>\n    </tr>\n    <tr>\n      <th>16</th>\n      <td>OPENACC_A100</td>\n      <td>100</td>\n      <td>2000000</td>\n      <td>2000000</td>\n      <td>-1.282848e+08</td>\n      <td>2.496871</td>\n      <td>tree_9</td>\n    </tr>\n    <tr>\n      <th>17</th>\n      <td>OPENACC_V100</td>\n      <td>100</td>\n      <td>2000000</td>\n      <td>2000000</td>\n      <td>-1.282848e+08</td>\n      <td>2.279236</td>\n      <td>tree_9</td>\n    </tr>\n    <tr>\n      <th>18</th>\n      <td>OPENACC_A100</td>\n      <td>100</td>\n      <td>2000000</td>\n      <td>2000000</td>\n      <td>-1.249401e+08</td>\n      <td>2.159877</td>\n      <td>tree_10</td>\n    </tr>\n    <tr>\n      <th>19</th>\n      <td>OPENACC_V100</td>\n      <td>100</td>\n      <td>2000000</td>\n      <td>2000000</td>\n      <td>-1.249401e+08</td>\n      <td>2.329481</td>\n      <td>tree_10</td>\n    </tr>\n    <tr>\n      <th>20</th>\n      <td>IQ-TREE_SIMD</td>\n      <td>100</td>\n      <td>2000000</td>\n      <td>2000000</td>\n      <td>-1.323456e+08</td>\n      <td>3.892000</td>\n      <td>tree_1</td>\n    </tr>\n    <tr>\n      <th>21</th>\n      <td>IQ-TREE_SIMD</td>\n      <td>100</td>\n      <td>2000000</td>\n      <td>2000000</td>\n      <td>-1.313439e+08</td>\n      <td>3.912000</td>\n      <td>tree_2</td>\n    </tr>\n    <tr>\n      <th>22</th>\n      <td>IQ-TREE_SIMD</td>\n      <td>100</td>\n      <td>2000000</td>\n      <td>2000000</td>\n      <td>-1.416269e+08</td>\n      <td>3.868000</td>\n      <td>tree_3</td>\n    </tr>\n    <tr>\n      <th>23</th>\n      <td>IQ-TREE_SIMD</td>\n      <td>100</td>\n      <td>2000000</td>\n      <td>2000000</td>\n      <td>-1.434583e+08</td>\n      <td>3.936000</td>\n      <td>tree_4</td>\n    </tr>\n    <tr>\n      <th>24</th>\n      <td>IQ-TREE_SIMD</td>\n      <td>100</td>\n      <td>2000000</td>\n      <td>2000000</td>\n      <td>-1.340256e+08</td>\n      <td>3.920000</td>\n      <td>tree_5</td>\n    </tr>\n    <tr>\n      <th>25</th>\n      <td>IQ-TREE_SIMD</td>\n      <td>100</td>\n      <td>2000000</td>\n      <td>2000000</td>\n      <td>-1.326261e+08</td>\n      <td>3.946000</td>\n      <td>tree_6</td>\n    </tr>\n    <tr>\n      <th>26</th>\n      <td>IQ-TREE_SIMD</td>\n      <td>100</td>\n      <td>2000000</td>\n      <td>2000000</td>\n      <td>-1.380336e+08</td>\n      <td>3.893000</td>\n      <td>tree_7</td>\n    </tr>\n    <tr>\n      <th>27</th>\n      <td>IQ-TREE_SIMD</td>\n      <td>100</td>\n      <td>2000000</td>\n      <td>2000000</td>\n      <td>-1.422275e+08</td>\n      <td>3.912000</td>\n      <td>tree_8</td>\n    </tr>\n    <tr>\n      <th>28</th>\n      <td>IQ-TREE_SIMD</td>\n      <td>100</td>\n      <td>2000000</td>\n      <td>2000000</td>\n      <td>-1.282848e+08</td>\n      <td>3.911000</td>\n      <td>tree_9</td>\n    </tr>\n    <tr>\n      <th>29</th>\n      <td>IQ-TREE_SIMD</td>\n      <td>100</td>\n      <td>2000000</td>\n      <td>2000000</td>\n      <td>-1.249401e+08</td>\n      <td>3.982000</td>\n      <td>tree_10</td>\n    </tr>\n  </tbody>\n</table>\n</div>"
     },
     "execution_count": 35,
     "metadata": {},
     "output_type": "execute_result"
    }
   ],
   "source": [
    "df"
   ],
   "metadata": {
    "collapsed": false,
    "ExecuteTime": {
     "end_time": "2025-10-08T04:56:54.227595Z",
     "start_time": "2025-10-08T04:56:54.221191Z"
    }
   },
   "id": "1474229816d8301c",
   "execution_count": 35
  },
  {
   "cell_type": "code",
   "outputs": [],
   "source": [
    "groups = df.groupby('treefile')"
   ],
   "metadata": {
    "collapsed": false,
    "ExecuteTime": {
     "end_time": "2025-10-08T04:56:54.230781Z",
     "start_time": "2025-10-08T04:56:54.228287Z"
    }
   },
   "id": "9514c7b6a806791d",
   "execution_count": 36
  },
  {
   "cell_type": "code",
   "outputs": [],
   "source": [
    "def _basename(s):\n",
    "    return os.path.basename(str(s))\n",
    "\n",
    "def prepare(df):\n",
    "    out = df.copy()\n",
    "    # standardize column names if needed\n",
    "    cols = {c.lower(): c for c in df.columns}\n",
    "    # Expect columns named like 'tree_file', 'backend', 'time'\n",
    "    # If user had different casing, map it:\n",
    "    def find(colname):\n",
    "        return next((c for c in df.columns if c.lower() == colname), colname)\n",
    "    tree_col = find('treefile')\n",
    "    backend_col = find('backend')\n",
    "    time_col = find('time')\n",
    "\n",
    "    out['treefile'] = out[tree_col].astype(str)\n",
    "    out['backend']   = out[backend_col].astype(str)\n",
    "    out['time']      = pd.to_numeric(out[time_col], errors='coerce')\n",
    "\n",
    "    out['tree_key']  = out['treefile']\n",
    "    # Order tree keys by natural sort on any numbers inside (helps readability)\n",
    "    def _nat_key(s):\n",
    "        return [int(t) if t.isdigit() else t for t in re.split(r'(\\d+)', s)]\n",
    "    tree_order = sorted(out['tree_key'].unique(), key=_nat_key)\n",
    "    out['tree_key'] = pd.Categorical(out['tree_key'], categories=tree_order, ordered=True)\n",
    "\n",
    "    # Optional: order backends (put CPU first, then GPU variants)\n",
    "    backend_order = sorted(out['backend'].unique(), key=lambda b: (('cpu' not in b.lower()), b.lower()))\n",
    "    out['backend'] = pd.Categorical(out['backend'], categories=backend_order, ordered=True)\n",
    "    return out\n",
    "\n",
    "dfp = prepare(df)\n",
    "\n",
    "# --- 1) Grouped bars: mean time per backend for each tree ---------------------\n",
    "def plot_grouped_bars(dfp, logy=True, savepath=None):\n",
    "    pivot = dfp.pivot_table(index='tree_key', columns='backend', values='time', aggfunc='mean')\n",
    "    ax = pivot.plot(kind='bar', figsize=(10, 5))\n",
    "    ax.set_xlabel(\"Tree file\")\n",
    "    ax.set_ylabel(\"Runtime (s)\")\n",
    "    ax.set_title(\"runtime per tree\")\n",
    "    if logy:\n",
    "        ax.set_yscale('log')\n",
    "    ax.legend(title=\"Backend\")\n",
    "    plt.tight_layout()\n",
    "    if savepath:\n",
    "        plt.savefig(savepath, dpi=300, bbox_inches='tight')\n",
    "    plt.show()\n",
    "\n",
    "# --- 2) Dot plot: each run as a point (great with log scale) ------------------\n",
    "def plot_dot(dfp, logy=True, savepath=None):\n",
    "    fig, ax = plt.subplots(figsize=(10, 5))\n",
    "    backends = list(dfp['backend'].cat.categories) if hasattr(dfp['backend'], 'cat') else sorted(dfp['backend'].unique())\n",
    "    x_pos = np.arange(len(backends))\n",
    "\n",
    "    jitter = 0.15\n",
    "    for i, b in enumerate(backends):\n",
    "        y = dfp.loc[dfp['backend'] == b, 'time'].values\n",
    "        x = np.random.uniform(i - jitter, i + jitter, size=len(y))\n",
    "        ax.scatter(x, y, s=18, alpha=0.8)  # no explicit colors\n",
    "    ax.set_xticks(x_pos)\n",
    "    ax.set_xticklabels(backends, rotation=0)\n",
    "    ax.set_xlabel(\"Backend\")\n",
    "    ax.set_ylabel(\"Runtime (s)\")\n",
    "    ax.set_title(\"Per-run runtimes by backend\")\n",
    "    if logy:\n",
    "        ax.set_yscale('log')\n",
    "    ax.grid(True, which='both', axis='y', linestyle='--', alpha=0.4)\n",
    "    plt.tight_layout()\n",
    "    if savepath:\n",
    "        plt.savefig(savepath, dpi=300, bbox_inches='tight')\n",
    "    plt.show()\n",
    "\n",
    "# --- 3) Distribution view: boxplot by backend ---------------------------------\n",
    "def plot_box(dfp, logy=True, savepath=None):\n",
    "    fig, ax = plt.subplots(figsize=(10, 5))\n",
    "    dfp.boxplot(column='time', by='backend', ax=ax)  # default style, no colors set\n",
    "    ax.set_title(\"Runtime distribution by backend\")\n",
    "    ax.set_ylabel(\"Runtime (s)\")\n",
    "    if logy:\n",
    "        ax.set_yscale('log')\n",
    "    plt.suptitle(\"\")  # remove automatic super-title\n",
    "    plt.tight_layout()\n",
    "    if savepath:\n",
    "        plt.savefig(savepath, dpi=300, bbox_inches='tight')\n",
    "    plt.show()\n",
    "\n",
    "# --- 4) Compact heatmap: trees x backends (mean time) -------------------------\n",
    "def plot_heatmap(dfp, log=True, savepath=None):\n",
    "    mat = dfp.pivot_table(index='tree_key', columns='backend', values='time', aggfunc='mean')\n",
    "    data = np.log10(mat.values) if log else mat.values\n",
    "\n",
    "    fig, ax = plt.subplots(figsize=(10, max(4, 0.4*len(mat))))\n",
    "    im = ax.imshow(data, aspect='auto')  # default colormap, no color specified\n",
    "\n",
    "    # ticks / labels\n",
    "    ax.set_yticks(np.arange(mat.shape[0]))\n",
    "    ax.set_yticklabels(mat.index.astype(str))\n",
    "    ax.set_xticks(np.arange(mat.shape[1]))\n",
    "    ax.set_xticklabels(mat.columns.astype(str), rotation=45, ha='right')\n",
    "    ax.set_xlabel('Backend')\n",
    "    ax.set_ylabel('Tree file')\n",
    "    ax.set_title('Mean runtime heatmap (log10 seconds)' if log else 'Mean runtime heatmap (seconds)')\n",
    "    fig.colorbar(im, ax=ax, label=('log10(s)' if log else 's'))\n",
    "    plt.tight_layout()\n",
    "    if savepath:\n",
    "        plt.savefig(savepath, dpi=300, bbox_inches='tight')\n",
    "    plt.show()"
   ],
   "metadata": {
    "collapsed": false,
    "ExecuteTime": {
     "end_time": "2025-10-08T04:56:54.241746Z",
     "start_time": "2025-10-08T04:56:54.231498Z"
    }
   },
   "id": "52a40749a2b44bd5",
   "execution_count": 37
  },
  {
   "cell_type": "code",
   "outputs": [
    {
     "data": {
      "text/plain": "<Figure size 1000x500 with 1 Axes>",
      "image/png": "[encoded data removed]"
     },
     "metadata": {},
     "output_type": "display_data"
    }
   ],
   "source": [
    "plot_grouped_bars(dfp, logy=True, savepath=f\"{cwd}/DNA_100taxa_diff_trees_2M_sites_grouped_bars_log.png\")"
   ],
   "metadata": {
    "collapsed": false,
    "ExecuteTime": {
     "end_time": "2025-10-08T04:56:54.732238Z",
     "start_time": "2025-10-08T04:56:54.242326Z"
    }
   },
   "id": "ba038d00ab5c528b",
   "execution_count": 38
  },
  {
   "cell_type": "code",
   "outputs": [
    {
     "data": {
      "text/plain": "<Figure size 1000x500 with 1 Axes>",
      "image/png": "[encoded data removed]"
     },
     "metadata": {},
     "output_type": "display_data"
    }
   ],
   "source": [
    "plot_grouped_bars(dfp, logy=False, savepath=f\"{cwd}/DNA_100taxa_diff_trees_2M_sites_grouped_bars_linear.png\")\n"
   ],
   "metadata": {
    "collapsed": false,
    "ExecuteTime": {
     "end_time": "2025-10-08T04:56:55.138976Z",
     "start_time": "2025-10-08T04:56:54.733994Z"
    }
   },
   "id": "68251e99ff36e09c",
   "execution_count": 39
  },
  {
   "cell_type": "code",
   "outputs": [],
   "source": [],
   "metadata": {
    "collapsed": false,
    "ExecuteTime": {
     "end_time": "2025-10-08T04:56:55.140962Z",
     "start_time": "2025-10-08T04:56:55.139738Z"
    }
   },
   "id": "60d5e132d900c6b5",
   "execution_count": 39
  }
 ],
 "metadata": {
  "kernelspec": {
   "display_name": "Python 3",
   "language": "python",
   "name": "python3"
  },
  "language_info": {
   "codemirror_mode": {
    "name": "ipython",
    "version": 2
   },
   "file_extension": ".py",
   "mimetype": "text/x-python",
   "name": "python",
   "nbconvert_exporter": "python",
   "pygments_lexer": "ipython2",
   "version": "2.7.6"
  }
 },
 "nbformat": 4,
 "nbformat_minor": 5
}
