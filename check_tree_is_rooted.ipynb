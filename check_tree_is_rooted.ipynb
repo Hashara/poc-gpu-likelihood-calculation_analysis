{
 "cells": [
  {
   "cell_type": "code",
   "execution_count": 1,
   "id": "initial_id",
   "metadata": {
    "collapsed": true,
    "ExecuteTime": {
     "end_time": "2025-09-30T03:31:17.628806Z",
     "start_time": "2025-09-30T03:31:17.073748Z"
    }
   },
   "outputs": [
    {
     "name": "stdout",
     "output_type": "stream",
     "text": [
      "-f: ERROR - [Errno 2] No such file or directory: '-f'\n",
      "kernel-d7c8b523-e66c-439e-adc9-904709af710e.json: unrooted (trifurcating root)\n"
     ]
    }
   ],
   "source": [
    "# detect_rooted_biopython.py\n",
    "# pip install biopython\n",
    "from Bio import Phylo\n",
    "from pathlib import Path\n",
    "import sys\n",
    "import re\n",
    "\n",
    "TAG_ROOTED = re.compile(r\"\\[\\s*&R\\s*\\]\", re.IGNORECASE)\n",
    "TAG_UNROOTED = re.compile(r\"\\[\\s*&U\\s*\\]\", re.IGNORECASE)\n",
    "\n",
    "def detect_from_text(nwk_text: str):\n",
    "    if TAG_ROOTED.search(nwk_text):\n",
    "        return \"rooted (via [&R] tag)\"\n",
    "    if TAG_UNROOTED.search(nwk_text):\n",
    "        return \"unrooted (via [&U] tag)\"\n",
    "    return None  # no explicit tag\n",
    "\n",
    "def detect_file(path: Path) -> str:\n",
    "    text = path.read_text()\n",
    "    tag_guess = detect_from_text(text)\n",
    "\n",
    "    # Parse with Biopython\n",
    "    tree = Phylo.read(path, \"newick\")\n",
    "\n",
    "    # Heuristics:\n",
    "    # - If [&R]/[&U] tag present, trust it.\n",
    "    # - If root has exactly 2 children (bifurcation), very likely rooted.\n",
    "    # - If root has 3+ children, it's typically an unrooted tree represented\n",
    "    #   as a trifurcation (unless explicitly tagged rooted).\n",
    "    if tag_guess:\n",
    "        return tag_guess\n",
    "\n",
    "    root_child_count = len(getattr(tree.root, \"clades\", []))\n",
    "\n",
    "    # Biopython may not always set tree.rooted correctly from Newick,\n",
    "    # but if it does, respect it first.\n",
    "    if getattr(tree, \"rooted\", None) is True:\n",
    "        return \"rooted\"\n",
    "    if getattr(tree, \"rooted\", None) is False and root_child_count >= 3:\n",
    "        return \"unrooted (trifurcating root)\"\n",
    "\n",
    "    if root_child_count == 2:\n",
    "        return \"rooted (binary root)\"\n",
    "    elif root_child_count >= 3:\n",
    "        return \"unrooted (trifurcating root)\"\n",
    "    else:\n",
    "        return \"unknown/edge-case\"\n",
    "\n",
    "def main(paths):\n",
    "    for p in paths:\n",
    "        p = Path(p)\n",
    "        try:\n",
    "            verdict = detect_file(p)\n",
    "            print(f\"{p.name}: {verdict}\")\n",
    "        except Exception as e:\n",
    "            print(f\"{p.name}: ERROR - {e}\")\n",
    "\n",
    "main()\n"
   ]
  },
  {
   "cell_type": "code",
   "outputs": [],
   "source": [],
   "metadata": {
    "collapsed": false
   },
   "id": "b51888018f36de22"
  }
 ],
 "metadata": {
  "kernelspec": {
   "display_name": "Python 3",
   "language": "python",
   "name": "python3"
  },
  "language_info": {
   "codemirror_mode": {
    "name": "ipython",
    "version": 2
   },
   "file_extension": ".py",
   "mimetype": "text/x-python",
   "name": "python",
   "nbconvert_exporter": "python",
   "pygments_lexer": "ipython2",
   "version": "2.7.6"
  }
 },
 "nbformat": 4,
 "nbformat_minor": 5
}
